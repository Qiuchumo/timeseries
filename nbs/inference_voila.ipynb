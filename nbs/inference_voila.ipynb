{
 "cells": [
  {
   "cell_type": "markdown",
   "metadata": {},
   "source": [
    "<a href=\"https://colab.research.google.com/github/ai-fast-track/timeseries/blob/master/nbs/cam_tutorial_ECG200.ipynb\" target=\"_parent\"><img src=\"https://colab.research.google.com/assets/colab-badge.svg\" alt=\"Open In Colab\"/></a>"
   ]
  },
  {
   "cell_type": "markdown",
   "metadata": {},
   "source": [
    "# Inference (Predictions)\n",
    "> Predicting a test dataset for the ECG200 univariate time series dataset using an exported model"
   ]
  },
  {
   "cell_type": "code",
   "execution_count": null,
   "metadata": {},
   "outputs": [
    {
     "name": "stdout",
     "output_type": "stream",
     "text": [
      "The history saving thread hit an unexpected error (DatabaseError('database disk image is malformed',)).History will not be written to the database.\n"
     ]
    }
   ],
   "source": [
    "# !pip install git+https://github.com/fastai/fastai2 \n",
    "# !pip install git+https://github.com/fastai/fastcore \n",
    "# !pip install git+https://github.com/ai-fast-track/timeseries.git"
   ]
  },
  {
   "cell_type": "code",
   "execution_count": null,
   "metadata": {},
   "outputs": [
    {
     "name": "stdout",
     "output_type": "stream",
     "text": "The history saving thread hit an unexpected error (DatabaseError('database disk image is malformed',)).History will not be written to the database.\n"
    }
   ],
   "source": [
    "%reload_ext autoreload\n",
    "%autoreload 2\n",
    "%matplotlib inline"
   ]
  },
  {
   "cell_type": "code",
   "execution_count": null,
   "metadata": {},
   "outputs": [],
   "source": [
    "from fastai2.basics import *"
   ]
  },
  {
   "cell_type": "code",
   "execution_count": null,
   "metadata": {},
   "outputs": [],
   "source": [
    "# hide\n",
    "# Only for Windows users because symlink to `timeseries` folder is not recognized by Windows\n",
    "import sys\n",
    "sys.path.append(\"..\")"
   ]
  },
  {
   "cell_type": "code",
   "execution_count": null,
   "metadata": {},
   "outputs": [],
   "source": [
    "from timeseries.all import *"
   ]
  },
  {
   "cell_type": "code",
   "execution_count": null,
   "metadata": {},
   "outputs": [],
   "source": [
    "from ipywidgets import interact, interactive, IntSlider, Layout\n",
    "import ipywidgets as widgets\n",
    "from IPython.display import display"
   ]
  },
  {
   "cell_type": "markdown",
   "metadata": {},
   "source": [
    "# Cardiologist of Day: Test your skill to detect Myocardial Infarction?\n",
    "> Test your skill in differentiating Normal Heart Beat and Myocardial Infarction (heart attack) signal."
   ]
  },
  {
   "cell_type": "markdown",
   "metadata": {},
   "source": [
    "## ECG Dataset\n",
    "> This dataset was formatted by R. Olszewski as part of his thesis\n",
    "“Generalized feature extraction for structural\tpattern recognition\n",
    "in time-series data,” at Carnegie Mellon University, 2001. Each\n",
    "series traces the electrical activity recorded during one\n",
    "heartbeat. The two classes are a normal heartbeat and a Myocardial\n",
    "Infarction. Cardiac ischemia refers to lack of blood flow and oxygen to the heart muscle. If ischemia is severe or lasts too long, it can cause a heart attack (myocardial infarction) and can lead to heart tissue death. \t\n",
    "\n",
    "![](images/ECG200.png)"
   ]
  },
  {
   "cell_type": "code",
   "execution_count": null,
   "metadata": {},
   "outputs": [],
   "source": [
    "fname = Path('ECG200_TEST.arff')\n",
    "data = TSData.from_arff([fname])\n",
    "items = data.get_items()"
   ]
  },
  {
   "cell_type": "code",
   "execution_count": null,
   "metadata": {},
   "outputs": [],
   "source": [
    "# items[0]"
   ]
  },
  {
   "cell_type": "code",
   "execution_count": null,
   "metadata": {},
   "outputs": [],
   "source": [
    "sample =  data.sample(1)\n",
    "# sample"
   ]
  },
  {
   "cell_type": "code",
   "execution_count": null,
   "metadata": {},
   "outputs": [
    {
     "data": {
      "text/plain": "100"
     },
     "execution_count": null,
     "metadata": {},
     "output_type": "execute_result"
    }
   ],
   "source": [
    "n_samples = data.get_nb_samples()\n",
    "n_samples"
   ]
  },
  {
   "cell_type": "code",
   "execution_count": null,
   "metadata": {},
   "outputs": [],
   "source": [
    "def get_preds(idx):\n",
    "    test_dl = dls.test_dl([items[idx]], with_labels=True)\n",
    "    return (test_dl, learn.get_preds(dl=test_dl))  "
   ]
  },
  {
   "cell_type": "code",
   "execution_count": null,
   "metadata": {},
   "outputs": [],
   "source": [
    "# i2o() function\n",
    "# Converting CategoryTensor label into the human-readable label\n",
    "lbl_dict = dict([\n",
    "    (0, 'Normal Heart Beat'),   \n",
    "    (1, 'Myocardial Infarction')]\n",
    ")\n",
    "def i2o(y):\n",
    "    return lbl_dict.__getitem__(y.data.item())\n",
    "    # return lbl_dict.__getitem__(int(dls.tfms[1][1].decodes(y)))"
   ]
  },
  {
   "cell_type": "code",
   "execution_count": null,
   "metadata": {},
   "outputs": [],
   "source": [
    "def get_preds_and_confidence(preds):\n",
    "    predictions = []\n",
    "    confidences = []\n",
    "    for index, item in enumerate(preds[0]): \n",
    "#         prediction = dls.categorize.decode(np.argmax(item)).upper() \n",
    "        prediction = i2o(np.argmax(item)) \n",
    "        val = float(max(item))*100\n",
    "        percent = round(val, 2) #f'Confidence: {val:.2f}%'\n",
    "        predictions.append(prediction)\n",
    "        confidences.append(percent)\n",
    "#         print(f\"Prediction: {prediction} - Confidence: {percent} - tserie = {test_dl.items[index][1]}\")\n",
    "    return predictions, confidences\n"
   ]
  },
  {
   "cell_type": "code",
   "execution_count": null,
   "metadata": {},
   "outputs": [
    {
     "data": {
      "text/plain": "0"
     },
     "execution_count": null,
     "metadata": {},
     "output_type": "execute_result"
    }
   ],
   "source": [
    "pool_first=True\n",
    "(1,0,2)[pool_first]\n"
   ]
  },
  {
   "cell_type": "code",
   "execution_count": null,
   "metadata": {},
   "outputs": [
    {
     "data": {
      "text/plain": "50"
     },
     "execution_count": null,
     "metadata": {},
     "output_type": "execute_result"
    }
   ],
   "source": [
    "(1,0,50)[2]"
   ]
  },
  {
   "cell_type": "markdown",
   "metadata": {},
   "source": [
    "## Importing a model"
   ]
  },
  {
   "cell_type": "code",
   "execution_count": null,
   "metadata": {},
   "outputs": [],
   "source": [
    "path = Path()\n",
    "path.ls(file_exts='.pkl'), path\n",
    "learn = load_learner(path/'export.pkl')\n",
    "dls = learn.dls"
   ]
  },
  {
   "cell_type": "code",
   "execution_count": null,
   "metadata": {},
   "outputs": [
    {
     "data": {
      "text/plain": "(#2) ['-1','1']"
     },
     "execution_count": null,
     "metadata": {},
     "output_type": "execute_result"
    }
   ],
   "source": [
    "dls.vocab"
   ]
  },
  {
   "cell_type": "code",
   "execution_count": null,
   "metadata": {},
   "outputs": [
    {
     "data": {
      "text/plain": "TensorCategory(1)"
     },
     "execution_count": null,
     "metadata": {},
     "output_type": "execute_result"
    }
   ],
   "source": [
    "# dls.o2i('1')\n",
    "dls.tfms[1][1].encodes('1')"
   ]
  },
  {
   "cell_type": "code",
   "execution_count": null,
   "metadata": {},
   "outputs": [],
   "source": [
    "box_ts = widgets.VBox()\n",
    "box_cam = widgets.VBox()"
   ]
  },
  {
   "cell_type": "code",
   "execution_count": null,
   "metadata": {},
   "outputs": [],
   "source": [
    "out_ts = widgets.Output()\n",
    "out_cam = widgets.Output()\n",
    "# out_ts = box_ts.Output()\n",
    "# out_cam = box_cam.Output()"
   ]
  },
  {
   "cell_type": "code",
   "execution_count": null,
   "metadata": {},
   "outputs": [],
   "source": [
    "def display_sample(idx):\n",
    "    with out_ts:\n",
    "#         out_ts.clear_output()\n",
    "        out_ts.clear_output(wait=True)\n",
    "        ts, label = data[idx]\n",
    "        return show_timeseries(ts, title='Your Guess\\n Confidence', figsize=(8.4,6.45), linewidth=4, color='orange', leg=False)"
   ]
  },
  {
   "cell_type": "code",
   "execution_count": null,
   "metadata": {},
   "outputs": [
    {
     "data": {
      "image/png": "[encoded data removed]",
      "image/svg+xml": "<?xml version=\"1.0\" encoding=\"utf-8\" standalone=\"no\"?>\n<!DOCTYPE svg PUBLIC \"-//W3C//DTD SVG 1.1//EN\"\n  \"http://www.w3.org/Graphics/SVG/1.1/DTD/svg11.dtd\">\n<!-- Created with matplotlib (https://matplotlib.org/) -->\n<svg height=\"410.255625pt\" version=\"1.1\" viewBox=\"0 0 504.862188 410.255625\" width=\"504.862188pt\" xmlns=\"http://www.w3.org/2000/svg\" xmlns:xlink=\"http://www.w3.org/1999/xlink\">\n <defs>\n  <style type=\"text/css\">\n*{stroke-linecap:butt;stroke-linejoin:round;}\n  </style>\n </defs>\n <g id=\"figure_1\">\n  <g id=\"patch_1\">\n   <path d=\"M 0 410.255625 \nL 504.862188 410.255625 \nL 504.862188 0 \nL 0 0 \nz\n\" style=\"fill:none;\"/>\n  </g>\n  <g id=\"axes_1\">\n   <g id=\"patch_2\">\n    <path d=\"M 28.942188 386.3775 \nL 497.662188 386.3775 \nL 497.662188 35.7555 \nL 28.942188 35.7555 \nz\n\" style=\"fill:#ffffff;\"/>\n   </g>\n   <g id=\"matplotlib.axis_1\">\n    <g id=\"xtick_1\">\n     <g id=\"line2d_1\">\n      <defs>\n       <path d=\"M 0 0 \nL 0 3.5 \n\" id=\"m6a25d2a316\" style=\"stroke:#000000;stroke-width:0.8;\"/>\n      </defs>\n      <g>\n       <use style=\"stroke:#000000;stroke-width:0.8;\" x=\"50.247642\" xlink:href=\"#m6a25d2a316\" y=\"386.3775\"/>\n      </g>\n     </g>\n     <g id=\"text_1\">\n      <!-- 0 -->\n      <defs>\n       <path d=\"M 31.78125 66.40625 \nQ 24.171875 66.40625 20.328125 58.90625 \nQ 16.5 51.421875 16.5 36.375 \nQ 16.5 21.390625 20.328125 13.890625 \nQ 24.171875 6.390625 31.78125 6.390625 \nQ 39.453125 6.390625 43.28125 13.890625 \nQ 47.125 21.390625 47.125 36.375 \nQ 47.125 51.421875 43.28125 58.90625 \nQ 39.453125 66.40625 31.78125 66.40625 \nz\nM 31.78125 74.21875 \nQ 44.046875 74.21875 50.515625 64.515625 \nQ 56.984375 54.828125 56.984375 36.375 \nQ 56.984375 17.96875 50.515625 8.265625 \nQ 44.046875 -1.421875 31.78125 -1.421875 \nQ 19.53125 -1.421875 13.0625 8.265625 \nQ 6.59375 17.96875 6.59375 36.375 \nQ 6.59375 54.828125 13.0625 64.515625 \nQ 19.53125 74.21875 31.78125 74.21875 \nz\n\" id=\"DejaVuSans-48\"/>\n      </defs>\n      <g transform=\"translate(47.066392 400.975937)scale(0.1 -0.1)\">\n       <use xlink:href=\"#DejaVuSans-48\"/>\n      </g>\n     </g>\n    </g>\n    <g id=\"xtick_2\">\n     <g id=\"line2d_2\">\n      <g>\n       <use style=\"stroke:#000000;stroke-width:0.8;\" x=\"139.954819\" xlink:href=\"#m6a25d2a316\" y=\"386.3775\"/>\n      </g>\n     </g>\n     <g id=\"text_2\">\n      <!-- 20 -->\n      <defs>\n       <path d=\"M 19.1875 8.296875 \nL 53.609375 8.296875 \nL 53.609375 0 \nL 7.328125 0 \nL 7.328125 8.296875 \nQ 12.9375 14.109375 22.625 23.890625 \nQ 32.328125 33.6875 34.8125 36.53125 \nQ 39.546875 41.84375 41.421875 45.53125 \nQ 43.3125 49.21875 43.3125 52.78125 \nQ 43.3125 58.59375 39.234375 62.25 \nQ 35.15625 65.921875 28.609375 65.921875 \nQ 23.96875 65.921875 18.8125 64.3125 \nQ 13.671875 62.703125 7.8125 59.421875 \nL 7.8125 69.390625 \nQ 13.765625 71.78125 18.9375 73 \nQ 24.125 74.21875 28.421875 74.21875 \nQ 39.75 74.21875 46.484375 68.546875 \nQ 53.21875 62.890625 53.21875 53.421875 \nQ 53.21875 48.921875 51.53125 44.890625 \nQ 49.859375 40.875 45.40625 35.40625 \nQ 44.1875 33.984375 37.640625 27.21875 \nQ 31.109375 20.453125 19.1875 8.296875 \nz\n\" id=\"DejaVuSans-50\"/>\n      </defs>\n      <g transform=\"translate(133.592319 400.975937)scale(0.1 -0.1)\">\n       <use xlink:href=\"#DejaVuSans-50\"/>\n       <use x=\"63.623047\" xlink:href=\"#DejaVuSans-48\"/>\n      </g>\n     </g>\n    </g>\n    <g id=\"xtick_3\">\n     <g id=\"line2d_3\">\n      <g>\n       <use style=\"stroke:#000000;stroke-width:0.8;\" x=\"229.661996\" xlink:href=\"#m6a25d2a316\" y=\"386.3775\"/>\n      </g>\n     </g>\n     <g id=\"text_3\">\n      <!-- 40 -->\n      <defs>\n       <path d=\"M 37.796875 64.3125 \nL 12.890625 25.390625 \nL 37.796875 25.390625 \nz\nM 35.203125 72.90625 \nL 47.609375 72.90625 \nL 47.609375 25.390625 \nL 58.015625 25.390625 \nL 58.015625 17.1875 \nL 47.609375 17.1875 \nL 47.609375 0 \nL 37.796875 0 \nL 37.796875 17.1875 \nL 4.890625 17.1875 \nL 4.890625 26.703125 \nz\n\" id=\"DejaVuSans-52\"/>\n      </defs>\n      <g transform=\"translate(223.299496 400.975937)scale(0.1 -0.1)\">\n       <use xlink:href=\"#DejaVuSans-52\"/>\n       <use x=\"63.623047\" xlink:href=\"#DejaVuSans-48\"/>\n      </g>\n     </g>\n    </g>\n    <g id=\"xtick_4\">\n     <g id=\"line2d_4\">\n      <g>\n       <use style=\"stroke:#000000;stroke-width:0.8;\" x=\"319.369173\" xlink:href=\"#m6a25d2a316\" y=\"386.3775\"/>\n      </g>\n     </g>\n     <g id=\"text_4\">\n      <!-- 60 -->\n      <defs>\n       <path d=\"M 33.015625 40.375 \nQ 26.375 40.375 22.484375 35.828125 \nQ 18.609375 31.296875 18.609375 23.390625 \nQ 18.609375 15.53125 22.484375 10.953125 \nQ 26.375 6.390625 33.015625 6.390625 \nQ 39.65625 6.390625 43.53125 10.953125 \nQ 47.40625 15.53125 47.40625 23.390625 \nQ 47.40625 31.296875 43.53125 35.828125 \nQ 39.65625 40.375 33.015625 40.375 \nz\nM 52.59375 71.296875 \nL 52.59375 62.3125 \nQ 48.875 64.0625 45.09375 64.984375 \nQ 41.3125 65.921875 37.59375 65.921875 \nQ 27.828125 65.921875 22.671875 59.328125 \nQ 17.53125 52.734375 16.796875 39.40625 \nQ 19.671875 43.65625 24.015625 45.921875 \nQ 28.375 48.1875 33.59375 48.1875 \nQ 44.578125 48.1875 50.953125 41.515625 \nQ 57.328125 34.859375 57.328125 23.390625 \nQ 57.328125 12.15625 50.6875 5.359375 \nQ 44.046875 -1.421875 33.015625 -1.421875 \nQ 20.359375 -1.421875 13.671875 8.265625 \nQ 6.984375 17.96875 6.984375 36.375 \nQ 6.984375 53.65625 15.1875 63.9375 \nQ 23.390625 74.21875 37.203125 74.21875 \nQ 40.921875 74.21875 44.703125 73.484375 \nQ 48.484375 72.75 52.59375 71.296875 \nz\n\" id=\"DejaVuSans-54\"/>\n      </defs>\n      <g transform=\"translate(313.006673 400.975937)scale(0.1 -0.1)\">\n       <use xlink:href=\"#DejaVuSans-54\"/>\n       <use x=\"63.623047\" xlink:href=\"#DejaVuSans-48\"/>\n      </g>\n     </g>\n    </g>\n    <g id=\"xtick_5\">\n     <g id=\"line2d_5\">\n      <g>\n       <use style=\"stroke:#000000;stroke-width:0.8;\" x=\"409.07635\" xlink:href=\"#m6a25d2a316\" y=\"386.3775\"/>\n      </g>\n     </g>\n     <g id=\"text_5\">\n      <!-- 80 -->\n      <defs>\n       <path d=\"M 31.78125 34.625 \nQ 24.75 34.625 20.71875 30.859375 \nQ 16.703125 27.09375 16.703125 20.515625 \nQ 16.703125 13.921875 20.71875 10.15625 \nQ 24.75 6.390625 31.78125 6.390625 \nQ 38.8125 6.390625 42.859375 10.171875 \nQ 46.921875 13.96875 46.921875 20.515625 \nQ 46.921875 27.09375 42.890625 30.859375 \nQ 38.875 34.625 31.78125 34.625 \nz\nM 21.921875 38.8125 \nQ 15.578125 40.375 12.03125 44.71875 \nQ 8.5 49.078125 8.5 55.328125 \nQ 8.5 64.0625 14.71875 69.140625 \nQ 20.953125 74.21875 31.78125 74.21875 \nQ 42.671875 74.21875 48.875 69.140625 \nQ 55.078125 64.0625 55.078125 55.328125 \nQ 55.078125 49.078125 51.53125 44.71875 \nQ 48 40.375 41.703125 38.8125 \nQ 48.828125 37.15625 52.796875 32.3125 \nQ 56.78125 27.484375 56.78125 20.515625 \nQ 56.78125 9.90625 50.3125 4.234375 \nQ 43.84375 -1.421875 31.78125 -1.421875 \nQ 19.734375 -1.421875 13.25 4.234375 \nQ 6.78125 9.90625 6.78125 20.515625 \nQ 6.78125 27.484375 10.78125 32.3125 \nQ 14.796875 37.15625 21.921875 38.8125 \nz\nM 18.3125 54.390625 \nQ 18.3125 48.734375 21.84375 45.5625 \nQ 25.390625 42.390625 31.78125 42.390625 \nQ 38.140625 42.390625 41.71875 45.5625 \nQ 45.3125 48.734375 45.3125 54.390625 \nQ 45.3125 60.0625 41.71875 63.234375 \nQ 38.140625 66.40625 31.78125 66.40625 \nQ 25.390625 66.40625 21.84375 63.234375 \nQ 18.3125 60.0625 18.3125 54.390625 \nz\n\" id=\"DejaVuSans-56\"/>\n      </defs>\n      <g transform=\"translate(402.71385 400.975937)scale(0.1 -0.1)\">\n       <use xlink:href=\"#DejaVuSans-56\"/>\n       <use x=\"63.623047\" xlink:href=\"#DejaVuSans-48\"/>\n      </g>\n     </g>\n    </g>\n   </g>\n   <g id=\"matplotlib.axis_2\">\n    <g id=\"ytick_1\">\n     <g id=\"line2d_6\">\n      <defs>\n       <path d=\"M 0 0 \nL -3.5 0 \n\" id=\"m44c6ca7d14\" style=\"stroke:#000000;stroke-width:0.8;\"/>\n      </defs>\n      <g>\n       <use style=\"stroke:#000000;stroke-width:0.8;\" x=\"28.942188\" xlink:href=\"#m44c6ca7d14\" y=\"365.815296\"/>\n      </g>\n     </g>\n     <g id=\"text_6\">\n      <!-- −2 -->\n      <defs>\n       <path d=\"M 10.59375 35.5 \nL 73.1875 35.5 \nL 73.1875 27.203125 \nL 10.59375 27.203125 \nz\n\" id=\"DejaVuSans-8722\"/>\n      </defs>\n      <g transform=\"translate(7.2 369.614514)scale(0.1 -0.1)\">\n       <use xlink:href=\"#DejaVuSans-8722\"/>\n       <use x=\"83.789062\" xlink:href=\"#DejaVuSans-50\"/>\n      </g>\n     </g>\n    </g>\n    <g id=\"ytick_2\">\n     <g id=\"line2d_7\">\n      <g>\n       <use style=\"stroke:#000000;stroke-width:0.8;\" x=\"28.942188\" xlink:href=\"#m44c6ca7d14\" y=\"306.531577\"/>\n      </g>\n     </g>\n     <g id=\"text_7\">\n      <!-- −1 -->\n      <defs>\n       <path d=\"M 12.40625 8.296875 \nL 28.515625 8.296875 \nL 28.515625 63.921875 \nL 10.984375 60.40625 \nL 10.984375 69.390625 \nL 28.421875 72.90625 \nL 38.28125 72.90625 \nL 38.28125 8.296875 \nL 54.390625 8.296875 \nL 54.390625 0 \nL 12.40625 0 \nz\n\" id=\"DejaVuSans-49\"/>\n      </defs>\n      <g transform=\"translate(7.2 310.330796)scale(0.1 -0.1)\">\n       <use xlink:href=\"#DejaVuSans-8722\"/>\n       <use x=\"83.789062\" xlink:href=\"#DejaVuSans-49\"/>\n      </g>\n     </g>\n    </g>\n    <g id=\"ytick_3\">\n     <g id=\"line2d_8\">\n      <g>\n       <use style=\"stroke:#000000;stroke-width:0.8;\" x=\"28.942188\" xlink:href=\"#m44c6ca7d14\" y=\"247.247859\"/>\n      </g>\n     </g>\n     <g id=\"text_8\">\n      <!-- 0 -->\n      <g transform=\"translate(15.579688 251.047078)scale(0.1 -0.1)\">\n       <use xlink:href=\"#DejaVuSans-48\"/>\n      </g>\n     </g>\n    </g>\n    <g id=\"ytick_4\">\n     <g id=\"line2d_9\">\n      <g>\n       <use style=\"stroke:#000000;stroke-width:0.8;\" x=\"28.942188\" xlink:href=\"#m44c6ca7d14\" y=\"187.964141\"/>\n      </g>\n     </g>\n     <g id=\"text_9\">\n      <!-- 1 -->\n      <g transform=\"translate(15.579688 191.763359)scale(0.1 -0.1)\">\n       <use xlink:href=\"#DejaVuSans-49\"/>\n      </g>\n     </g>\n    </g>\n    <g id=\"ytick_5\">\n     <g id=\"line2d_10\">\n      <g>\n       <use style=\"stroke:#000000;stroke-width:0.8;\" x=\"28.942188\" xlink:href=\"#m44c6ca7d14\" y=\"128.680422\"/>\n      </g>\n     </g>\n     <g id=\"text_10\">\n      <!-- 2 -->\n      <g transform=\"translate(15.579688 132.479641)scale(0.1 -0.1)\">\n       <use xlink:href=\"#DejaVuSans-50\"/>\n      </g>\n     </g>\n    </g>\n    <g id=\"ytick_6\">\n     <g id=\"line2d_11\">\n      <g>\n       <use style=\"stroke:#000000;stroke-width:0.8;\" x=\"28.942188\" xlink:href=\"#m44c6ca7d14\" y=\"69.396704\"/>\n      </g>\n     </g>\n     <g id=\"text_11\">\n      <!-- 3 -->\n      <defs>\n       <path d=\"M 40.578125 39.3125 \nQ 47.65625 37.796875 51.625 33 \nQ 55.609375 28.21875 55.609375 21.1875 \nQ 55.609375 10.40625 48.1875 4.484375 \nQ 40.765625 -1.421875 27.09375 -1.421875 \nQ 22.515625 -1.421875 17.65625 -0.515625 \nQ 12.796875 0.390625 7.625 2.203125 \nL 7.625 11.71875 \nQ 11.71875 9.328125 16.59375 8.109375 \nQ 21.484375 6.890625 26.8125 6.890625 \nQ 36.078125 6.890625 40.9375 10.546875 \nQ 45.796875 14.203125 45.796875 21.1875 \nQ 45.796875 27.640625 41.28125 31.265625 \nQ 36.765625 34.90625 28.71875 34.90625 \nL 20.21875 34.90625 \nL 20.21875 43.015625 \nL 29.109375 43.015625 \nQ 36.375 43.015625 40.234375 45.921875 \nQ 44.09375 48.828125 44.09375 54.296875 \nQ 44.09375 59.90625 40.109375 62.90625 \nQ 36.140625 65.921875 28.71875 65.921875 \nQ 24.65625 65.921875 20.015625 65.03125 \nQ 15.375 64.15625 9.8125 62.3125 \nL 9.8125 71.09375 \nQ 15.4375 72.65625 20.34375 73.4375 \nQ 25.25 74.21875 29.59375 74.21875 \nQ 40.828125 74.21875 47.359375 69.109375 \nQ 53.90625 64.015625 53.90625 55.328125 \nQ 53.90625 49.265625 50.4375 45.09375 \nQ 46.96875 40.921875 40.578125 39.3125 \nz\n\" id=\"DejaVuSans-51\"/>\n      </defs>\n      <g transform=\"translate(15.579688 73.195923)scale(0.1 -0.1)\">\n       <use xlink:href=\"#DejaVuSans-51\"/>\n      </g>\n     </g>\n    </g>\n   </g>\n   <g id=\"line2d_12\">\n    <path clip-path=\"url(#p2340a29ab0)\" d=\"M 50.247642 222.041052 \nL 54.733001 163.148049 \nL 59.21836 89.031987 \nL 63.703719 51.692864 \nL 68.189077 112.99669 \nL 72.674436 237.455404 \nL 77.159795 304.144015 \nL 81.645154 230.490228 \nL 86.130513 197.280554 \nL 90.615872 206.729911 \nL 95.101231 183.097666 \nL 99.586589 204.410812 \nL 104.071948 240.737833 \nL 108.557307 288.545435 \nL 113.042666 286.509557 \nL 117.528025 297.04528 \nL 122.013384 302.695768 \nL 126.498743 300.328231 \nL 130.984101 302.041783 \nL 135.46946 311.759064 \nL 139.954819 313.265297 \nL 144.440178 314.278814 \nL 148.925537 318.500656 \nL 153.410896 338.515673 \nL 157.896254 338.261827 \nL 162.381613 334.30106 \nL 166.866972 370.440136 \nL 171.352331 357.310889 \nL 175.83769 364.79968 \nL 180.323049 368.258473 \nL 184.808408 353.594576 \nL 189.293766 364.994924 \nL 193.779125 362.667486 \nL 198.264484 348.421019 \nL 202.749843 325.807191 \nL 207.235202 315.250218 \nL 211.720561 298.446972 \nL 216.20592 268.353757 \nL 220.691278 259.394479 \nL 225.176637 236.398345 \nL 229.661996 216.536225 \nL 234.147355 210.533992 \nL 238.632714 198.481026 \nL 243.118073 189.340758 \nL 247.603432 197.263904 \nL 252.08879 176.945476 \nL 256.574149 177.668207 \nL 261.059508 198.359919 \nL 265.544867 194.838642 \nL 270.030226 201.195646 \nL 274.515585 195.372623 \nL 279.000943 200.100164 \nL 283.486302 214.394808 \nL 287.971661 206.940937 \nL 292.45702 210.874259 \nL 296.942379 210.308779 \nL 301.427738 219.757303 \nL 305.913097 212.514832 \nL 310.398455 210.33862 \nL 314.883814 228.630841 \nL 319.369173 222.249328 \nL 323.854532 209.342337 \nL 328.339891 219.339704 \nL 332.82525 229.463787 \nL 337.310609 232.578309 \nL 341.795967 228.279603 \nL 346.281326 229.476504 \nL 350.766685 235.336256 \nL 355.252044 238.214891 \nL 359.737403 243.139092 \nL 364.222762 230.018448 \nL 368.708121 241.54376 \nL 373.193479 224.736937 \nL 377.678838 200.317016 \nL 382.164197 211.282702 \nL 386.649556 199.729364 \nL 391.134915 205.967844 \nL 395.620274 235.130942 \nL 400.105632 235.08746 \nL 404.590991 249.925035 \nL 409.07635 258.15706 \nL 413.561709 240.384301 \nL 418.047068 253.065465 \nL 422.532427 257.821692 \nL 427.017786 253.598303 \nL 431.503144 258.718746 \nL 435.988503 248.326566 \nL 440.473862 260.319506 \nL 444.959221 256.291976 \nL 449.44458 254.184685 \nL 453.929939 255.853459 \nL 458.415298 254.164394 \nL 462.900656 259.060842 \nL 467.386015 253.759396 \nL 471.871374 255.695049 \nL 476.356733 241.393109 \n\" style=\"fill:none;stroke:#ffa500;stroke-linecap:square;stroke-width:4;\"/>\n   </g>\n   <g id=\"patch_3\">\n    <path d=\"M 28.942188 386.3775 \nL 28.942188 35.7555 \n\" style=\"fill:none;stroke:#000000;stroke-linecap:square;stroke-linejoin:miter;stroke-width:0.8;\"/>\n   </g>\n   <g id=\"patch_4\">\n    <path d=\"M 497.662188 386.3775 \nL 497.662188 35.7555 \n\" style=\"fill:none;stroke:#000000;stroke-linecap:square;stroke-linejoin:miter;stroke-width:0.8;\"/>\n   </g>\n   <g id=\"patch_5\">\n    <path d=\"M 28.942188 386.3775 \nL 497.662188 386.3775 \n\" style=\"fill:none;stroke:#000000;stroke-linecap:square;stroke-linejoin:miter;stroke-width:0.8;\"/>\n   </g>\n   <g id=\"patch_6\">\n    <path d=\"M 28.942188 35.7555 \nL 497.662188 35.7555 \n\" style=\"fill:none;stroke:#000000;stroke-linecap:square;stroke-linejoin:miter;stroke-width:0.8;\"/>\n   </g>\n   <g id=\"text_12\">\n    <!-- Your Guess -->\n    <defs>\n     <path d=\"M -0.203125 72.90625 \nL 10.40625 72.90625 \nL 30.609375 42.921875 \nL 50.6875 72.90625 \nL 61.28125 72.90625 \nL 35.5 34.71875 \nL 35.5 0 \nL 25.59375 0 \nL 25.59375 34.71875 \nz\n\" id=\"DejaVuSans-89\"/>\n     <path d=\"M 30.609375 48.390625 \nQ 23.390625 48.390625 19.1875 42.75 \nQ 14.984375 37.109375 14.984375 27.296875 \nQ 14.984375 17.484375 19.15625 11.84375 \nQ 23.34375 6.203125 30.609375 6.203125 \nQ 37.796875 6.203125 41.984375 11.859375 \nQ 46.1875 17.53125 46.1875 27.296875 \nQ 46.1875 37.015625 41.984375 42.703125 \nQ 37.796875 48.390625 30.609375 48.390625 \nz\nM 30.609375 56 \nQ 42.328125 56 49.015625 48.375 \nQ 55.71875 40.765625 55.71875 27.296875 \nQ 55.71875 13.875 49.015625 6.21875 \nQ 42.328125 -1.421875 30.609375 -1.421875 \nQ 18.84375 -1.421875 12.171875 6.21875 \nQ 5.515625 13.875 5.515625 27.296875 \nQ 5.515625 40.765625 12.171875 48.375 \nQ 18.84375 56 30.609375 56 \nz\n\" id=\"DejaVuSans-111\"/>\n     <path d=\"M 8.5 21.578125 \nL 8.5 54.6875 \nL 17.484375 54.6875 \nL 17.484375 21.921875 \nQ 17.484375 14.15625 20.5 10.265625 \nQ 23.53125 6.390625 29.59375 6.390625 \nQ 36.859375 6.390625 41.078125 11.03125 \nQ 45.3125 15.671875 45.3125 23.6875 \nL 45.3125 54.6875 \nL 54.296875 54.6875 \nL 54.296875 0 \nL 45.3125 0 \nL 45.3125 8.40625 \nQ 42.046875 3.421875 37.71875 1 \nQ 33.40625 -1.421875 27.6875 -1.421875 \nQ 18.265625 -1.421875 13.375 4.4375 \nQ 8.5 10.296875 8.5 21.578125 \nz\nM 31.109375 56 \nz\n\" id=\"DejaVuSans-117\"/>\n     <path d=\"M 41.109375 46.296875 \nQ 39.59375 47.171875 37.8125 47.578125 \nQ 36.03125 48 33.890625 48 \nQ 26.265625 48 22.1875 43.046875 \nQ 18.109375 38.09375 18.109375 28.8125 \nL 18.109375 0 \nL 9.078125 0 \nL 9.078125 54.6875 \nL 18.109375 54.6875 \nL 18.109375 46.1875 \nQ 20.953125 51.171875 25.484375 53.578125 \nQ 30.03125 56 36.53125 56 \nQ 37.453125 56 38.578125 55.875 \nQ 39.703125 55.765625 41.0625 55.515625 \nz\n\" id=\"DejaVuSans-114\"/>\n     <path id=\"DejaVuSans-32\"/>\n     <path d=\"M 59.515625 10.40625 \nL 59.515625 29.984375 \nL 43.40625 29.984375 \nL 43.40625 38.09375 \nL 69.28125 38.09375 \nL 69.28125 6.78125 \nQ 63.578125 2.734375 56.6875 0.65625 \nQ 49.8125 -1.421875 42 -1.421875 \nQ 24.90625 -1.421875 15.25 8.5625 \nQ 5.609375 18.5625 5.609375 36.375 \nQ 5.609375 54.25 15.25 64.234375 \nQ 24.90625 74.21875 42 74.21875 \nQ 49.125 74.21875 55.546875 72.453125 \nQ 61.96875 70.703125 67.390625 67.28125 \nL 67.390625 56.78125 \nQ 61.921875 61.421875 55.765625 63.765625 \nQ 49.609375 66.109375 42.828125 66.109375 \nQ 29.4375 66.109375 22.71875 58.640625 \nQ 16.015625 51.171875 16.015625 36.375 \nQ 16.015625 21.625 22.71875 14.15625 \nQ 29.4375 6.6875 42.828125 6.6875 \nQ 48.046875 6.6875 52.140625 7.59375 \nQ 56.25 8.5 59.515625 10.40625 \nz\n\" id=\"DejaVuSans-71\"/>\n     <path d=\"M 56.203125 29.59375 \nL 56.203125 25.203125 \nL 14.890625 25.203125 \nQ 15.484375 15.921875 20.484375 11.0625 \nQ 25.484375 6.203125 34.421875 6.203125 \nQ 39.59375 6.203125 44.453125 7.46875 \nQ 49.3125 8.734375 54.109375 11.28125 \nL 54.109375 2.78125 \nQ 49.265625 0.734375 44.1875 -0.34375 \nQ 39.109375 -1.421875 33.890625 -1.421875 \nQ 20.796875 -1.421875 13.15625 6.1875 \nQ 5.515625 13.8125 5.515625 26.8125 \nQ 5.515625 40.234375 12.765625 48.109375 \nQ 20.015625 56 32.328125 56 \nQ 43.359375 56 49.78125 48.890625 \nQ 56.203125 41.796875 56.203125 29.59375 \nz\nM 47.21875 32.234375 \nQ 47.125 39.59375 43.09375 43.984375 \nQ 39.0625 48.390625 32.421875 48.390625 \nQ 24.90625 48.390625 20.390625 44.140625 \nQ 15.875 39.890625 15.1875 32.171875 \nz\n\" id=\"DejaVuSans-101\"/>\n     <path d=\"M 44.28125 53.078125 \nL 44.28125 44.578125 \nQ 40.484375 46.53125 36.375 47.5 \nQ 32.28125 48.484375 27.875 48.484375 \nQ 21.1875 48.484375 17.84375 46.4375 \nQ 14.5 44.390625 14.5 40.28125 \nQ 14.5 37.15625 16.890625 35.375 \nQ 19.28125 33.59375 26.515625 31.984375 \nL 29.59375 31.296875 \nQ 39.15625 29.25 43.1875 25.515625 \nQ 47.21875 21.78125 47.21875 15.09375 \nQ 47.21875 7.46875 41.1875 3.015625 \nQ 35.15625 -1.421875 24.609375 -1.421875 \nQ 20.21875 -1.421875 15.453125 -0.5625 \nQ 10.6875 0.296875 5.421875 2 \nL 5.421875 11.28125 \nQ 10.40625 8.6875 15.234375 7.390625 \nQ 20.0625 6.109375 24.8125 6.109375 \nQ 31.15625 6.109375 34.5625 8.28125 \nQ 37.984375 10.453125 37.984375 14.40625 \nQ 37.984375 18.0625 35.515625 20.015625 \nQ 33.0625 21.96875 24.703125 23.78125 \nL 21.578125 24.515625 \nQ 13.234375 26.265625 9.515625 29.90625 \nQ 5.8125 33.546875 5.8125 39.890625 \nQ 5.8125 47.609375 11.28125 51.796875 \nQ 16.75 56 26.8125 56 \nQ 31.78125 56 36.171875 55.265625 \nQ 40.578125 54.546875 44.28125 53.078125 \nz\n\" id=\"DejaVuSans-115\"/>\n    </defs>\n    <g transform=\"translate(229.407813 16.318125)scale(0.12 -0.12)\">\n     <use xlink:href=\"#DejaVuSans-89\"/>\n     <use x=\"60.880859\" xlink:href=\"#DejaVuSans-111\"/>\n     <use x=\"122.0625\" xlink:href=\"#DejaVuSans-117\"/>\n     <use x=\"185.441406\" xlink:href=\"#DejaVuSans-114\"/>\n     <use x=\"226.554688\" xlink:href=\"#DejaVuSans-32\"/>\n     <use x=\"258.341797\" xlink:href=\"#DejaVuSans-71\"/>\n     <use x=\"335.832031\" xlink:href=\"#DejaVuSans-117\"/>\n     <use x=\"399.210938\" xlink:href=\"#DejaVuSans-101\"/>\n     <use x=\"460.734375\" xlink:href=\"#DejaVuSans-115\"/>\n     <use x=\"512.833984\" xlink:href=\"#DejaVuSans-115\"/>\n    </g>\n    <!--  Confidence -->\n    <defs>\n     <path d=\"M 64.40625 67.28125 \nL 64.40625 56.890625 \nQ 59.421875 61.53125 53.78125 63.8125 \nQ 48.140625 66.109375 41.796875 66.109375 \nQ 29.296875 66.109375 22.65625 58.46875 \nQ 16.015625 50.828125 16.015625 36.375 \nQ 16.015625 21.96875 22.65625 14.328125 \nQ 29.296875 6.6875 41.796875 6.6875 \nQ 48.140625 6.6875 53.78125 8.984375 \nQ 59.421875 11.28125 64.40625 15.921875 \nL 64.40625 5.609375 \nQ 59.234375 2.09375 53.4375 0.328125 \nQ 47.65625 -1.421875 41.21875 -1.421875 \nQ 24.65625 -1.421875 15.125 8.703125 \nQ 5.609375 18.84375 5.609375 36.375 \nQ 5.609375 53.953125 15.125 64.078125 \nQ 24.65625 74.21875 41.21875 74.21875 \nQ 47.75 74.21875 53.53125 72.484375 \nQ 59.328125 70.75 64.40625 67.28125 \nz\n\" id=\"DejaVuSans-67\"/>\n     <path d=\"M 54.890625 33.015625 \nL 54.890625 0 \nL 45.90625 0 \nL 45.90625 32.71875 \nQ 45.90625 40.484375 42.875 44.328125 \nQ 39.84375 48.1875 33.796875 48.1875 \nQ 26.515625 48.1875 22.3125 43.546875 \nQ 18.109375 38.921875 18.109375 30.90625 \nL 18.109375 0 \nL 9.078125 0 \nL 9.078125 54.6875 \nL 18.109375 54.6875 \nL 18.109375 46.1875 \nQ 21.34375 51.125 25.703125 53.5625 \nQ 30.078125 56 35.796875 56 \nQ 45.21875 56 50.046875 50.171875 \nQ 54.890625 44.34375 54.890625 33.015625 \nz\n\" id=\"DejaVuSans-110\"/>\n     <path d=\"M 37.109375 75.984375 \nL 37.109375 68.5 \nL 28.515625 68.5 \nQ 23.6875 68.5 21.796875 66.546875 \nQ 19.921875 64.59375 19.921875 59.515625 \nL 19.921875 54.6875 \nL 34.71875 54.6875 \nL 34.71875 47.703125 \nL 19.921875 47.703125 \nL 19.921875 0 \nL 10.890625 0 \nL 10.890625 47.703125 \nL 2.296875 47.703125 \nL 2.296875 54.6875 \nL 10.890625 54.6875 \nL 10.890625 58.5 \nQ 10.890625 67.625 15.140625 71.796875 \nQ 19.390625 75.984375 28.609375 75.984375 \nz\n\" id=\"DejaVuSans-102\"/>\n     <path d=\"M 9.421875 54.6875 \nL 18.40625 54.6875 \nL 18.40625 0 \nL 9.421875 0 \nz\nM 9.421875 75.984375 \nL 18.40625 75.984375 \nL 18.40625 64.59375 \nL 9.421875 64.59375 \nz\n\" id=\"DejaVuSans-105\"/>\n     <path d=\"M 45.40625 46.390625 \nL 45.40625 75.984375 \nL 54.390625 75.984375 \nL 54.390625 0 \nL 45.40625 0 \nL 45.40625 8.203125 \nQ 42.578125 3.328125 38.25 0.953125 \nQ 33.9375 -1.421875 27.875 -1.421875 \nQ 17.96875 -1.421875 11.734375 6.484375 \nQ 5.515625 14.40625 5.515625 27.296875 \nQ 5.515625 40.1875 11.734375 48.09375 \nQ 17.96875 56 27.875 56 \nQ 33.9375 56 38.25 53.625 \nQ 42.578125 51.265625 45.40625 46.390625 \nz\nM 14.796875 27.296875 \nQ 14.796875 17.390625 18.875 11.75 \nQ 22.953125 6.109375 30.078125 6.109375 \nQ 37.203125 6.109375 41.296875 11.75 \nQ 45.40625 17.390625 45.40625 27.296875 \nQ 45.40625 37.203125 41.296875 42.84375 \nQ 37.203125 48.484375 30.078125 48.484375 \nQ 22.953125 48.484375 18.875 42.84375 \nQ 14.796875 37.203125 14.796875 27.296875 \nz\n\" id=\"DejaVuSans-100\"/>\n     <path d=\"M 48.78125 52.59375 \nL 48.78125 44.1875 \nQ 44.96875 46.296875 41.140625 47.34375 \nQ 37.3125 48.390625 33.40625 48.390625 \nQ 24.65625 48.390625 19.8125 42.84375 \nQ 14.984375 37.3125 14.984375 27.296875 \nQ 14.984375 17.28125 19.8125 11.734375 \nQ 24.65625 6.203125 33.40625 6.203125 \nQ 37.3125 6.203125 41.140625 7.25 \nQ 44.96875 8.296875 48.78125 10.40625 \nL 48.78125 2.09375 \nQ 45.015625 0.34375 40.984375 -0.53125 \nQ 36.96875 -1.421875 32.421875 -1.421875 \nQ 20.0625 -1.421875 12.78125 6.34375 \nQ 5.515625 14.109375 5.515625 27.296875 \nQ 5.515625 40.671875 12.859375 48.328125 \nQ 20.21875 56 33.015625 56 \nQ 37.15625 56 41.109375 55.140625 \nQ 45.0625 54.296875 48.78125 52.59375 \nz\n\" id=\"DejaVuSans-99\"/>\n    </defs>\n    <g transform=\"translate(227.658438 29.7555)scale(0.12 -0.12)\">\n     <use xlink:href=\"#DejaVuSans-32\"/>\n     <use x=\"31.787109\" xlink:href=\"#DejaVuSans-67\"/>\n     <use x=\"101.611328\" xlink:href=\"#DejaVuSans-111\"/>\n     <use x=\"162.792969\" xlink:href=\"#DejaVuSans-110\"/>\n     <use x=\"226.171875\" xlink:href=\"#DejaVuSans-102\"/>\n     <use x=\"261.376953\" xlink:href=\"#DejaVuSans-105\"/>\n     <use x=\"289.160156\" xlink:href=\"#DejaVuSans-100\"/>\n     <use x=\"352.636719\" xlink:href=\"#DejaVuSans-101\"/>\n     <use x=\"414.160156\" xlink:href=\"#DejaVuSans-110\"/>\n     <use x=\"477.539062\" xlink:href=\"#DejaVuSans-99\"/>\n     <use x=\"532.519531\" xlink:href=\"#DejaVuSans-101\"/>\n    </g>\n   </g>\n  </g>\n </g>\n <defs>\n  <clipPath id=\"p2340a29ab0\">\n   <rect height=\"350.622\" width=\"468.72\" x=\"28.942188\" y=\"35.7555\"/>\n  </clipPath>\n </defs>\n</svg>\n",
      "text/plain": "<Figure size 604.8x464.4 with 1 Axes>"
     },
     "metadata": {
      "needs_background": "light"
     },
     "output_type": "display_data"
    }
   ],
   "source": [
    "fig1 = display_sample(0)"
   ]
  },
  {
   "cell_type": "code",
   "execution_count": null,
   "metadata": {},
   "outputs": [],
   "source": [
    "# def show_out_cam(idx):\n",
    "#     predictions, confidences = show_preds(idx)\n",
    "#     model_prediction = predictions[0]\n",
    "#     model_confidence = confidences[0]\n",
    "#     g_p = guest_prediction.value\n",
    "#     g_c = guest_confidence.value\n",
    "    \n",
    "#     _, label = data[idx]\n",
    "#     encoded_label = dls.tfms[1][1].encodes(label)\n",
    "\n",
    "#     verdict_str = validate_guess(model_prediction, model_confidence, g_p, g_c)\n",
    "#     nn_verdict_wg.value = verdict_str\n",
    "#     # print(verdict_str)"
   ]
  },
  {
   "cell_type": "code",
   "execution_count": null,
   "metadata": {},
   "outputs": [],
   "source": [
    "def show_preds(idx):\n",
    "    test_dl, preds = get_preds(idx)\n",
    "    predictions, confidences =  get_preds_and_confidence(preds)\n",
    "    \n",
    "    model_prediction = predictions[0]\n",
    "    model_confidence = confidences[0]\n",
    "    g_p = guest_prediction.value\n",
    "    g_c = guest_confidence.value\n",
    "    \n",
    "    _, label = data[idx]\n",
    "    encoded_label = dls.tfms[1][1].encodes(label)\n",
    "\n",
    "    verdict_str = validate_guess(model_prediction, model_confidence, g_p, g_c)\n",
    "    nn_verdict_wg.value = verdict_str\n",
    "    # print(verdict_str)"
   ]
  },
  {
   "cell_type": "code",
   "execution_count": null,
   "metadata": {},
   "outputs": [],
   "source": [
    "def display_cam(idx):\n",
    "    with out_cam:\n",
    "#         out_cam.clear_output() \n",
    "        out_cam.clear_output(wait=True)\n",
    "        test_dl, preds = get_preds(idx)\n",
    "        predictions, confidences =  get_preds_and_confidence(preds)\n",
    "        batch=test_dl.one_batch()\n",
    "        fig_cam = show_cam(batch, learn.model, layer=5, i2o=i2o, multi_fig=True, cmap=CMAP.jet, confidence=confidences, figsize=(8,6))\n",
    "        return fig_cam"
   ]
  },
  {
   "cell_type": "code",
   "execution_count": null,
   "metadata": {},
   "outputs": [
    {
     "data": {
      "image/png": "[encoded data removed]",
      "image/svg+xml": "<?xml version=\"1.0\" encoding=\"utf-8\" standalone=\"no\"?>\n<!DOCTYPE svg PUBLIC \"-//W3C//DTD SVG 1.1//EN\"\n  \"http://www.w3.org/Graphics/SVG/1.1/DTD/svg11.dtd\">\n<!-- Created with matplotlib (https://matplotlib.org/) -->\n<svg height=\"410.633625pt\" version=\"1.1\" viewBox=\"0 0 508.092187 410.633625\" width=\"508.092187pt\" xmlns=\"http://www.w3.org/2000/svg\" xmlns:xlink=\"http://www.w3.org/1999/xlink\">\n <defs>\n  <style type=\"text/css\">\n*{stroke-linecap:butt;stroke-linejoin:round;}\n  </style>\n </defs>\n <g id=\"figure_1\">\n  <g id=\"patch_1\">\n   <path d=\"M 0 410.633625 \nL 508.092187 410.633625 \nL 508.092187 -0 \nL 0 -0 \nz\n\" style=\"fill:none;\"/>\n  </g>\n  <g id=\"axes_1\">\n   <g id=\"patch_2\">\n    <path d=\"M 28.942188 386.7555 \nL 417.092188 386.7555 \nL 417.092188 35.7555 \nL 28.942188 35.7555 \nz\n\" style=\"fill:#ffffff;\"/>\n   </g>\n   <g id=\"matplotlib.axis_1\">\n    <g id=\"xtick_1\">\n     <g id=\"line2d_1\">\n      <defs>\n       <path d=\"M 0 0 \nL 0 3.5 \n\" id=\"m73d2019686\" style=\"stroke:#000000;stroke-width:0.8;\"/>\n      </defs>\n      <g>\n       <use style=\"stroke:#000000;stroke-width:0.8;\" x=\"28.942188\" xlink:href=\"#m73d2019686\" y=\"386.7555\"/>\n      </g>\n     </g>\n     <g id=\"text_1\">\n      <!-- 0 -->\n      <defs>\n       <path d=\"M 31.78125 66.40625 \nQ 24.171875 66.40625 20.328125 58.90625 \nQ 16.5 51.421875 16.5 36.375 \nQ 16.5 21.390625 20.328125 13.890625 \nQ 24.171875 6.390625 31.78125 6.390625 \nQ 39.453125 6.390625 43.28125 13.890625 \nQ 47.125 21.390625 47.125 36.375 \nQ 47.125 51.421875 43.28125 58.90625 \nQ 39.453125 66.40625 31.78125 66.40625 \nz\nM 31.78125 74.21875 \nQ 44.046875 74.21875 50.515625 64.515625 \nQ 56.984375 54.828125 56.984375 36.375 \nQ 56.984375 17.96875 50.515625 8.265625 \nQ 44.046875 -1.421875 31.78125 -1.421875 \nQ 19.53125 -1.421875 13.0625 8.265625 \nQ 6.59375 17.96875 6.59375 36.375 \nQ 6.59375 54.828125 13.0625 64.515625 \nQ 19.53125 74.21875 31.78125 74.21875 \nz\n\" id=\"DejaVuSans-48\"/>\n      </defs>\n      <g transform=\"translate(25.760938 401.353937)scale(0.1 -0.1)\">\n       <use xlink:href=\"#DejaVuSans-48\"/>\n      </g>\n     </g>\n    </g>\n    <g id=\"xtick_2\">\n     <g id=\"line2d_2\">\n      <g>\n       <use style=\"stroke:#000000;stroke-width:0.8;\" x=\"110.657977\" xlink:href=\"#m73d2019686\" y=\"386.7555\"/>\n      </g>\n     </g>\n     <g id=\"text_2\">\n      <!-- 20 -->\n      <defs>\n       <path d=\"M 19.1875 8.296875 \nL 53.609375 8.296875 \nL 53.609375 0 \nL 7.328125 0 \nL 7.328125 8.296875 \nQ 12.9375 14.109375 22.625 23.890625 \nQ 32.328125 33.6875 34.8125 36.53125 \nQ 39.546875 41.84375 41.421875 45.53125 \nQ 43.3125 49.21875 43.3125 52.78125 \nQ 43.3125 58.59375 39.234375 62.25 \nQ 35.15625 65.921875 28.609375 65.921875 \nQ 23.96875 65.921875 18.8125 64.3125 \nQ 13.671875 62.703125 7.8125 59.421875 \nL 7.8125 69.390625 \nQ 13.765625 71.78125 18.9375 73 \nQ 24.125 74.21875 28.421875 74.21875 \nQ 39.75 74.21875 46.484375 68.546875 \nQ 53.21875 62.890625 53.21875 53.421875 \nQ 53.21875 48.921875 51.53125 44.890625 \nQ 49.859375 40.875 45.40625 35.40625 \nQ 44.1875 33.984375 37.640625 27.21875 \nQ 31.109375 20.453125 19.1875 8.296875 \nz\n\" id=\"DejaVuSans-50\"/>\n      </defs>\n      <g transform=\"translate(104.295477 401.353937)scale(0.1 -0.1)\">\n       <use xlink:href=\"#DejaVuSans-50\"/>\n       <use x=\"63.623047\" xlink:href=\"#DejaVuSans-48\"/>\n      </g>\n     </g>\n    </g>\n    <g id=\"xtick_3\">\n     <g id=\"line2d_3\">\n      <g>\n       <use style=\"stroke:#000000;stroke-width:0.8;\" x=\"192.373766\" xlink:href=\"#m73d2019686\" y=\"386.7555\"/>\n      </g>\n     </g>\n     <g id=\"text_3\">\n      <!-- 40 -->\n      <defs>\n       <path d=\"M 37.796875 64.3125 \nL 12.890625 25.390625 \nL 37.796875 25.390625 \nz\nM 35.203125 72.90625 \nL 47.609375 72.90625 \nL 47.609375 25.390625 \nL 58.015625 25.390625 \nL 58.015625 17.1875 \nL 47.609375 17.1875 \nL 47.609375 0 \nL 37.796875 0 \nL 37.796875 17.1875 \nL 4.890625 17.1875 \nL 4.890625 26.703125 \nz\n\" id=\"DejaVuSans-52\"/>\n      </defs>\n      <g transform=\"translate(186.011266 401.353937)scale(0.1 -0.1)\">\n       <use xlink:href=\"#DejaVuSans-52\"/>\n       <use x=\"63.623047\" xlink:href=\"#DejaVuSans-48\"/>\n      </g>\n     </g>\n    </g>\n    <g id=\"xtick_4\">\n     <g id=\"line2d_4\">\n      <g>\n       <use style=\"stroke:#000000;stroke-width:0.8;\" x=\"274.089556\" xlink:href=\"#m73d2019686\" y=\"386.7555\"/>\n      </g>\n     </g>\n     <g id=\"text_4\">\n      <!-- 60 -->\n      <defs>\n       <path d=\"M 33.015625 40.375 \nQ 26.375 40.375 22.484375 35.828125 \nQ 18.609375 31.296875 18.609375 23.390625 \nQ 18.609375 15.53125 22.484375 10.953125 \nQ 26.375 6.390625 33.015625 6.390625 \nQ 39.65625 6.390625 43.53125 10.953125 \nQ 47.40625 15.53125 47.40625 23.390625 \nQ 47.40625 31.296875 43.53125 35.828125 \nQ 39.65625 40.375 33.015625 40.375 \nz\nM 52.59375 71.296875 \nL 52.59375 62.3125 \nQ 48.875 64.0625 45.09375 64.984375 \nQ 41.3125 65.921875 37.59375 65.921875 \nQ 27.828125 65.921875 22.671875 59.328125 \nQ 17.53125 52.734375 16.796875 39.40625 \nQ 19.671875 43.65625 24.015625 45.921875 \nQ 28.375 48.1875 33.59375 48.1875 \nQ 44.578125 48.1875 50.953125 41.515625 \nQ 57.328125 34.859375 57.328125 23.390625 \nQ 57.328125 12.15625 50.6875 5.359375 \nQ 44.046875 -1.421875 33.015625 -1.421875 \nQ 20.359375 -1.421875 13.671875 8.265625 \nQ 6.984375 17.96875 6.984375 36.375 \nQ 6.984375 53.65625 15.1875 63.9375 \nQ 23.390625 74.21875 37.203125 74.21875 \nQ 40.921875 74.21875 44.703125 73.484375 \nQ 48.484375 72.75 52.59375 71.296875 \nz\n\" id=\"DejaVuSans-54\"/>\n      </defs>\n      <g transform=\"translate(267.727056 401.353937)scale(0.1 -0.1)\">\n       <use xlink:href=\"#DejaVuSans-54\"/>\n       <use x=\"63.623047\" xlink:href=\"#DejaVuSans-48\"/>\n      </g>\n     </g>\n    </g>\n    <g id=\"xtick_5\">\n     <g id=\"line2d_5\">\n      <g>\n       <use style=\"stroke:#000000;stroke-width:0.8;\" x=\"355.805345\" xlink:href=\"#m73d2019686\" y=\"386.7555\"/>\n      </g>\n     </g>\n     <g id=\"text_5\">\n      <!-- 80 -->\n      <defs>\n       <path d=\"M 31.78125 34.625 \nQ 24.75 34.625 20.71875 30.859375 \nQ 16.703125 27.09375 16.703125 20.515625 \nQ 16.703125 13.921875 20.71875 10.15625 \nQ 24.75 6.390625 31.78125 6.390625 \nQ 38.8125 6.390625 42.859375 10.171875 \nQ 46.921875 13.96875 46.921875 20.515625 \nQ 46.921875 27.09375 42.890625 30.859375 \nQ 38.875 34.625 31.78125 34.625 \nz\nM 21.921875 38.8125 \nQ 15.578125 40.375 12.03125 44.71875 \nQ 8.5 49.078125 8.5 55.328125 \nQ 8.5 64.0625 14.71875 69.140625 \nQ 20.953125 74.21875 31.78125 74.21875 \nQ 42.671875 74.21875 48.875 69.140625 \nQ 55.078125 64.0625 55.078125 55.328125 \nQ 55.078125 49.078125 51.53125 44.71875 \nQ 48 40.375 41.703125 38.8125 \nQ 48.828125 37.15625 52.796875 32.3125 \nQ 56.78125 27.484375 56.78125 20.515625 \nQ 56.78125 9.90625 50.3125 4.234375 \nQ 43.84375 -1.421875 31.78125 -1.421875 \nQ 19.734375 -1.421875 13.25 4.234375 \nQ 6.78125 9.90625 6.78125 20.515625 \nQ 6.78125 27.484375 10.78125 32.3125 \nQ 14.796875 37.15625 21.921875 38.8125 \nz\nM 18.3125 54.390625 \nQ 18.3125 48.734375 21.84375 45.5625 \nQ 25.390625 42.390625 31.78125 42.390625 \nQ 38.140625 42.390625 41.71875 45.5625 \nQ 45.3125 48.734375 45.3125 54.390625 \nQ 45.3125 60.0625 41.71875 63.234375 \nQ 38.140625 66.40625 31.78125 66.40625 \nQ 25.390625 66.40625 21.84375 63.234375 \nQ 18.3125 60.0625 18.3125 54.390625 \nz\n\" id=\"DejaVuSans-56\"/>\n      </defs>\n      <g transform=\"translate(349.442845 401.353937)scale(0.1 -0.1)\">\n       <use xlink:href=\"#DejaVuSans-56\"/>\n       <use x=\"63.623047\" xlink:href=\"#DejaVuSans-48\"/>\n      </g>\n     </g>\n    </g>\n   </g>\n   <g id=\"matplotlib.axis_2\">\n    <g id=\"ytick_1\">\n     <g id=\"line2d_6\">\n      <defs>\n       <path d=\"M 0 0 \nL -3.5 0 \n\" id=\"m433fdf4c07\" style=\"stroke:#000000;stroke-width:0.8;\"/>\n      </defs>\n      <g>\n       <use style=\"stroke:#000000;stroke-width:0.8;\" x=\"28.942188\" xlink:href=\"#m433fdf4c07\" y=\"359.901892\"/>\n      </g>\n     </g>\n     <g id=\"text_6\">\n      <!-- −2 -->\n      <defs>\n       <path d=\"M 10.59375 35.5 \nL 73.1875 35.5 \nL 73.1875 27.203125 \nL 10.59375 27.203125 \nz\n\" id=\"DejaVuSans-8722\"/>\n      </defs>\n      <g transform=\"translate(7.2 363.701111)scale(0.1 -0.1)\">\n       <use xlink:href=\"#DejaVuSans-8722\"/>\n       <use x=\"83.789062\" xlink:href=\"#DejaVuSans-50\"/>\n      </g>\n     </g>\n    </g>\n    <g id=\"ytick_2\">\n     <g id=\"line2d_7\">\n      <g>\n       <use style=\"stroke:#000000;stroke-width:0.8;\" x=\"28.942188\" xlink:href=\"#m433fdf4c07\" y=\"305.499897\"/>\n      </g>\n     </g>\n     <g id=\"text_7\">\n      <!-- −1 -->\n      <defs>\n       <path d=\"M 12.40625 8.296875 \nL 28.515625 8.296875 \nL 28.515625 63.921875 \nL 10.984375 60.40625 \nL 10.984375 69.390625 \nL 28.421875 72.90625 \nL 38.28125 72.90625 \nL 38.28125 8.296875 \nL 54.390625 8.296875 \nL 54.390625 0 \nL 12.40625 0 \nz\n\" id=\"DejaVuSans-49\"/>\n      </defs>\n      <g transform=\"translate(7.2 309.299116)scale(0.1 -0.1)\">\n       <use xlink:href=\"#DejaVuSans-8722\"/>\n       <use x=\"83.789062\" xlink:href=\"#DejaVuSans-49\"/>\n      </g>\n     </g>\n    </g>\n    <g id=\"ytick_3\">\n     <g id=\"line2d_8\">\n      <g>\n       <use style=\"stroke:#000000;stroke-width:0.8;\" x=\"28.942188\" xlink:href=\"#m433fdf4c07\" y=\"251.097902\"/>\n      </g>\n     </g>\n     <g id=\"text_8\">\n      <!-- 0 -->\n      <g transform=\"translate(15.579688 254.897121)scale(0.1 -0.1)\">\n       <use xlink:href=\"#DejaVuSans-48\"/>\n      </g>\n     </g>\n    </g>\n    <g id=\"ytick_4\">\n     <g id=\"line2d_9\">\n      <g>\n       <use style=\"stroke:#000000;stroke-width:0.8;\" x=\"28.942188\" xlink:href=\"#m433fdf4c07\" y=\"196.695907\"/>\n      </g>\n     </g>\n     <g id=\"text_9\">\n      <!-- 1 -->\n      <g transform=\"translate(15.579688 200.495125)scale(0.1 -0.1)\">\n       <use xlink:href=\"#DejaVuSans-49\"/>\n      </g>\n     </g>\n    </g>\n    <g id=\"ytick_5\">\n     <g id=\"line2d_10\">\n      <g>\n       <use style=\"stroke:#000000;stroke-width:0.8;\" x=\"28.942188\" xlink:href=\"#m433fdf4c07\" y=\"142.293911\"/>\n      </g>\n     </g>\n     <g id=\"text_10\">\n      <!-- 2 -->\n      <g transform=\"translate(15.579688 146.09313)scale(0.1 -0.1)\">\n       <use xlink:href=\"#DejaVuSans-50\"/>\n      </g>\n     </g>\n    </g>\n    <g id=\"ytick_6\">\n     <g id=\"line2d_11\">\n      <g>\n       <use style=\"stroke:#000000;stroke-width:0.8;\" x=\"28.942188\" xlink:href=\"#m433fdf4c07\" y=\"87.891916\"/>\n      </g>\n     </g>\n     <g id=\"text_11\">\n      <!-- 3 -->\n      <defs>\n       <path d=\"M 40.578125 39.3125 \nQ 47.65625 37.796875 51.625 33 \nQ 55.609375 28.21875 55.609375 21.1875 \nQ 55.609375 10.40625 48.1875 4.484375 \nQ 40.765625 -1.421875 27.09375 -1.421875 \nQ 22.515625 -1.421875 17.65625 -0.515625 \nQ 12.796875 0.390625 7.625 2.203125 \nL 7.625 11.71875 \nQ 11.71875 9.328125 16.59375 8.109375 \nQ 21.484375 6.890625 26.8125 6.890625 \nQ 36.078125 6.890625 40.9375 10.546875 \nQ 45.796875 14.203125 45.796875 21.1875 \nQ 45.796875 27.640625 41.28125 31.265625 \nQ 36.765625 34.90625 28.71875 34.90625 \nL 20.21875 34.90625 \nL 20.21875 43.015625 \nL 29.109375 43.015625 \nQ 36.375 43.015625 40.234375 45.921875 \nQ 44.09375 48.828125 44.09375 54.296875 \nQ 44.09375 59.90625 40.109375 62.90625 \nQ 36.140625 65.921875 28.71875 65.921875 \nQ 24.65625 65.921875 20.015625 65.03125 \nQ 15.375 64.15625 9.8125 62.3125 \nL 9.8125 71.09375 \nQ 15.4375 72.65625 20.34375 73.4375 \nQ 25.25 74.21875 29.59375 74.21875 \nQ 40.828125 74.21875 47.359375 69.109375 \nQ 53.90625 64.015625 53.90625 55.328125 \nQ 53.90625 49.265625 50.4375 45.09375 \nQ 46.96875 40.921875 40.578125 39.3125 \nz\n\" id=\"DejaVuSans-51\"/>\n      </defs>\n      <g transform=\"translate(15.579688 91.691135)scale(0.1 -0.1)\">\n       <use xlink:href=\"#DejaVuSans-51\"/>\n      </g>\n     </g>\n    </g>\n   </g>\n   <g id=\"LineCollection_1\">\n    <path clip-path=\"url(#p4c6b785b67)\" d=\"M 28.942188 227.966752 \nL 33.027977 173.923298 \n\" style=\"fill:none;stroke:#3cffbb;stroke-width:4;\"/>\n    <path clip-path=\"url(#p4c6b785b67)\" d=\"M 33.027977 173.923298 \nL 37.113766 105.910331 \n\" style=\"fill:none;stroke:#e5ff12;stroke-width:4;\"/>\n    <path clip-path=\"url(#p4c6b785b67)\" d=\"M 37.113766 105.910331 \nL 41.199556 71.6459 \n\" style=\"fill:none;stroke:#ff7100;stroke-width:4;\"/>\n    <path clip-path=\"url(#p4c6b785b67)\" d=\"M 41.199556 71.6459 \nL 45.285345 127.901658 \n\" style=\"fill:none;stroke:#ff3500;stroke-width:4;\"/>\n    <path clip-path=\"url(#p4c6b785b67)\" d=\"M 45.285345 127.901658 \nL 49.371135 242.111808 \n\" style=\"fill:none;stroke:#ff2200;stroke-width:4;\"/>\n    <path clip-path=\"url(#p4c6b785b67)\" d=\"M 49.371135 242.111808 \nL 53.456924 303.308939 \n\" style=\"fill:none;stroke:#ffb000;stroke-width:4;\"/>\n    <path clip-path=\"url(#p4c6b785b67)\" d=\"M 53.456924 303.308939 \nL 57.542714 235.72018 \n\" style=\"fill:none;stroke:#ecff0b;stroke-width:4;\"/>\n    <path clip-path=\"url(#p4c6b785b67)\" d=\"M 57.542714 235.72018 \nL 61.628503 205.245159 \n\" style=\"fill:none;stroke:#ffbf00;stroke-width:4;\"/>\n    <path clip-path=\"url(#p4c6b785b67)\" d=\"M 61.628503 205.245159 \nL 65.714293 213.916408 \n\" style=\"fill:none;stroke:#aeff49;stroke-width:4;\"/>\n    <path clip-path=\"url(#p4c6b785b67)\" d=\"M 65.714293 213.916408 \nL 69.800082 192.230163 \n\" style=\"fill:none;stroke:#a7ff4f;stroke-width:4;\"/>\n    <path clip-path=\"url(#p4c6b785b67)\" d=\"M 69.800082 192.230163 \nL 73.885872 211.788276 \n\" style=\"fill:none;stroke:#97ff60;stroke-width:4;\"/>\n    <path clip-path=\"url(#p4c6b785b67)\" d=\"M 73.885872 211.788276 \nL 77.971661 245.123945 \n\" style=\"fill:none;stroke:#77ff80;stroke-width:4;\"/>\n    <path clip-path=\"url(#p4c6b785b67)\" d=\"M 77.971661 245.123945 \nL 82.057451 288.994826 \n\" style=\"fill:none;stroke:#f2fb05;stroke-width:4;\"/>\n    <path clip-path=\"url(#p4c6b785b67)\" d=\"M 82.057451 288.994826 \nL 86.14324 287.126592 \n\" style=\"fill:none;stroke:#d20000;stroke-width:4;\"/>\n    <path clip-path=\"url(#p4c6b785b67)\" d=\"M 86.14324 287.126592 \nL 90.22903 296.79475 \n\" style=\"fill:none;stroke:#e00000;stroke-width:4;\"/>\n    <path clip-path=\"url(#p4c6b785b67)\" d=\"M 90.22903 296.79475 \nL 94.314819 301.979948 \n\" style=\"fill:none;stroke:#e40000;stroke-width:4;\"/>\n    <path clip-path=\"url(#p4c6b785b67)\" d=\"M 94.314819 301.979948 \nL 98.400609 299.807366 \n\" style=\"fill:none;stroke:#ff5e00;stroke-width:4;\"/>\n    <path clip-path=\"url(#p4c6b785b67)\" d=\"M 98.400609 299.807366 \nL 102.486398 301.379815 \n\" style=\"fill:none;stroke:#ed0500;stroke-width:4;\"/>\n    <path clip-path=\"url(#p4c6b785b67)\" d=\"M 102.486398 301.379815 \nL 106.572188 310.296926 \n\" style=\"fill:none;stroke:#800000;stroke-width:4;\"/>\n    <path clip-path=\"url(#p4c6b785b67)\" d=\"M 106.572188 310.296926 \nL 110.657977 311.679128 \n\" style=\"fill:none;stroke:#9b0000;stroke-width:4;\"/>\n    <path clip-path=\"url(#p4c6b785b67)\" d=\"M 110.657977 311.679128 \nL 114.743766 312.609187 \n\" style=\"fill:none;stroke:#f2fb05;stroke-width:4;\"/>\n    <path clip-path=\"url(#p4c6b785b67)\" d=\"M 114.743766 312.609187 \nL 118.829556 316.483381 \n\" style=\"fill:none;stroke:#01e7f5;stroke-width:4;\"/>\n    <path clip-path=\"url(#p4c6b785b67)\" d=\"M 118.829556 316.483381 \nL 122.915345 334.85026 \n\" style=\"fill:none;stroke:#15ffe2;stroke-width:4;\"/>\n    <path clip-path=\"url(#p4c6b785b67)\" d=\"M 122.915345 334.85026 \nL 127.001135 334.617317 \n\" style=\"fill:none;stroke:#6aff8d;stroke-width:4;\"/>\n    <path clip-path=\"url(#p4c6b785b67)\" d=\"M 127.001135 334.617317 \nL 131.086924 330.9827 \n\" style=\"fill:none;stroke:#87ff70;stroke-width:4;\"/>\n    <path clip-path=\"url(#p4c6b785b67)\" d=\"M 131.086924 330.9827 \nL 135.172714 364.1459 \n\" style=\"fill:none;stroke:#b4ff42;stroke-width:4;\"/>\n    <path clip-path=\"url(#p4c6b785b67)\" d=\"M 135.172714 364.1459 \nL 139.258503 352.097782 \n\" style=\"fill:none;stroke:#12fbe5;stroke-width:4;\"/>\n    <path clip-path=\"url(#p4c6b785b67)\" d=\"M 139.258503 352.097782 \nL 143.344293 358.969907 \n\" style=\"fill:none;stroke:#b4ff42;stroke-width:4;\"/>\n    <path clip-path=\"url(#p4c6b785b67)\" d=\"M 143.344293 358.969907 \nL 147.430082 362.143886 \n\" style=\"fill:none;stroke:#e2ff15;stroke-width:4;\"/>\n    <path clip-path=\"url(#p4c6b785b67)\" d=\"M 147.430082 362.143886 \nL 151.515872 348.687489 \n\" style=\"fill:none;stroke:#c1ff35;stroke-width:4;\"/>\n    <path clip-path=\"url(#p4c6b785b67)\" d=\"M 151.515872 348.687489 \nL 155.601661 359.149075 \n\" style=\"fill:none;stroke:#ff6200;stroke-width:4;\"/>\n    <path clip-path=\"url(#p4c6b785b67)\" d=\"M 155.601661 359.149075 \nL 159.687451 357.01329 \n\" style=\"fill:none;stroke:#ffe500;stroke-width:4;\"/>\n    <path clip-path=\"url(#p4c6b785b67)\" d=\"M 159.687451 357.01329 \nL 163.77324 343.939949 \n\" style=\"fill:none;stroke:#80ff77;stroke-width:4;\"/>\n    <path clip-path=\"url(#p4c6b785b67)\" d=\"M 163.77324 343.939949 \nL 167.85903 323.188259 \n\" style=\"fill:none;stroke:#7aff7d;stroke-width:4;\"/>\n    <path clip-path=\"url(#p4c6b785b67)\" d=\"M 167.85903 323.188259 \nL 171.944819 313.5006 \n\" style=\"fill:none;stroke:#00b7ff;stroke-width:4;\"/>\n    <path clip-path=\"url(#p4c6b785b67)\" d=\"M 171.944819 313.5006 \nL 176.030609 298.081019 \n\" style=\"fill:none;stroke:#00c7ff;stroke-width:4;\"/>\n    <path clip-path=\"url(#p4c6b785b67)\" d=\"M 176.030609 298.081019 \nL 180.116398 270.465833 \n\" style=\"fill:none;stroke:#12fbe5;stroke-width:4;\"/>\n    <path clip-path=\"url(#p4c6b785b67)\" d=\"M 180.116398 270.465833 \nL 184.202188 262.244307 \n\" style=\"fill:none;stroke:#009fff;stroke-width:4;\"/>\n    <path clip-path=\"url(#p4c6b785b67)\" d=\"M 184.202188 262.244307 \nL 188.287977 241.141792 \n\" style=\"fill:none;stroke:#0087ff;stroke-width:4;\"/>\n    <path clip-path=\"url(#p4c6b785b67)\" d=\"M 188.287977 241.141792 \nL 192.373766 222.91522 \n\" style=\"fill:none;stroke:#00a3ff;stroke-width:4;\"/>\n    <path clip-path=\"url(#p4c6b785b67)\" d=\"M 192.373766 222.91522 \nL 196.459556 217.407242 \n\" style=\"fill:none;stroke:#00c3ff;stroke-width:4;\"/>\n    <path clip-path=\"url(#p4c6b785b67)\" d=\"M 196.459556 217.407242 \nL 200.545345 206.346778 \n\" style=\"fill:none;stroke:#00dffc;stroke-width:4;\"/>\n    <path clip-path=\"url(#p4c6b785b67)\" d=\"M 200.545345 206.346778 \nL 204.631135 197.959167 \n\" style=\"fill:none;stroke:#00dffc;stroke-width:4;\"/>\n    <path clip-path=\"url(#p4c6b785b67)\" d=\"M 204.631135 197.959167 \nL 208.716924 205.22988 \n\" style=\"fill:none;stroke:#05ebf2;stroke-width:4;\"/>\n    <path clip-path=\"url(#p4c6b785b67)\" d=\"M 208.716924 205.22988 \nL 212.802714 186.584575 \n\" style=\"fill:none;stroke:#1fffd8;stroke-width:4;\"/>\n    <path clip-path=\"url(#p4c6b785b67)\" d=\"M 212.802714 186.584575 \nL 216.888503 187.247793 \n\" style=\"fill:none;stroke:#00a3ff;stroke-width:4;\"/>\n    <path clip-path=\"url(#p4c6b785b67)\" d=\"M 216.888503 187.247793 \nL 220.974293 206.235644 \n\" style=\"fill:none;stroke:#006eff;stroke-width:4;\"/>\n    <path clip-path=\"url(#p4c6b785b67)\" d=\"M 220.974293 206.235644 \nL 225.060082 203.004327 \n\" style=\"fill:none;stroke:#0066ff;stroke-width:4;\"/>\n    <path clip-path=\"url(#p4c6b785b67)\" d=\"M 225.060082 203.004327 \nL 229.145872 208.837863 \n\" style=\"fill:none;stroke:#008fff;stroke-width:4;\"/>\n    <path clip-path=\"url(#p4c6b785b67)\" d=\"M 229.145872 208.837863 \nL 233.231661 203.494337 \n\" style=\"fill:none;stroke:#00a3ff;stroke-width:4;\"/>\n    <path clip-path=\"url(#p4c6b785b67)\" d=\"M 233.231661 203.494337 \nL 237.317451 207.832588 \n\" style=\"fill:none;stroke:#003eff;stroke-width:4;\"/>\n    <path clip-path=\"url(#p4c6b785b67)\" d=\"M 237.317451 207.832588 \nL 241.40324 220.950139 \n\" style=\"fill:none;stroke:#004aff;stroke-width:4;\"/>\n    <path clip-path=\"url(#p4c6b785b67)\" d=\"M 241.40324 220.950139 \nL 245.48903 214.110057 \n\" style=\"fill:none;stroke:#0000f7;stroke-width:4;\"/>\n    <path clip-path=\"url(#p4c6b785b67)\" d=\"M 245.48903 214.110057 \nL 249.574819 217.719489 \n\" style=\"fill:none;stroke:#001aff;stroke-width:4;\"/>\n    <path clip-path=\"url(#p4c6b785b67)\" d=\"M 249.574819 217.719489 \nL 253.660609 217.200574 \n\" style=\"fill:none;stroke:#0000ff;stroke-width:4;\"/>\n    <path clip-path=\"url(#p4c6b785b67)\" d=\"M 253.660609 217.200574 \nL 257.746398 225.871058 \n\" style=\"fill:none;stroke:#000aff;stroke-width:4;\"/>\n    <path clip-path=\"url(#p4c6b785b67)\" d=\"M 257.746398 225.871058 \nL 261.832188 219.224969 \n\" style=\"fill:none;stroke:#0000e9;stroke-width:4;\"/>\n    <path clip-path=\"url(#p4c6b785b67)\" d=\"M 261.832188 219.224969 \nL 265.917977 217.227958 \n\" style=\"fill:none;stroke:#0000c4;stroke-width:4;\"/>\n    <path clip-path=\"url(#p4c6b785b67)\" d=\"M 265.917977 217.227958 \nL 270.003766 234.013904 \n\" style=\"fill:none;stroke:#0000a0;stroke-width:4;\"/>\n    <path clip-path=\"url(#p4c6b785b67)\" d=\"M 270.003766 234.013904 \nL 274.089556 228.157878 \n\" style=\"fill:none;stroke:#00009b;stroke-width:4;\"/>\n    <path clip-path=\"url(#p4c6b785b67)\" d=\"M 274.089556 228.157878 \nL 278.175345 216.313713 \n\" style=\"fill:none;stroke:#000aff;stroke-width:4;\"/>\n    <path clip-path=\"url(#p4c6b785b67)\" d=\"M 278.175345 216.313713 \nL 282.261135 225.487846 \n\" style=\"fill:none;stroke:#0000ad;stroke-width:4;\"/>\n    <path clip-path=\"url(#p4c6b785b67)\" d=\"M 282.261135 225.487846 \nL 286.346924 234.778261 \n\" style=\"fill:none;stroke:#0000ff;stroke-width:4;\"/>\n    <path clip-path=\"url(#p4c6b785b67)\" d=\"M 286.346924 234.778261 \nL 290.432714 237.636317 \n\" style=\"fill:none;stroke:#000084;stroke-width:4;\"/>\n    <path clip-path=\"url(#p4c6b785b67)\" d=\"M 290.432714 237.636317 \nL 294.518503 233.691589 \n\" style=\"fill:none;stroke:#0000ad;stroke-width:4;\"/>\n    <path clip-path=\"url(#p4c6b785b67)\" d=\"M 294.518503 233.691589 \nL 298.604293 234.789931 \n\" style=\"fill:none;stroke:#0000e0;stroke-width:4;\"/>\n    <path clip-path=\"url(#p4c6b785b67)\" d=\"M 298.604293 234.789931 \nL 302.690082 240.167161 \n\" style=\"fill:none;stroke:#0016ff;stroke-width:4;\"/>\n    <path clip-path=\"url(#p4c6b785b67)\" d=\"M 302.690082 240.167161 \nL 306.775872 242.808755 \n\" style=\"fill:none;stroke:#0016ff;stroke-width:4;\"/>\n    <path clip-path=\"url(#p4c6b785b67)\" d=\"M 306.775872 242.808755 \nL 310.861661 247.327471 \n\" style=\"fill:none;stroke:#0000e4;stroke-width:4;\"/>\n    <path clip-path=\"url(#p4c6b785b67)\" d=\"M 310.861661 247.327471 \nL 314.947451 235.287249 \n\" style=\"fill:none;stroke:#0000b6;stroke-width:4;\"/>\n    <path clip-path=\"url(#p4c6b785b67)\" d=\"M 314.947451 235.287249 \nL 319.03324 245.863507 \n\" style=\"fill:none;stroke:#0000f7;stroke-width:4;\"/>\n    <path clip-path=\"url(#p4c6b785b67)\" d=\"M 319.03324 245.863507 \nL 323.11903 230.440644 \n\" style=\"fill:none;stroke:#000089;stroke-width:4;\"/>\n    <path clip-path=\"url(#p4c6b785b67)\" d=\"M 323.11903 230.440644 \nL 327.204819 208.031584 \n\" style=\"fill:none;stroke:#0000d2;stroke-width:4;\"/>\n    <path clip-path=\"url(#p4c6b785b67)\" d=\"M 327.204819 208.031584 \nL 331.290609 218.0943 \n\" style=\"fill:none;stroke:#0022ff;stroke-width:4;\"/>\n    <path clip-path=\"url(#p4c6b785b67)\" d=\"M 331.290609 218.0943 \nL 335.376398 207.492321 \n\" style=\"fill:none;stroke:#0016ff;stroke-width:4;\"/>\n    <path clip-path=\"url(#p4c6b785b67)\" d=\"M 335.376398 207.492321 \nL 339.462188 213.217094 \n\" style=\"fill:none;stroke:#002eff;stroke-width:4;\"/>\n    <path clip-path=\"url(#p4c6b785b67)\" d=\"M 339.462188 213.217094 \nL 343.547977 239.978754 \n\" style=\"fill:none;stroke:#0000e9;stroke-width:4;\"/>\n    <path clip-path=\"url(#p4c6b785b67)\" d=\"M 343.547977 239.978754 \nL 347.633766 239.938852 \n\" style=\"fill:none;stroke:#0000ed;stroke-width:4;\"/>\n    <path clip-path=\"url(#p4c6b785b67)\" d=\"M 347.633766 239.938852 \nL 351.719556 253.554625 \n\" style=\"fill:none;stroke:#0000f2;stroke-width:4;\"/>\n    <path clip-path=\"url(#p4c6b785b67)\" d=\"M 351.719556 253.554625 \nL 355.805345 261.108784 \n\" style=\"fill:none;stroke:#0000e0;stroke-width:4;\"/>\n    <path clip-path=\"url(#p4c6b785b67)\" d=\"M 355.805345 261.108784 \nL 359.891135 244.799525 \n\" style=\"fill:none;stroke:#000080;stroke-width:4;\"/>\n    <path clip-path=\"url(#p4c6b785b67)\" d=\"M 359.891135 244.799525 \nL 363.976924 256.436457 \n\" style=\"fill:none;stroke:#000084;stroke-width:4;\"/>\n    <path clip-path=\"url(#p4c6b785b67)\" d=\"M 363.976924 256.436457 \nL 368.062714 260.801032 \n\" style=\"fill:none;stroke:#0000bb;stroke-width:4;\"/>\n    <path clip-path=\"url(#p4c6b785b67)\" d=\"M 368.062714 260.801032 \nL 372.148503 256.925419 \n\" style=\"fill:none;stroke:#0002ff;stroke-width:4;\"/>\n    <path clip-path=\"url(#p4c6b785b67)\" d=\"M 372.148503 256.925419 \nL 376.234293 261.624218 \n\" style=\"fill:none;stroke:#0000e0;stroke-width:4;\"/>\n    <path clip-path=\"url(#p4c6b785b67)\" d=\"M 376.234293 261.624218 \nL 380.320082 252.087783 \n\" style=\"fill:none;stroke:#0000c4;stroke-width:4;\"/>\n    <path clip-path=\"url(#p4c6b785b67)\" d=\"M 380.320082 252.087783 \nL 384.405872 263.093163 \n\" style=\"fill:none;stroke:#0000c4;stroke-width:4;\"/>\n    <path clip-path=\"url(#p4c6b785b67)\" d=\"M 384.405872 263.093163 \nL 388.491661 259.39728 \n\" style=\"fill:none;stroke:#0000b6;stroke-width:4;\"/>\n    <path clip-path=\"url(#p4c6b785b67)\" d=\"M 388.491661 259.39728 \nL 392.577451 257.463515 \n\" style=\"fill:none;stroke:#0000ad;stroke-width:4;\"/>\n    <path clip-path=\"url(#p4c6b785b67)\" d=\"M 392.577451 257.463515 \nL 396.66324 258.994873 \n\" style=\"fill:none;stroke:#0000c9;stroke-width:4;\"/>\n    <path clip-path=\"url(#p4c6b785b67)\" d=\"M 396.66324 258.994873 \nL 400.74903 257.444895 \n\" style=\"fill:none;stroke:#0000fb;stroke-width:4;\"/>\n    <path clip-path=\"url(#p4c6b785b67)\" d=\"M 400.74903 257.444895 \nL 404.834819 261.938144 \n\" style=\"fill:none;stroke:#0000a9;stroke-width:4;\"/>\n    <path clip-path=\"url(#p4c6b785b67)\" d=\"M 404.834819 261.938144 \nL 408.920609 257.073246 \n\" style=\"fill:none;stroke:#0000a0;stroke-width:4;\"/>\n    <path clip-path=\"url(#p4c6b785b67)\" d=\"M 408.920609 257.073246 \nL 413.006398 258.849508 \n\" style=\"fill:none;stroke:#000096;stroke-width:4;\"/>\n    <path clip-path=\"url(#p4c6b785b67)\" d=\"M 413.006398 258.849508 \nL 417.092188 245.725262 \n\" style=\"fill:none;stroke:#0000c0;stroke-width:4;\"/>\n   </g>\n   <g id=\"patch_3\">\n    <path d=\"M 28.942188 386.7555 \nL 28.942188 35.7555 \n\" style=\"fill:none;stroke:#000000;stroke-linecap:square;stroke-linejoin:miter;stroke-width:0.8;\"/>\n   </g>\n   <g id=\"patch_4\">\n    <path d=\"M 417.092188 386.7555 \nL 417.092188 35.7555 \n\" style=\"fill:none;stroke:#000000;stroke-linecap:square;stroke-linejoin:miter;stroke-width:0.8;\"/>\n   </g>\n   <g id=\"patch_5\">\n    <path d=\"M 28.942188 386.7555 \nL 417.092188 386.7555 \n\" style=\"fill:none;stroke:#000000;stroke-linecap:square;stroke-linejoin:miter;stroke-width:0.8;\"/>\n   </g>\n   <g id=\"patch_6\">\n    <path d=\"M 28.942188 35.7555 \nL 417.092188 35.7555 \n\" style=\"fill:none;stroke:#000000;stroke-linecap:square;stroke-linejoin:miter;stroke-width:0.8;\"/>\n   </g>\n   <g id=\"text_12\">\n    <!-- [Myocardial Infarction] - CAM - mean -->\n    <defs>\n     <path d=\"M 8.59375 75.984375 \nL 29.296875 75.984375 \nL 29.296875 69 \nL 17.578125 69 \nL 17.578125 -6.203125 \nL 29.296875 -6.203125 \nL 29.296875 -13.1875 \nL 8.59375 -13.1875 \nz\n\" id=\"DejaVuSans-91\"/>\n     <path d=\"M 9.8125 72.90625 \nL 24.515625 72.90625 \nL 43.109375 23.296875 \nL 61.8125 72.90625 \nL 76.515625 72.90625 \nL 76.515625 0 \nL 66.890625 0 \nL 66.890625 64.015625 \nL 48.09375 14.015625 \nL 38.1875 14.015625 \nL 19.390625 64.015625 \nL 19.390625 0 \nL 9.8125 0 \nz\n\" id=\"DejaVuSans-77\"/>\n     <path d=\"M 32.171875 -5.078125 \nQ 28.375 -14.84375 24.75 -17.8125 \nQ 21.140625 -20.796875 15.09375 -20.796875 \nL 7.90625 -20.796875 \nL 7.90625 -13.28125 \nL 13.1875 -13.28125 \nQ 16.890625 -13.28125 18.9375 -11.515625 \nQ 21 -9.765625 23.484375 -3.21875 \nL 25.09375 0.875 \nL 2.984375 54.6875 \nL 12.5 54.6875 \nL 29.59375 11.921875 \nL 46.6875 54.6875 \nL 56.203125 54.6875 \nz\n\" id=\"DejaVuSans-121\"/>\n     <path d=\"M 30.609375 48.390625 \nQ 23.390625 48.390625 19.1875 42.75 \nQ 14.984375 37.109375 14.984375 27.296875 \nQ 14.984375 17.484375 19.15625 11.84375 \nQ 23.34375 6.203125 30.609375 6.203125 \nQ 37.796875 6.203125 41.984375 11.859375 \nQ 46.1875 17.53125 46.1875 27.296875 \nQ 46.1875 37.015625 41.984375 42.703125 \nQ 37.796875 48.390625 30.609375 48.390625 \nz\nM 30.609375 56 \nQ 42.328125 56 49.015625 48.375 \nQ 55.71875 40.765625 55.71875 27.296875 \nQ 55.71875 13.875 49.015625 6.21875 \nQ 42.328125 -1.421875 30.609375 -1.421875 \nQ 18.84375 -1.421875 12.171875 6.21875 \nQ 5.515625 13.875 5.515625 27.296875 \nQ 5.515625 40.765625 12.171875 48.375 \nQ 18.84375 56 30.609375 56 \nz\n\" id=\"DejaVuSans-111\"/>\n     <path d=\"M 48.78125 52.59375 \nL 48.78125 44.1875 \nQ 44.96875 46.296875 41.140625 47.34375 \nQ 37.3125 48.390625 33.40625 48.390625 \nQ 24.65625 48.390625 19.8125 42.84375 \nQ 14.984375 37.3125 14.984375 27.296875 \nQ 14.984375 17.28125 19.8125 11.734375 \nQ 24.65625 6.203125 33.40625 6.203125 \nQ 37.3125 6.203125 41.140625 7.25 \nQ 44.96875 8.296875 48.78125 10.40625 \nL 48.78125 2.09375 \nQ 45.015625 0.34375 40.984375 -0.53125 \nQ 36.96875 -1.421875 32.421875 -1.421875 \nQ 20.0625 -1.421875 12.78125 6.34375 \nQ 5.515625 14.109375 5.515625 27.296875 \nQ 5.515625 40.671875 12.859375 48.328125 \nQ 20.21875 56 33.015625 56 \nQ 37.15625 56 41.109375 55.140625 \nQ 45.0625 54.296875 48.78125 52.59375 \nz\n\" id=\"DejaVuSans-99\"/>\n     <path d=\"M 34.28125 27.484375 \nQ 23.390625 27.484375 19.1875 25 \nQ 14.984375 22.515625 14.984375 16.5 \nQ 14.984375 11.71875 18.140625 8.90625 \nQ 21.296875 6.109375 26.703125 6.109375 \nQ 34.1875 6.109375 38.703125 11.40625 \nQ 43.21875 16.703125 43.21875 25.484375 \nL 43.21875 27.484375 \nz\nM 52.203125 31.203125 \nL 52.203125 0 \nL 43.21875 0 \nL 43.21875 8.296875 \nQ 40.140625 3.328125 35.546875 0.953125 \nQ 30.953125 -1.421875 24.3125 -1.421875 \nQ 15.921875 -1.421875 10.953125 3.296875 \nQ 6 8.015625 6 15.921875 \nQ 6 25.140625 12.171875 29.828125 \nQ 18.359375 34.515625 30.609375 34.515625 \nL 43.21875 34.515625 \nL 43.21875 35.40625 \nQ 43.21875 41.609375 39.140625 45 \nQ 35.0625 48.390625 27.6875 48.390625 \nQ 23 48.390625 18.546875 47.265625 \nQ 14.109375 46.140625 10.015625 43.890625 \nL 10.015625 52.203125 \nQ 14.9375 54.109375 19.578125 55.046875 \nQ 24.21875 56 28.609375 56 \nQ 40.484375 56 46.34375 49.84375 \nQ 52.203125 43.703125 52.203125 31.203125 \nz\n\" id=\"DejaVuSans-97\"/>\n     <path d=\"M 41.109375 46.296875 \nQ 39.59375 47.171875 37.8125 47.578125 \nQ 36.03125 48 33.890625 48 \nQ 26.265625 48 22.1875 43.046875 \nQ 18.109375 38.09375 18.109375 28.8125 \nL 18.109375 0 \nL 9.078125 0 \nL 9.078125 54.6875 \nL 18.109375 54.6875 \nL 18.109375 46.1875 \nQ 20.953125 51.171875 25.484375 53.578125 \nQ 30.03125 56 36.53125 56 \nQ 37.453125 56 38.578125 55.875 \nQ 39.703125 55.765625 41.0625 55.515625 \nz\n\" id=\"DejaVuSans-114\"/>\n     <path d=\"M 45.40625 46.390625 \nL 45.40625 75.984375 \nL 54.390625 75.984375 \nL 54.390625 0 \nL 45.40625 0 \nL 45.40625 8.203125 \nQ 42.578125 3.328125 38.25 0.953125 \nQ 33.9375 -1.421875 27.875 -1.421875 \nQ 17.96875 -1.421875 11.734375 6.484375 \nQ 5.515625 14.40625 5.515625 27.296875 \nQ 5.515625 40.1875 11.734375 48.09375 \nQ 17.96875 56 27.875 56 \nQ 33.9375 56 38.25 53.625 \nQ 42.578125 51.265625 45.40625 46.390625 \nz\nM 14.796875 27.296875 \nQ 14.796875 17.390625 18.875 11.75 \nQ 22.953125 6.109375 30.078125 6.109375 \nQ 37.203125 6.109375 41.296875 11.75 \nQ 45.40625 17.390625 45.40625 27.296875 \nQ 45.40625 37.203125 41.296875 42.84375 \nQ 37.203125 48.484375 30.078125 48.484375 \nQ 22.953125 48.484375 18.875 42.84375 \nQ 14.796875 37.203125 14.796875 27.296875 \nz\n\" id=\"DejaVuSans-100\"/>\n     <path d=\"M 9.421875 54.6875 \nL 18.40625 54.6875 \nL 18.40625 0 \nL 9.421875 0 \nz\nM 9.421875 75.984375 \nL 18.40625 75.984375 \nL 18.40625 64.59375 \nL 9.421875 64.59375 \nz\n\" id=\"DejaVuSans-105\"/>\n     <path d=\"M 9.421875 75.984375 \nL 18.40625 75.984375 \nL 18.40625 0 \nL 9.421875 0 \nz\n\" id=\"DejaVuSans-108\"/>\n     <path id=\"DejaVuSans-32\"/>\n     <path d=\"M 9.8125 72.90625 \nL 19.671875 72.90625 \nL 19.671875 0 \nL 9.8125 0 \nz\n\" id=\"DejaVuSans-73\"/>\n     <path d=\"M 54.890625 33.015625 \nL 54.890625 0 \nL 45.90625 0 \nL 45.90625 32.71875 \nQ 45.90625 40.484375 42.875 44.328125 \nQ 39.84375 48.1875 33.796875 48.1875 \nQ 26.515625 48.1875 22.3125 43.546875 \nQ 18.109375 38.921875 18.109375 30.90625 \nL 18.109375 0 \nL 9.078125 0 \nL 9.078125 54.6875 \nL 18.109375 54.6875 \nL 18.109375 46.1875 \nQ 21.34375 51.125 25.703125 53.5625 \nQ 30.078125 56 35.796875 56 \nQ 45.21875 56 50.046875 50.171875 \nQ 54.890625 44.34375 54.890625 33.015625 \nz\n\" id=\"DejaVuSans-110\"/>\n     <path d=\"M 37.109375 75.984375 \nL 37.109375 68.5 \nL 28.515625 68.5 \nQ 23.6875 68.5 21.796875 66.546875 \nQ 19.921875 64.59375 19.921875 59.515625 \nL 19.921875 54.6875 \nL 34.71875 54.6875 \nL 34.71875 47.703125 \nL 19.921875 47.703125 \nL 19.921875 0 \nL 10.890625 0 \nL 10.890625 47.703125 \nL 2.296875 47.703125 \nL 2.296875 54.6875 \nL 10.890625 54.6875 \nL 10.890625 58.5 \nQ 10.890625 67.625 15.140625 71.796875 \nQ 19.390625 75.984375 28.609375 75.984375 \nz\n\" id=\"DejaVuSans-102\"/>\n     <path d=\"M 18.3125 70.21875 \nL 18.3125 54.6875 \nL 36.8125 54.6875 \nL 36.8125 47.703125 \nL 18.3125 47.703125 \nL 18.3125 18.015625 \nQ 18.3125 11.328125 20.140625 9.421875 \nQ 21.96875 7.515625 27.59375 7.515625 \nL 36.8125 7.515625 \nL 36.8125 0 \nL 27.59375 0 \nQ 17.1875 0 13.234375 3.875 \nQ 9.28125 7.765625 9.28125 18.015625 \nL 9.28125 47.703125 \nL 2.6875 47.703125 \nL 2.6875 54.6875 \nL 9.28125 54.6875 \nL 9.28125 70.21875 \nz\n\" id=\"DejaVuSans-116\"/>\n     <path d=\"M 30.421875 75.984375 \nL 30.421875 -13.1875 \nL 9.71875 -13.1875 \nL 9.71875 -6.203125 \nL 21.390625 -6.203125 \nL 21.390625 69 \nL 9.71875 69 \nL 9.71875 75.984375 \nz\n\" id=\"DejaVuSans-93\"/>\n     <path d=\"M 4.890625 31.390625 \nL 31.203125 31.390625 \nL 31.203125 23.390625 \nL 4.890625 23.390625 \nz\n\" id=\"DejaVuSans-45\"/>\n     <path d=\"M 64.40625 67.28125 \nL 64.40625 56.890625 \nQ 59.421875 61.53125 53.78125 63.8125 \nQ 48.140625 66.109375 41.796875 66.109375 \nQ 29.296875 66.109375 22.65625 58.46875 \nQ 16.015625 50.828125 16.015625 36.375 \nQ 16.015625 21.96875 22.65625 14.328125 \nQ 29.296875 6.6875 41.796875 6.6875 \nQ 48.140625 6.6875 53.78125 8.984375 \nQ 59.421875 11.28125 64.40625 15.921875 \nL 64.40625 5.609375 \nQ 59.234375 2.09375 53.4375 0.328125 \nQ 47.65625 -1.421875 41.21875 -1.421875 \nQ 24.65625 -1.421875 15.125 8.703125 \nQ 5.609375 18.84375 5.609375 36.375 \nQ 5.609375 53.953125 15.125 64.078125 \nQ 24.65625 74.21875 41.21875 74.21875 \nQ 47.75 74.21875 53.53125 72.484375 \nQ 59.328125 70.75 64.40625 67.28125 \nz\n\" id=\"DejaVuSans-67\"/>\n     <path d=\"M 34.1875 63.1875 \nL 20.796875 26.90625 \nL 47.609375 26.90625 \nz\nM 28.609375 72.90625 \nL 39.796875 72.90625 \nL 67.578125 0 \nL 57.328125 0 \nL 50.6875 18.703125 \nL 17.828125 18.703125 \nL 11.1875 0 \nL 0.78125 0 \nz\n\" id=\"DejaVuSans-65\"/>\n     <path d=\"M 52 44.1875 \nQ 55.375 50.25 60.0625 53.125 \nQ 64.75 56 71.09375 56 \nQ 79.640625 56 84.28125 50.015625 \nQ 88.921875 44.046875 88.921875 33.015625 \nL 88.921875 0 \nL 79.890625 0 \nL 79.890625 32.71875 \nQ 79.890625 40.578125 77.09375 44.375 \nQ 74.3125 48.1875 68.609375 48.1875 \nQ 61.625 48.1875 57.5625 43.546875 \nQ 53.515625 38.921875 53.515625 30.90625 \nL 53.515625 0 \nL 44.484375 0 \nL 44.484375 32.71875 \nQ 44.484375 40.625 41.703125 44.40625 \nQ 38.921875 48.1875 33.109375 48.1875 \nQ 26.21875 48.1875 22.15625 43.53125 \nQ 18.109375 38.875 18.109375 30.90625 \nL 18.109375 0 \nL 9.078125 0 \nL 9.078125 54.6875 \nL 18.109375 54.6875 \nL 18.109375 46.1875 \nQ 21.1875 51.21875 25.484375 53.609375 \nQ 29.78125 56 35.6875 56 \nQ 41.65625 56 45.828125 52.96875 \nQ 50 49.953125 52 44.1875 \nz\n\" id=\"DejaVuSans-109\"/>\n     <path d=\"M 56.203125 29.59375 \nL 56.203125 25.203125 \nL 14.890625 25.203125 \nQ 15.484375 15.921875 20.484375 11.0625 \nQ 25.484375 6.203125 34.421875 6.203125 \nQ 39.59375 6.203125 44.453125 7.46875 \nQ 49.3125 8.734375 54.109375 11.28125 \nL 54.109375 2.78125 \nQ 49.265625 0.734375 44.1875 -0.34375 \nQ 39.109375 -1.421875 33.890625 -1.421875 \nQ 20.796875 -1.421875 13.15625 6.1875 \nQ 5.515625 13.8125 5.515625 26.8125 \nQ 5.515625 40.234375 12.765625 48.109375 \nQ 20.015625 56 32.328125 56 \nQ 43.359375 56 49.78125 48.890625 \nQ 56.203125 41.796875 56.203125 29.59375 \nz\nM 47.21875 32.234375 \nQ 47.125 39.59375 43.09375 43.984375 \nQ 39.0625 48.390625 32.421875 48.390625 \nQ 24.90625 48.390625 20.390625 44.140625 \nQ 15.875 39.890625 15.1875 32.171875 \nz\n\" id=\"DejaVuSans-101\"/>\n    </defs>\n    <g transform=\"translate(112.70625 16.318125)scale(0.12 -0.12)\">\n     <use xlink:href=\"#DejaVuSans-91\"/>\n     <use x=\"39.013672\" xlink:href=\"#DejaVuSans-77\"/>\n     <use x=\"125.292969\" xlink:href=\"#DejaVuSans-121\"/>\n     <use x=\"184.472656\" xlink:href=\"#DejaVuSans-111\"/>\n     <use x=\"245.654297\" xlink:href=\"#DejaVuSans-99\"/>\n     <use x=\"300.634766\" xlink:href=\"#DejaVuSans-97\"/>\n     <use x=\"361.914062\" xlink:href=\"#DejaVuSans-114\"/>\n     <use x=\"403.011719\" xlink:href=\"#DejaVuSans-100\"/>\n     <use x=\"466.488281\" xlink:href=\"#DejaVuSans-105\"/>\n     <use x=\"494.271484\" xlink:href=\"#DejaVuSans-97\"/>\n     <use x=\"555.550781\" xlink:href=\"#DejaVuSans-108\"/>\n     <use x=\"583.333984\" xlink:href=\"#DejaVuSans-32\"/>\n     <use x=\"615.121094\" xlink:href=\"#DejaVuSans-73\"/>\n     <use x=\"644.613281\" xlink:href=\"#DejaVuSans-110\"/>\n     <use x=\"707.992188\" xlink:href=\"#DejaVuSans-102\"/>\n     <use x=\"743.197266\" xlink:href=\"#DejaVuSans-97\"/>\n     <use x=\"804.476562\" xlink:href=\"#DejaVuSans-114\"/>\n     <use x=\"845.558594\" xlink:href=\"#DejaVuSans-99\"/>\n     <use x=\"900.539062\" xlink:href=\"#DejaVuSans-116\"/>\n     <use x=\"939.748047\" xlink:href=\"#DejaVuSans-105\"/>\n     <use x=\"967.53125\" xlink:href=\"#DejaVuSans-111\"/>\n     <use x=\"1028.712891\" xlink:href=\"#DejaVuSans-110\"/>\n     <use x=\"1092.091797\" xlink:href=\"#DejaVuSans-93\"/>\n     <use x=\"1131.105469\" xlink:href=\"#DejaVuSans-32\"/>\n     <use x=\"1162.892578\" xlink:href=\"#DejaVuSans-45\"/>\n     <use x=\"1198.976562\" xlink:href=\"#DejaVuSans-32\"/>\n     <use x=\"1230.763672\" xlink:href=\"#DejaVuSans-67\"/>\n     <use x=\"1300.587891\" xlink:href=\"#DejaVuSans-65\"/>\n     <use x=\"1368.996094\" xlink:href=\"#DejaVuSans-77\"/>\n     <use x=\"1455.275391\" xlink:href=\"#DejaVuSans-32\"/>\n     <use x=\"1487.0625\" xlink:href=\"#DejaVuSans-45\"/>\n     <use x=\"1523.146484\" xlink:href=\"#DejaVuSans-32\"/>\n     <use x=\"1554.933594\" xlink:href=\"#DejaVuSans-109\"/>\n     <use x=\"1652.345703\" xlink:href=\"#DejaVuSans-101\"/>\n     <use x=\"1713.869141\" xlink:href=\"#DejaVuSans-97\"/>\n     <use x=\"1775.148438\" xlink:href=\"#DejaVuSans-110\"/>\n    </g>\n    <!--  91.9 -->\n    <defs>\n     <path d=\"M 10.984375 1.515625 \nL 10.984375 10.5 \nQ 14.703125 8.734375 18.5 7.8125 \nQ 22.3125 6.890625 25.984375 6.890625 \nQ 35.75 6.890625 40.890625 13.453125 \nQ 46.046875 20.015625 46.78125 33.40625 \nQ 43.953125 29.203125 39.59375 26.953125 \nQ 35.25 24.703125 29.984375 24.703125 \nQ 19.046875 24.703125 12.671875 31.3125 \nQ 6.296875 37.9375 6.296875 49.421875 \nQ 6.296875 60.640625 12.9375 67.421875 \nQ 19.578125 74.21875 30.609375 74.21875 \nQ 43.265625 74.21875 49.921875 64.515625 \nQ 56.59375 54.828125 56.59375 36.375 \nQ 56.59375 19.140625 48.40625 8.859375 \nQ 40.234375 -1.421875 26.421875 -1.421875 \nQ 22.703125 -1.421875 18.890625 -0.6875 \nQ 15.09375 0.046875 10.984375 1.515625 \nz\nM 30.609375 32.421875 \nQ 37.25 32.421875 41.125 36.953125 \nQ 45.015625 41.5 45.015625 49.421875 \nQ 45.015625 57.28125 41.125 61.84375 \nQ 37.25 66.40625 30.609375 66.40625 \nQ 23.96875 66.40625 20.09375 61.84375 \nQ 16.21875 57.28125 16.21875 49.421875 \nQ 16.21875 41.5 20.09375 36.953125 \nQ 23.96875 32.421875 30.609375 32.421875 \nz\n\" id=\"DejaVuSans-57\"/>\n     <path d=\"M 10.6875 12.40625 \nL 21 12.40625 \nL 21 0 \nL 10.6875 0 \nz\n\" id=\"DejaVuSans-46\"/>\n    </defs>\n    <g transform=\"translate(207.750938 29.7555)scale(0.12 -0.12)\">\n     <use xlink:href=\"#DejaVuSans-32\"/>\n     <use x=\"31.787109\" xlink:href=\"#DejaVuSans-57\"/>\n     <use x=\"95.410156\" xlink:href=\"#DejaVuSans-49\"/>\n     <use x=\"159.033203\" xlink:href=\"#DejaVuSans-46\"/>\n     <use x=\"190.820312\" xlink:href=\"#DejaVuSans-57\"/>\n    </g>\n   </g>\n  </g>\n  <g id=\"axes_2\">\n   <g id=\"patch_7\">\n    <path clip-path=\"url(#p6649902730)\" d=\"M 441.351563 386.7555 \nL 441.351563 385.37361 \nL 441.351563 37.13739 \nL 441.351563 35.7555 \nL 458.901563 35.7555 \nL 458.901563 37.13739 \nL 458.901563 385.37361 \nL 458.901563 386.7555 \nz\n\" style=\"fill:#ffffff;stroke:#ffffff;stroke-linejoin:miter;stroke-width:0.01;\"/>\n   </g>\n   <image height=\"351\" id=\"image7efaa06e5d\" transform=\"scale(1 -1)translate(0 -351)\" width=\"18\" x=\"441\" xlink:href=\"data:image/png;base64,\niVBORw0KGgoAAAANSUhEUgAAABIAAAFfCAYAAABDf5xRAAAABHNCSVQICAgIfAhkiAAAAaxJREFUeJztm0GOwzAMA5Wt9t/777Ron6A9DIypQD6AMEemk8DIVfX3LkBd1YRPddUvYvSDuJQxGrYikhEWLYxmo0SbjXzHSBgN2h0t4x+UaP8ykj1pfYyuqjfyVotFi9Gspqwa2kacEcgo0b7PKIxmLWa0OFoYHTRazGhxtDCatThaGB00Ahkx38bKaLaphdFBo8WMFkcLo1mLo4XRQaPFjMhoL5nR1U/EiGPUVLQHZMRFo1bUD2hqGGwjo8KMdBXhounGb5saBlvJSAY7FZnlm1oqMouMJpuaklEqMmhzRZqa2mJGWDQdbCEjXzTd1ISMdBURRtM9aRd/Qigrkvejg0apyCDl+FORg0apyCDl+FORg0apyCBw/E8q2pOqyAv5xwtlJDMC7/upaNDG5lZkZGSDvZiRMVoqMhtlZx8zAhnZdraRUSryfUapyKzFjFZXJMfIJGO0VOSgUSoyafHhb2Rk29mrGfmi2aZmZGSriDHaXkbQJQRodOsqclPHCMUIjMZcHRX091pV35ARWBHKyBeNWtFmRrpoYTRrcTRsRcJjJIxmo0QbhUX7AEk9uCg8AJruAAAAAElFTkSuQmCC\" y=\"-35\"/>\n   <g id=\"matplotlib.axis_3\"/>\n   <g id=\"matplotlib.axis_4\">\n    <g id=\"ytick_7\">\n     <g id=\"line2d_12\">\n      <defs>\n       <path d=\"M 0 0 \nL 3.5 0 \n\" id=\"me10bdd7466\" style=\"stroke:#000000;stroke-width:0.8;\"/>\n      </defs>\n      <g>\n       <use style=\"stroke:#000000;stroke-width:0.8;\" x=\"458.901563\" xlink:href=\"#me10bdd7466\" y=\"386.7555\"/>\n      </g>\n     </g>\n     <g id=\"text_13\">\n      <!-- 0.0000 -->\n      <g transform=\"translate(465.901563 390.554719)scale(0.1 -0.1)\">\n       <use xlink:href=\"#DejaVuSans-48\"/>\n       <use x=\"63.623047\" xlink:href=\"#DejaVuSans-46\"/>\n       <use x=\"95.410156\" xlink:href=\"#DejaVuSans-48\"/>\n       <use x=\"159.033203\" xlink:href=\"#DejaVuSans-48\"/>\n       <use x=\"222.65625\" xlink:href=\"#DejaVuSans-48\"/>\n       <use x=\"286.279297\" xlink:href=\"#DejaVuSans-48\"/>\n      </g>\n     </g>\n    </g>\n    <g id=\"ytick_8\">\n     <g id=\"line2d_13\">\n      <g>\n       <use style=\"stroke:#000000;stroke-width:0.8;\" x=\"458.901563\" xlink:href=\"#me10bdd7466\" y=\"350.826366\"/>\n      </g>\n     </g>\n     <g id=\"text_14\">\n      <!-- 0.1024 -->\n      <g transform=\"translate(465.901563 354.625585)scale(0.1 -0.1)\">\n       <use xlink:href=\"#DejaVuSans-48\"/>\n       <use x=\"63.623047\" xlink:href=\"#DejaVuSans-46\"/>\n       <use x=\"95.410156\" xlink:href=\"#DejaVuSans-49\"/>\n       <use x=\"159.033203\" xlink:href=\"#DejaVuSans-48\"/>\n       <use x=\"222.65625\" xlink:href=\"#DejaVuSans-50\"/>\n       <use x=\"286.279297\" xlink:href=\"#DejaVuSans-52\"/>\n      </g>\n     </g>\n    </g>\n    <g id=\"ytick_9\">\n     <g id=\"line2d_14\">\n      <g>\n       <use style=\"stroke:#000000;stroke-width:0.8;\" x=\"458.901563\" xlink:href=\"#me10bdd7466\" y=\"314.897232\"/>\n      </g>\n     </g>\n     <g id=\"text_15\">\n      <!-- 0.2047 -->\n      <defs>\n       <path d=\"M 8.203125 72.90625 \nL 55.078125 72.90625 \nL 55.078125 68.703125 \nL 28.609375 0 \nL 18.3125 0 \nL 43.21875 64.59375 \nL 8.203125 64.59375 \nz\n\" id=\"DejaVuSans-55\"/>\n      </defs>\n      <g transform=\"translate(465.901563 318.696451)scale(0.1 -0.1)\">\n       <use xlink:href=\"#DejaVuSans-48\"/>\n       <use x=\"63.623047\" xlink:href=\"#DejaVuSans-46\"/>\n       <use x=\"95.410156\" xlink:href=\"#DejaVuSans-50\"/>\n       <use x=\"159.033203\" xlink:href=\"#DejaVuSans-48\"/>\n       <use x=\"222.65625\" xlink:href=\"#DejaVuSans-52\"/>\n       <use x=\"286.279297\" xlink:href=\"#DejaVuSans-55\"/>\n      </g>\n     </g>\n    </g>\n    <g id=\"ytick_10\">\n     <g id=\"line2d_15\">\n      <g>\n       <use style=\"stroke:#000000;stroke-width:0.8;\" x=\"458.901563\" xlink:href=\"#me10bdd7466\" y=\"278.968098\"/>\n      </g>\n     </g>\n     <g id=\"text_16\">\n      <!-- 0.3071 -->\n      <g transform=\"translate(465.901563 282.767317)scale(0.1 -0.1)\">\n       <use xlink:href=\"#DejaVuSans-48\"/>\n       <use x=\"63.623047\" xlink:href=\"#DejaVuSans-46\"/>\n       <use x=\"95.410156\" xlink:href=\"#DejaVuSans-51\"/>\n       <use x=\"159.033203\" xlink:href=\"#DejaVuSans-48\"/>\n       <use x=\"222.65625\" xlink:href=\"#DejaVuSans-55\"/>\n       <use x=\"286.279297\" xlink:href=\"#DejaVuSans-49\"/>\n      </g>\n     </g>\n    </g>\n    <g id=\"ytick_11\">\n     <g id=\"line2d_16\">\n      <g>\n       <use style=\"stroke:#000000;stroke-width:0.8;\" x=\"458.901563\" xlink:href=\"#me10bdd7466\" y=\"243.038965\"/>\n      </g>\n     </g>\n     <g id=\"text_17\">\n      <!-- 0.4094 -->\n      <g transform=\"translate(465.901563 246.838183)scale(0.1 -0.1)\">\n       <use xlink:href=\"#DejaVuSans-48\"/>\n       <use x=\"63.623047\" xlink:href=\"#DejaVuSans-46\"/>\n       <use x=\"95.410156\" xlink:href=\"#DejaVuSans-52\"/>\n       <use x=\"159.033203\" xlink:href=\"#DejaVuSans-48\"/>\n       <use x=\"222.65625\" xlink:href=\"#DejaVuSans-57\"/>\n       <use x=\"286.279297\" xlink:href=\"#DejaVuSans-52\"/>\n      </g>\n     </g>\n    </g>\n    <g id=\"ytick_12\">\n     <g id=\"line2d_17\">\n      <g>\n       <use style=\"stroke:#000000;stroke-width:0.8;\" x=\"458.901563\" xlink:href=\"#me10bdd7466\" y=\"207.109831\"/>\n      </g>\n     </g>\n     <g id=\"text_18\">\n      <!-- 0.5118 -->\n      <defs>\n       <path d=\"M 10.796875 72.90625 \nL 49.515625 72.90625 \nL 49.515625 64.59375 \nL 19.828125 64.59375 \nL 19.828125 46.734375 \nQ 21.96875 47.46875 24.109375 47.828125 \nQ 26.265625 48.1875 28.421875 48.1875 \nQ 40.625 48.1875 47.75 41.5 \nQ 54.890625 34.8125 54.890625 23.390625 \nQ 54.890625 11.625 47.5625 5.09375 \nQ 40.234375 -1.421875 26.90625 -1.421875 \nQ 22.3125 -1.421875 17.546875 -0.640625 \nQ 12.796875 0.140625 7.71875 1.703125 \nL 7.71875 11.625 \nQ 12.109375 9.234375 16.796875 8.0625 \nQ 21.484375 6.890625 26.703125 6.890625 \nQ 35.15625 6.890625 40.078125 11.328125 \nQ 45.015625 15.765625 45.015625 23.390625 \nQ 45.015625 31 40.078125 35.4375 \nQ 35.15625 39.890625 26.703125 39.890625 \nQ 22.75 39.890625 18.8125 39.015625 \nQ 14.890625 38.140625 10.796875 36.28125 \nz\n\" id=\"DejaVuSans-53\"/>\n      </defs>\n      <g transform=\"translate(465.901563 210.909049)scale(0.1 -0.1)\">\n       <use xlink:href=\"#DejaVuSans-48\"/>\n       <use x=\"63.623047\" xlink:href=\"#DejaVuSans-46\"/>\n       <use x=\"95.410156\" xlink:href=\"#DejaVuSans-53\"/>\n       <use x=\"159.033203\" xlink:href=\"#DejaVuSans-49\"/>\n       <use x=\"222.65625\" xlink:href=\"#DejaVuSans-49\"/>\n       <use x=\"286.279297\" xlink:href=\"#DejaVuSans-56\"/>\n      </g>\n     </g>\n    </g>\n    <g id=\"ytick_13\">\n     <g id=\"line2d_18\">\n      <g>\n       <use style=\"stroke:#000000;stroke-width:0.8;\" x=\"458.901563\" xlink:href=\"#me10bdd7466\" y=\"171.180697\"/>\n      </g>\n     </g>\n     <g id=\"text_19\">\n      <!-- 0.6142 -->\n      <g transform=\"translate(465.901563 174.979916)scale(0.1 -0.1)\">\n       <use xlink:href=\"#DejaVuSans-48\"/>\n       <use x=\"63.623047\" xlink:href=\"#DejaVuSans-46\"/>\n       <use x=\"95.410156\" xlink:href=\"#DejaVuSans-54\"/>\n       <use x=\"159.033203\" xlink:href=\"#DejaVuSans-49\"/>\n       <use x=\"222.65625\" xlink:href=\"#DejaVuSans-52\"/>\n       <use x=\"286.279297\" xlink:href=\"#DejaVuSans-50\"/>\n      </g>\n     </g>\n    </g>\n    <g id=\"ytick_14\">\n     <g id=\"line2d_19\">\n      <g>\n       <use style=\"stroke:#000000;stroke-width:0.8;\" x=\"458.901563\" xlink:href=\"#me10bdd7466\" y=\"135.251563\"/>\n      </g>\n     </g>\n     <g id=\"text_20\">\n      <!-- 0.7165 -->\n      <g transform=\"translate(465.901563 139.050782)scale(0.1 -0.1)\">\n       <use xlink:href=\"#DejaVuSans-48\"/>\n       <use x=\"63.623047\" xlink:href=\"#DejaVuSans-46\"/>\n       <use x=\"95.410156\" xlink:href=\"#DejaVuSans-55\"/>\n       <use x=\"159.033203\" xlink:href=\"#DejaVuSans-49\"/>\n       <use x=\"222.65625\" xlink:href=\"#DejaVuSans-54\"/>\n       <use x=\"286.279297\" xlink:href=\"#DejaVuSans-53\"/>\n      </g>\n     </g>\n    </g>\n    <g id=\"ytick_15\">\n     <g id=\"line2d_20\">\n      <g>\n       <use style=\"stroke:#000000;stroke-width:0.8;\" x=\"458.901563\" xlink:href=\"#me10bdd7466\" y=\"99.322429\"/>\n      </g>\n     </g>\n     <g id=\"text_21\">\n      <!-- 0.8189 -->\n      <g transform=\"translate(465.901563 103.121648)scale(0.1 -0.1)\">\n       <use xlink:href=\"#DejaVuSans-48\"/>\n       <use x=\"63.623047\" xlink:href=\"#DejaVuSans-46\"/>\n       <use x=\"95.410156\" xlink:href=\"#DejaVuSans-56\"/>\n       <use x=\"159.033203\" xlink:href=\"#DejaVuSans-49\"/>\n       <use x=\"222.65625\" xlink:href=\"#DejaVuSans-56\"/>\n       <use x=\"286.279297\" xlink:href=\"#DejaVuSans-57\"/>\n      </g>\n     </g>\n    </g>\n    <g id=\"ytick_16\">\n     <g id=\"line2d_21\">\n      <g>\n       <use style=\"stroke:#000000;stroke-width:0.8;\" x=\"458.901563\" xlink:href=\"#me10bdd7466\" y=\"63.393295\"/>\n      </g>\n     </g>\n     <g id=\"text_22\">\n      <!-- 0.9213 -->\n      <g transform=\"translate(465.901563 67.192514)scale(0.1 -0.1)\">\n       <use xlink:href=\"#DejaVuSans-48\"/>\n       <use x=\"63.623047\" xlink:href=\"#DejaVuSans-46\"/>\n       <use x=\"95.410156\" xlink:href=\"#DejaVuSans-57\"/>\n       <use x=\"159.033203\" xlink:href=\"#DejaVuSans-50\"/>\n       <use x=\"222.65625\" xlink:href=\"#DejaVuSans-49\"/>\n       <use x=\"286.279297\" xlink:href=\"#DejaVuSans-51\"/>\n      </g>\n     </g>\n    </g>\n   </g>\n   <g id=\"patch_8\">\n    <path d=\"M 441.351563 386.7555 \nL 441.351563 385.37361 \nL 441.351563 37.13739 \nL 441.351563 35.7555 \nL 458.901563 35.7555 \nL 458.901563 37.13739 \nL 458.901563 385.37361 \nL 458.901563 386.7555 \nz\n\" style=\"fill:none;stroke:#000000;stroke-linejoin:miter;stroke-width:0.8;\"/>\n   </g>\n  </g>\n </g>\n <defs>\n  <clipPath id=\"p4c6b785b67\">\n   <rect height=\"351\" width=\"388.15\" x=\"28.942188\" y=\"35.7555\"/>\n  </clipPath>\n  <clipPath id=\"p6649902730\">\n   <rect height=\"351\" width=\"17.55\" x=\"441.351563\" y=\"35.7555\"/>\n  </clipPath>\n </defs>\n</svg>\n",
      "text/plain": "<Figure size 576x432 with 2 Axes>"
     },
     "execution_count": null,
     "metadata": {},
     "output_type": "execute_result"
    }
   ],
   "source": [
    "fig2 = display_cam(0)\n",
    "fig2"
   ]
  },
  {
   "cell_type": "code",
   "execution_count": null,
   "metadata": {},
   "outputs": [],
   "source": [
    "def _on_ts_index_change(_):\n",
    "    \"\"\"\n",
    "    Called whenever time series index slider changes.\n",
    "    redraws both times series curve and its CAM. Hide CAM and the Score button is pressed.\n",
    "    \"\"\"\n",
    "    idx = ts_idx_slider.value\n",
    "    print(f'Slider Index Changed: {idx}')\n",
    "    display_sample(idx)\n",
    "    display_cam(idx)\n",
    "    \n",
    "ts_idx_slider =IntSlider(value=0,min=0,max=n_samples-1,step=1, description='Time Series Index')\n",
    "ts_idx_slider.observe(_on_ts_index_change, ['value'])\n",
    "\n",
    "\n",
    "# ts_curve = widgets.interactive(display_sample, idx=idx_slider)\n",
    "\n",
    "# # Set the height of the control.children[-1] so that the output does not jump and flicker\n",
    "# output = ts_curve.children[-1]\n",
    "\n",
    "# # output.layout.height = '500px'\n",
    "# # output.layout.width = '1000px'\n",
    "\n",
    "# # ts_curve"
   ]
  },
  {
   "cell_type": "code",
   "execution_count": null,
   "metadata": {},
   "outputs": [],
   "source": [
    "# display_sample(idx_slider.value)"
   ]
  },
  {
   "cell_type": "code",
   "execution_count": null,
   "metadata": {},
   "outputs": [],
   "source": [
    "# [items[idx_slider.value]]"
   ]
  },
  {
   "cell_type": "code",
   "execution_count": null,
   "metadata": {},
   "outputs": [],
   "source": [
    "guest_prediction_lbl = widgets.Label(value=\"Guest Prediction:\")\n",
    "guest_confidence_lbl = widgets.Label(value=\"Guest Confidence (%):\")\n"
   ]
  },
  {
   "cell_type": "code",
   "execution_count": null,
   "metadata": {},
   "outputs": [],
   "source": [
    "guest_prediction = widgets.RadioButtons(\n",
    "    options=['Normal Heart Beat', 'Myocardial Infarction'],\n",
    "#    value='Normal Heart Beat', # Defaults to 'Normal Heart Beat'\n",
    "   layout={'width': 'max-content'}, # If the items' names are long\n",
    "#     description='Your Prediction:',\n",
    "    disabled=False\n",
    ")"
   ]
  },
  {
   "cell_type": "code",
   "execution_count": null,
   "metadata": {},
   "outputs": [],
   "source": [
    "guest_confidence = widgets.IntSlider(min=-0, max=100, step=1, value=80)"
   ]
  },
  {
   "cell_type": "code",
   "execution_count": null,
   "metadata": {},
   "outputs": [],
   "source": [
    "def validate_guess(model_prediction, model_confidence, guest_prediction, guest_confidence):\n",
    "    if model_prediction != guest_prediction: \n",
    "        return 'Your guess is incorrect. Please try again!'\n",
    "    else:\n",
    "        if guest_confidence >= model_confidence: \n",
    "            return 'Congratulations! You beat the neural network!'\n",
    "        else:\n",
    "            return 'Good guess! But the neural network is more confident in its prediction than you!'\n",
    "    "
   ]
  },
  {
   "cell_type": "markdown",
   "metadata": {},
   "source": [
    "## App"
   ]
  },
  {
   "cell_type": "code",
   "execution_count": null,
   "metadata": {},
   "outputs": [],
   "source": [
    "#App Title\n",
    "app_title = widgets.HTML(\"<h1 align=center style='color:greenyellow; line-height: 40px; font-size:46px; font-weight: bold; font-family: 'Roboto''>Cardiologist of the Day</h1>\")"
   ]
  },
  {
   "cell_type": "code",
   "execution_count": null,
   "metadata": {},
   "outputs": [],
   "source": [
    "# Score Panel\n",
    "style={'font_size': '1em', 'font_weight': 'bold', 'color': 'red'}\n",
    "style={'font_weight': 'bold'}\n",
    "# layout=Layout(width='auto', grid_area='header')\n",
    "# style={'color:greenyellow; font-size:3em'}\n",
    "# guest_score_lbl = widgets.Label(value=\"Your Score\", style={'font_weight': 'bold'})\n",
    "# guest_score_lbl.add_class(\"mytext\")\n",
    "# guest_score_lbl.style.font_size = '2em'\n",
    "\n",
    "guest_score_lbl = widgets.HTML(\"<h3 style='color:#A60000; line-height: 40px; font-size:39px; font-weight: bold; font-family: 'Roboto';>Your Score</h3>\")\n",
    "# guest_score_val = widgets.Label(value=\"0\", style=style)\n",
    "guest_score_val = widgets.HTML(\"<h3 style='color:black; line-height: 40px; font-size:39px; font-weight: bold; font-family: 'Roboto';>0</h3>\")\n",
    "guest_score_box = widgets.VBox([guest_score_lbl, guest_score_val], style=style)\n",
    "\n",
    "nn_score_lbl = widgets.HTML(\"<h3 style='color:#A60000; line-height: 40px; font-size:39px; font-weight: bold; font-family: 'Roboto';>Neural Net Score</h3>\")\n",
    "nn_score_val = widgets.HTML(\"<h3 style='color:black; line-height: 40px; font-size:39px; font-weight: bold; font-family: 'Roboto';>0</h3>\")\n",
    "nn_score_box = widgets.VBox([nn_score_lbl, nn_score_val])\n",
    "\n",
    "score_box = widgets.HBox([guest_score_box, nn_score_box]) # , style={'font-size': '3em'}"
   ]
  },
  {
   "cell_type": "code",
   "execution_count": null,
   "metadata": {},
   "outputs": [],
   "source": [
    "# nn_verdict_wg = widgets.HTML(f\"<h3 style='color:#A60000; line-height: 40px; font-size:39px; font-weight: bold; font-family: 'Roboto';>Verdict</h3>\")\n",
    "nn_verdict_wg = widgets.HTML(\n",
    "    value='',\n",
    "    layout=Layout(width='auto', height='auto')\n",
    ")"
   ]
  },
  {
   "cell_type": "code",
   "execution_count": null,
   "metadata": {},
   "outputs": [],
   "source": [
    "# Guess Button\n",
    "item_layout = widgets.Layout(height='30px', min_width='300px')\n",
    "btn_guess = widgets.Button(description=\"Score\",  button_style='info', layout=item_layout)\n",
    "\n",
    "# btn_guess = widgets.Button(description=\"Score\")\n",
    "btn_guess.style.button_color = 'greenyellow'\n",
    "btn_guess.style.font_weight = '1000'\n",
    "btn_guess.style.font_size = '40px'"
   ]
  },
  {
   "cell_type": "code",
   "execution_count": null,
   "metadata": {},
   "outputs": [],
   "source": [
    "# def on_btn_guess_clicked(b):        \n",
    "#     if cam_created == True:\n",
    "#         cam.update(show_cam_out(idx_slider.value))\n",
    "#         # print(verdict_str)\n",
    "#         cam_created = True\n",
    "#     else:\n",
    "#         cam = display(show_cam_out(idx_slider.value), display_id=True)\n",
    "        \n",
    "# btn_guess.on_click(on_btn_guess_clicked)"
   ]
  },
  {
   "cell_type": "code",
   "execution_count": null,
   "metadata": {},
   "outputs": [],
   "source": [
    "cam = widgets.Output()\n",
    "\n",
    "def on_btn_guess_clicked(b):\n",
    "    with cam:\n",
    "        cam.clear_output()\n",
    "        show_preds(ts_idx_slider.value)\n",
    "\n",
    "btn_guess.on_click(on_btn_guess_clicked)"
   ]
  },
  {
   "cell_type": "code",
   "execution_count": null,
   "metadata": {},
   "outputs": [],
   "source": [
    "# def on_btn_guess_clicked(b):\n",
    "#     with ts_curve.Output:\n",
    "#         ts_curve.Output.clear_output()\n",
    "#         predictions, confidences = show_preds(idx_slider.value)\n",
    "#         model_prediction = predictions[0]\n",
    "#         model_confidence = confidences[0]\n",
    "#         g_p = guest_prediction.value\n",
    "#         g_c = guest_confidence.value\n",
    "\n",
    "#         verdict_str = validate_guess(model_prediction, model_confidence, g_p, g_c)\n",
    "#         nn_verdict_wg.value = verdict_str\n",
    "#         # print(verdict_str)\n",
    "\n",
    "# btn_guess.on_click(on_btn_guess_clicked)"
   ]
  },
  {
   "cell_type": "code",
   "execution_count": null,
   "metadata": {},
   "outputs": [],
   "source": [
    "# Guess Selection Panel\n",
    "guess_pred = widgets.VBox([guest_prediction_lbl, guest_prediction])\n",
    "guess_conf = widgets.VBox([ guest_confidence_lbl, guest_confidence])\n",
    "guess_comp = widgets.HBox([guess_pred, guess_conf, btn_guess])"
   ]
  },
  {
   "cell_type": "code",
   "execution_count": null,
   "metadata": {},
   "outputs": [
    {
     "data": {
      "application/vnd.jupyter.widget-view+json": {
       "model_id": "e12075c5ecc74ec4bec122c2ab39be43",
       "version_major": 2,
       "version_minor": 0
      },
      "text/plain": "HBox(children=(Output(), Output(outputs=({'output_type': 'display_data', 'data': {'text/plain': '<IPython.core…"
     },
     "metadata": {},
     "output_type": "display_data"
    }
   ],
   "source": [
    "# Original curv\n",
    "# score_out = widgets.HBox([ts_curve, cam])\n",
    "score_out = widgets.HBox([out_ts, out_cam])\n",
    "# display_sample(0)\n",
    "# display_cam(0)\n",
    "score_out"
   ]
  },
  {
   "cell_type": "code",
   "execution_count": null,
   "metadata": {},
   "outputs": [
    {
     "data": {
      "application/vnd.jupyter.widget-view+json": {
       "model_id": "9c392685912a4f0797adbab8c8c0832b",
       "version_major": 2,
       "version_minor": 0
      },
      "text/plain": "HTML(value='\\n    <style>\\n       .widget-vbox {\\n            width: 900px\\n            padding-top: 20px;\\n  …"
     },
     "metadata": {},
     "output_type": "display_data"
    }
   ],
   "source": [
    "style = \"\"\"\n",
    "    <style>\n",
    "       .widget-vbox {\n",
    "            width: 900px\n",
    "            padding-top: 20px;\n",
    "            padding-right: 0px;\n",
    "            padding-bottom: 20px;\n",
    "            padding-left: 10px;\n",
    "       }\n",
    "       \n",
    "       .output_wrapper .output_scroll {\n",
    "            height: unset !important;\n",
    "            border-radius: unset !important;\n",
    "            -webkit-box-shadow: unset !important;\n",
    "            box-shadow: unset !important;\n",
    "        }\n",
    "    </style>\n",
    "    \"\"\"\n",
    "display(widgets.HTML(style))"
   ]
  },
  {
   "cell_type": "code",
   "execution_count": null,
   "metadata": {},
   "outputs": [
    {
     "data": {
      "application/vnd.jupyter.widget-view+json": {
       "model_id": "3024632fa6a24e6fa53815692bb8dd5a",
       "version_major": 2,
       "version_minor": 0
      },
      "text/plain": "VBox(children=(HTML(value=\"<h1 align=center style='color:greenyellow; line-height: 40px; font-size:46px; font-…"
     },
     "metadata": {},
     "output_type": "display_data"
    }
   ],
   "source": [
    "# app_wg = widgets.VBox([app_title, ts_curve, score_box, guess_comp, score_out])\n",
    "widgets.VBox([app_title, score_box, guess_comp, ts_idx_slider, score_out, nn_verdict_wg])\n",
    "\n",
    "# output = app_wg.children[-1]\n",
    "# output.layout.height = '1000px'\n",
    "# output.layout.width = '1000px'\n",
    "\n",
    "# app_wg"
   ]
  },
  {
   "cell_type": "code",
   "execution_count": null,
   "metadata": {},
   "outputs": [],
   "source": [
    "# widgets.VBox([app_title, score_box, guess_comp, score_out])"
   ]
  },
  {
   "cell_type": "code",
   "execution_count": null,
   "metadata": {},
   "outputs": [],
   "source": [
    "# nn_verdict_wg.layout.visibility = 'visible'\n",
    "# widgets.AppLayout(header=app_title,\n",
    "#           left_sidebar=guess_input,\n",
    "#           center=score_out,\n",
    "#           right_sidebar=ts_curve,\n",
    "#           footer=nn_verdict_wg,\n",
    "#           pane_widths=[3, 3, 1],\n",
    "#           pane_heights=[1, 5, '60px'])"
   ]
  },
  {
   "cell_type": "markdown",
   "metadata": {},
   "source": [
    "![](images/montreal-pont-jacques-cartier.jpg)\n"
   ]
  },
  {
   "cell_type": "code",
   "execution_count": null,
   "metadata": {},
   "outputs": [],
   "source": []
  }
 ],
 "metadata": {
  "kernelspec": {
   "display_name": "Python 3",
   "language": "python",
   "name": "python3"
  }
 },
 "nbformat": 4,
 "nbformat_minor": 1
}
