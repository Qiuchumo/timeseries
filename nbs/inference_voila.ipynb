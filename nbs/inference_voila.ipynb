{
 "cells": [
  {
   "cell_type": "markdown",
   "metadata": {},
   "source": [
    "<a href=\"https://colab.research.google.com/github/ai-fast-track/timeseries/blob/master/nbs/cam_tutorial_ECG200.ipynb\" target=\"_parent\"><img src=\"https://colab.research.google.com/assets/colab-badge.svg\" alt=\"Open In Colab\"/></a>"
   ]
  },
  {
   "cell_type": "markdown",
   "metadata": {},
   "source": [
    "# Inference (Predictions)\n",
    "> Predicting a test dataset for the ECG200 univariate time series dataset using an exported model"
   ]
  },
  {
   "cell_type": "code",
   "execution_count": null,
   "metadata": {},
   "outputs": [],
   "source": [
    "# !pip install git+https://github.com/fastai/fastai2 \n",
    "# !pip install git+https://github.com/fastai/fastcore \n",
    "# !pip install git+https://github.com/ai-fast-track/timeseries.git"
   ]
  },
  {
   "cell_type": "code",
   "execution_count": null,
   "metadata": {},
   "outputs": [
    {
     "name": "stdout",
     "output_type": "stream",
     "text": [
      "The history saving thread hit an unexpected error (DatabaseError('database disk image is malformed',)).History will not be written to the database.\n"
     ]
    }
   ],
   "source": [
    "%reload_ext autoreload\n",
    "%autoreload 2\n",
    "%matplotlib inline"
   ]
  },
  {
   "cell_type": "code",
   "execution_count": null,
   "metadata": {},
   "outputs": [],
   "source": [
    "from fastai2.basics import *"
   ]
  },
  {
   "cell_type": "code",
   "execution_count": null,
   "metadata": {},
   "outputs": [],
   "source": [
    "# hide\n",
    "# Only for Windows users because symlink to `timeseries` folder is not recognized by Windows\n",
    "import sys\n",
    "sys.path.append(\"..\")"
   ]
  },
  {
   "cell_type": "code",
   "execution_count": null,
   "metadata": {},
   "outputs": [],
   "source": [
    "from timeseries.all import *"
   ]
  },
  {
   "cell_type": "code",
   "execution_count": null,
   "metadata": {},
   "outputs": [],
   "source": [
    "from ipywidgets import interact, interactive, IntSlider, Layout\n",
    "import ipywidgets as widgets\n",
    "from IPython.display import display"
   ]
  },
  {
   "cell_type": "markdown",
   "metadata": {},
   "source": [
    "# Cardiologist of Day: Test your skill to detect Myocardial Infarction?\n",
    "> Test your skill in differentiating Normal Heart Beat and Myocardial Infarction (heart attack) signal."
   ]
  },
  {
   "cell_type": "markdown",
   "metadata": {},
   "source": [
    "## ECG Dataset\n",
    "> This dataset was formatted by R. Olszewski as part of his thesis\n",
    "“Generalized feature extraction for structural\tpattern recognition\n",
    "in time-series data,” at Carnegie Mellon University, 2001. Each\n",
    "series traces the electrical activity recorded during one\n",
    "heartbeat. The two classes are a normal heartbeat and a Myocardial\n",
    "Infarction. Cardiac ischemia refers to lack of blood flow and oxygen to the heart muscle. If ischemia is severe or lasts too long, it can cause a heart attack (myocardial infarction) and can lead to heart tissue death. \t\n",
    "\n",
    "![](images/ECG200.png)"
   ]
  },
  {
   "cell_type": "code",
   "execution_count": null,
   "metadata": {},
   "outputs": [],
   "source": [
    "fname = Path('ECG200_TEST.arff')\n",
    "data = TSData.from_arff([fname])\n",
    "items = data.get_items()"
   ]
  },
  {
   "cell_type": "code",
   "execution_count": null,
   "metadata": {},
   "outputs": [],
   "source": [
    "# items[0]"
   ]
  },
  {
   "cell_type": "code",
   "execution_count": null,
   "metadata": {},
   "outputs": [],
   "source": [
    "sample =  data.sample(1)\n",
    "# sample"
   ]
  },
  {
   "cell_type": "code",
   "execution_count": null,
   "metadata": {},
   "outputs": [
    {
     "data": {
      "text/plain": [
       "100"
      ]
     },
     "execution_count": null,
     "metadata": {},
     "output_type": "execute_result"
    }
   ],
   "source": [
    "n_samples = data.get_nb_samples()\n",
    "n_samples"
   ]
  },
  {
   "cell_type": "code",
   "execution_count": null,
   "metadata": {},
   "outputs": [],
   "source": [
    "def get_preds(idx):\n",
    "    test_dl = dls.test_dl([items[idx]], with_labels=True)\n",
    "    return (test_dl, learn.get_preds(dl=test_dl))  "
   ]
  },
  {
   "cell_type": "code",
   "execution_count": null,
   "metadata": {},
   "outputs": [],
   "source": [
    "# i2o() function\n",
    "# Converting CategoryTensor label into the human-readable label\n",
    "lbl_dict = dict([\n",
    "    (0, 'Normal Heart Beat'),   \n",
    "    (1, 'Myocardial Infarction')]\n",
    ")\n",
    "def i2o(y):\n",
    "    return lbl_dict.__getitem__(y.data.item())\n",
    "    # return lbl_dict.__getitem__(int(dls.tfms[1][1].decodes(y)))"
   ]
  },
  {
   "cell_type": "code",
   "execution_count": null,
   "metadata": {},
   "outputs": [],
   "source": [
    "def get_preds_and_confidence(preds):\n",
    "    predictions = []\n",
    "    confidences = []\n",
    "    for index, item in enumerate(preds[0]): \n",
    "#         prediction = dls.categorize.decode(np.argmax(item)).upper() \n",
    "        prediction = i2o(np.argmax(item)) \n",
    "        val = float(max(item))*100\n",
    "        percent = round(val, 2) #f'Confidence: {val:.2f}%'\n",
    "        predictions.append(prediction)\n",
    "        confidences.append(percent)\n",
    "#         print(f\"Prediction: {prediction} - Confidence: {percent} - tserie = {test_dl.items[index][1]}\")\n",
    "    return predictions, confidences\n"
   ]
  },
  {
   "cell_type": "markdown",
   "metadata": {},
   "source": [
    "## Importing a model"
   ]
  },
  {
   "cell_type": "code",
   "execution_count": null,
   "metadata": {},
   "outputs": [],
   "source": [
    "path = Path()\n",
    "path.ls(file_exts='.pkl'), path\n",
    "learn = load_learner(path/'export.pkl')\n",
    "dls = learn.dls"
   ]
  },
  {
   "cell_type": "code",
   "execution_count": null,
   "metadata": {},
   "outputs": [
    {
     "data": {
      "text/plain": [
       "(#2) ['-1','1']"
      ]
     },
     "execution_count": null,
     "metadata": {},
     "output_type": "execute_result"
    }
   ],
   "source": [
    "dls.vocab"
   ]
  },
  {
   "cell_type": "code",
   "execution_count": null,
   "metadata": {},
   "outputs": [
    {
     "data": {
      "text/plain": [
       "TensorCategory(1)"
      ]
     },
     "execution_count": null,
     "metadata": {},
     "output_type": "execute_result"
    }
   ],
   "source": [
    "# dls.o2i('1')\n",
    "dls.tfms[1][1].encodes('1')"
   ]
  },
  {
   "cell_type": "code",
   "execution_count": null,
   "metadata": {},
   "outputs": [],
   "source": [
    "def display_sample(idx):\n",
    "    ts, label = data[idx]\n",
    "    show_timeseries(ts, title='Your Guess\\n Confidence', figsize=(8.4,6.45), linewidth=4, color='orange', leg=False)"
   ]
  },
  {
   "cell_type": "code",
   "execution_count": null,
   "metadata": {},
   "outputs": [
    {
     "data": {
      "image/png": "[encoded data removed]",
      "text/plain": [
       "<Figure size 604.8x464.4 with 1 Axes>"
      ]
     },
     "metadata": {
      "needs_background": "light"
     },
     "output_type": "display_data"
    }
   ],
   "source": [
    "display_sample(0)"
   ]
  },
  {
   "cell_type": "code",
   "execution_count": null,
   "metadata": {},
   "outputs": [],
   "source": [
    "def show_preds(idx):\n",
    "    test_dl, preds = get_preds(idx)\n",
    "    predictions, confidences =  get_preds_and_confidence(preds)\n",
    "    batch=test_dl.one_batch()\n",
    "    fig = show_cam(batch, learn.model, layer=5, i2o=i2o, multi_fig=True, cmap=CMAP.jet, confidence=confidences, figsize=(8,6))\n",
    "    return (predictions, confidences)"
   ]
  },
  {
   "cell_type": "code",
   "execution_count": null,
   "metadata": {},
   "outputs": [],
   "source": [
    "idx_slider =IntSlider(value=0,min=0,max=n_samples-1,step=1, description='Index')\n",
    "ts_curve = widgets.interactive(display_sample, idx=idx_slider)\n",
    "\n",
    "# Set the height of the control.children[-1] so that the output does not jump and flicker\n",
    "output = ts_curve.children[-1]\n",
    "# output.layout.height = '500px'\n",
    "# output.layout.width = '1000px'\n",
    "\n",
    "# ts_curve"
   ]
  },
  {
   "cell_type": "code",
   "execution_count": null,
   "metadata": {},
   "outputs": [],
   "source": [
    "# display_sample(idx_slider.value)"
   ]
  },
  {
   "cell_type": "code",
   "execution_count": null,
   "metadata": {},
   "outputs": [],
   "source": [
    "# [items[idx_slider.value]]"
   ]
  },
  {
   "cell_type": "code",
   "execution_count": null,
   "metadata": {},
   "outputs": [],
   "source": [
    "guest_prediction_lbl = widgets.Label(value=\"Guest Prediction:\")\n",
    "guest_confidence_lbl = widgets.Label(value=\"Guest Confidence (%):\")\n"
   ]
  },
  {
   "cell_type": "code",
   "execution_count": null,
   "metadata": {},
   "outputs": [],
   "source": [
    "guest_prediction = widgets.RadioButtons(\n",
    "    options=['Normal Heart Beat', 'Myocardial Infarction'],\n",
    "#    value='Normal Heart Beat', # Defaults to 'Normal Heart Beat'\n",
    "   layout={'width': 'max-content'}, # If the items' names are long\n",
    "#     description='Your Prediction:',\n",
    "    disabled=False\n",
    ")"
   ]
  },
  {
   "cell_type": "code",
   "execution_count": null,
   "metadata": {},
   "outputs": [],
   "source": [
    "guest_confidence = widgets.IntSlider(min=-0, max=100, step=1, value=80)"
   ]
  },
  {
   "cell_type": "code",
   "execution_count": null,
   "metadata": {},
   "outputs": [],
   "source": [
    "def validate_guess(model_prediction, model_confidence, guest_prediction, guest_confidence):\n",
    "    if model_prediction != guest_prediction: \n",
    "        return 'Your guess is incorrect. Please try again!'\n",
    "    else:\n",
    "        if guest_confidence >= model_confidence: \n",
    "            return 'Congratulations! You beat the neural network!'\n",
    "        else:\n",
    "            return 'Good guess! But the neural network is more confident in its prediction than you!'\n",
    "    "
   ]
  },
  {
   "cell_type": "markdown",
   "metadata": {},
   "source": [
    "## App"
   ]
  },
  {
   "cell_type": "code",
   "execution_count": null,
   "metadata": {},
   "outputs": [],
   "source": [
    "#App Title\n",
    "app_title = widgets.HTML(\"<h1 align=center style='color:greenyellow; line-height: 40px; font-size:46px; font-weight: bold; font-family: 'Roboto''>Cardiologist of the Day</h1>\")"
   ]
  },
  {
   "cell_type": "code",
   "execution_count": null,
   "metadata": {},
   "outputs": [],
   "source": [
    "# Score Panel\n",
    "style={'font_size': '1em', 'font_weight': 'bold', 'color': 'red'}\n",
    "style={'font_weight': 'bold'}\n",
    "# layout=Layout(width='auto', grid_area='header')\n",
    "# style={'color:greenyellow; font-size:3em'}\n",
    "# guest_score_lbl = widgets.Label(value=\"Your Score\", style={'font_weight': 'bold'})\n",
    "# guest_score_lbl.add_class(\"mytext\")\n",
    "# guest_score_lbl.style.font_size = '2em'\n",
    "\n",
    "guest_score_lbl = widgets.HTML(\"<h3 style='color:#A60000; line-height: 40px; font-size:39px; font-weight: bold; font-family: 'Roboto';>Your Score</h3>\")\n",
    "# guest_score_val = widgets.Label(value=\"0\", style=style)\n",
    "guest_score_val = widgets.HTML(\"<h3 style='color:black; line-height: 40px; font-size:39px; font-weight: bold; font-family: 'Roboto';>0</h3>\")\n",
    "guest_score_box = widgets.VBox([guest_score_lbl, guest_score_val], style=style)\n",
    "\n",
    "nn_score_lbl = widgets.HTML(\"<h3 style='color:#A60000; line-height: 40px; font-size:39px; font-weight: bold; font-family: 'Roboto';>Neural Net Score</h3>\")\n",
    "nn_score_val = widgets.HTML(\"<h3 style='color:black; line-height: 40px; font-size:39px; font-weight: bold; font-family: 'Roboto';>0</h3>\")\n",
    "nn_score_box = widgets.VBox([nn_score_lbl, nn_score_val])\n",
    "\n",
    "score_box = widgets.HBox([guest_score_box, nn_score_box]) # , style={'font-size': '3em'}"
   ]
  },
  {
   "cell_type": "code",
   "execution_count": null,
   "metadata": {},
   "outputs": [],
   "source": [
    "# nn_verdict_wg = widgets.HTML(f\"<h3 style='color:#A60000; line-height: 40px; font-size:39px; font-weight: bold; font-family: 'Roboto';>Verdict</h3>\")\n",
    "nn_verdict_wg = widgets.HTML(\n",
    "    value='',\n",
    "    layout=Layout(width='auto', height='auto')\n",
    ")"
   ]
  },
  {
   "cell_type": "code",
   "execution_count": null,
   "metadata": {},
   "outputs": [],
   "source": [
    "# Guess Button\n",
    "item_layout = widgets.Layout(height='30px', min_width='300px')\n",
    "btn_guess = widgets.Button(description=\"Score\",  button_style='info', layout=item_layout)\n",
    "\n",
    "# btn_guess = widgets.Button(description=\"Score\")\n",
    "btn_guess.style.button_color = 'greenyellow'\n",
    "btn_guess.style.font_weight = '1000'\n",
    "btn_guess.style.font_size = '40px'"
   ]
  },
  {
   "cell_type": "code",
   "execution_count": null,
   "metadata": {},
   "outputs": [],
   "source": [
    "def show_cam_out(idx):\n",
    "    predictions, confidences = show_preds(idx)\n",
    "    model_prediction = predictions[0]\n",
    "    model_confidence = confidences[0]\n",
    "    g_p = guest_prediction.value\n",
    "    g_c = guest_confidence.value\n",
    "    \n",
    "    _, label = data[idx]\n",
    "    encoded_label = dls.tfms[1][1].encodes(label)\n",
    "\n",
    "    verdict_str = validate_guess(model_prediction, model_confidence, g_p, g_c)\n",
    "    nn_verdict_wg.value = verdict_str\n",
    "    # print(verdict_str)"
   ]
  },
  {
   "cell_type": "code",
   "execution_count": null,
   "metadata": {},
   "outputs": [],
   "source": [
    "# cam_out = widgets.interactive(display_cam, idx=idx_slider)"
   ]
  },
  {
   "cell_type": "code",
   "execution_count": null,
   "metadata": {},
   "outputs": [],
   "source": [
    "# cam_created = False"
   ]
  },
  {
   "cell_type": "code",
   "execution_count": null,
   "metadata": {},
   "outputs": [],
   "source": [
    "# def on_btn_guess_clicked(b):        \n",
    "#     if cam_created == True:\n",
    "#         cam.update(show_cam_out(idx_slider.value))\n",
    "#         # print(verdict_str)\n",
    "#         cam_created = True\n",
    "#     else:\n",
    "#         cam = display(show_cam_out(idx_slider.value), display_id=True)\n",
    "        \n",
    "# btn_guess.on_click(on_btn_guess_clicked)"
   ]
  },
  {
   "cell_type": "code",
   "execution_count": null,
   "metadata": {},
   "outputs": [],
   "source": [
    "cam = widgets.Output()\n",
    "\n",
    "def on_btn_guess_clicked(b):\n",
    "    with cam:\n",
    "        cam.clear_output()\n",
    "        show_cam_out(idx_slider.value)\n",
    "\n",
    "btn_guess.on_click(on_btn_guess_clicked)"
   ]
  },
  {
   "cell_type": "code",
   "execution_count": null,
   "metadata": {},
   "outputs": [],
   "source": [
    "# def on_btn_guess_clicked(b):\n",
    "#     with ts_curve.Output:\n",
    "#         ts_curve.Output.clear_output()\n",
    "#         predictions, confidences = show_preds(idx_slider.value)\n",
    "#         model_prediction = predictions[0]\n",
    "#         model_confidence = confidences[0]\n",
    "#         g_p = guest_prediction.value\n",
    "#         g_c = guest_confidence.value\n",
    "\n",
    "#         verdict_str = validate_guess(model_prediction, model_confidence, g_p, g_c)\n",
    "#         nn_verdict_wg.value = verdict_str\n",
    "#         # print(verdict_str)\n",
    "\n",
    "# btn_guess.on_click(on_btn_guess_clicked)"
   ]
  },
  {
   "cell_type": "code",
   "execution_count": null,
   "metadata": {},
   "outputs": [],
   "source": [
    "# Guess Selection Panel\n",
    "guess_pred = widgets.VBox([guest_prediction_lbl, guest_prediction])\n",
    "guess_conf = widgets.VBox([ guest_confidence_lbl, guest_confidence])\n",
    "guess_comp = widgets.HBox([guess_pred, guess_conf, btn_guess])"
   ]
  },
  {
   "cell_type": "code",
   "execution_count": null,
   "metadata": {},
   "outputs": [],
   "source": [
    "# Original curv\n",
    "score_out = widgets.HBox([ts_curve, cam])"
   ]
  },
  {
   "cell_type": "code",
   "execution_count": null,
   "metadata": {},
   "outputs": [
    {
     "data": {
      "application/vnd.jupyter.widget-view+json": {
       "model_id": "c50730831763402d96cedc379e34a728",
       "version_major": 2,
       "version_minor": 0
      },
      "text/plain": [
       "HTML(value='\\n    <style>\\n       .widget-vbox {\\n            width: 900px\\n            padding-top: 20px;\\n  …"
      ]
     },
     "metadata": {},
     "output_type": "display_data"
    }
   ],
   "source": [
    "style = \"\"\"\n",
    "    <style>\n",
    "       .widget-vbox {\n",
    "            width: 900px\n",
    "            padding-top: 20px;\n",
    "            padding-right: 0px;\n",
    "            padding-bottom: 20px;\n",
    "            padding-left: 10px;\n",
    "       }\n",
    "       \n",
    "       .output_wrapper .output_scroll {\n",
    "            height: unset !important;\n",
    "            border-radius: unset !important;\n",
    "            -webkit-box-shadow: unset !important;\n",
    "            box-shadow: unset !important;\n",
    "        }\n",
    "    </style>\n",
    "    \"\"\"\n",
    "display(widgets.HTML(style))"
   ]
  },
  {
   "cell_type": "code",
   "execution_count": null,
   "metadata": {},
   "outputs": [
    {
     "data": {
      "application/vnd.jupyter.widget-view+json": {
       "model_id": "ba432c78e91a4accb632a4091b7c6a64",
       "version_major": 2,
       "version_minor": 0
      },
      "text/plain": [
       "VBox(children=(HTML(value=\"<h1 align=center style='color:greenyellow; line-height: 40px; font-size:46px; font-…"
      ]
     },
     "metadata": {},
     "output_type": "display_data"
    }
   ],
   "source": [
    "# app_wg = widgets.VBox([app_title, ts_curve, score_box, guess_comp, score_out])\n",
    "widgets.VBox([app_title, score_box, guess_comp, score_out, nn_verdict_wg])\n",
    "\n",
    "# output = app_wg.children[-1]\n",
    "# output.layout.height = '1000px'\n",
    "# output.layout.width = '1000px'\n",
    "\n",
    "# app_wg"
   ]
  },
  {
   "cell_type": "code",
   "execution_count": null,
   "metadata": {},
   "outputs": [],
   "source": [
    "# widgets.VBox([app_title, score_box, guess_comp, score_out])"
   ]
  },
  {
   "cell_type": "code",
   "execution_count": null,
   "metadata": {},
   "outputs": [],
   "source": [
    "# guess_pred = widgets.VBox([guest_prediction_lbl, guest_prediction])\n",
    "# guess_conf = widgets.VBox([ guest_confidence_lbl, guest_confidence])\n",
    "# guess_input = widgets.VBox([guess_pred, guess_conf])"
   ]
  },
  {
   "cell_type": "code",
   "execution_count": null,
   "metadata": {},
   "outputs": [],
   "source": [
    "# nn_verdict_wg.layout.visibility = 'visible'\n",
    "# widgets.AppLayout(header=app_title,\n",
    "#           left_sidebar=guess_input,\n",
    "#           center=score_out,\n",
    "#           right_sidebar=ts_curve,\n",
    "#           footer=nn_verdict_wg,\n",
    "#           pane_widths=[3, 3, 1],\n",
    "#           pane_heights=[1, 5, '60px'])"
   ]
  },
  {
   "cell_type": "markdown",
   "metadata": {},
   "source": [
    "![](images/montreal-pont-jacques-cartier.jpg)\n"
   ]
  },
  {
   "cell_type": "code",
   "execution_count": null,
   "metadata": {},
   "outputs": [],
   "source": []
  }
 ],
 "metadata": {
  "kernelspec": {
   "display_name": "Python 3",
   "language": "python",
   "name": "python3"
  }
 },
 "nbformat": 4,
 "nbformat_minor": 1
}
