{
  "nbformat": 4,
  "nbformat_minor": 0,
  "metadata": {
    "colab": {
      "name": "Colab - timeseries Tutorial.ipynb",
      "provenance": [],
      "collapsed_sections": [],
      "authorship_tag": "ABX9TyNOS9xSM/Ib0s4ioAEEl09P",
      "include_colab_link": true
    },
    "kernelspec": {
      "name": "python3",
      "display_name": "Python 3"
    },
    "accelerator": "GPU"
  },
  "cells": [
    {
      "cell_type": "markdown",
      "metadata": {
        "colab_type": "text",
        "id": "view-in-github"
      },
      "source": [
        "<a href=\"https://colab.research.google.com/github/ai-fast-track/timeseries/blob/master/Colab_timeseries_Tutorial.ipynb\" target=\"_parent\"><img src=\"https://colab.research.google.com/assets/colab-badge.svg\" alt=\"Open In Colab\"/></a>"
      ]
    },
    {
      "cell_type": "markdown",
      "metadata": {
        "colab_type": "text",
        "id": "rxKqtkkOnwgO"
      },
      "source": [
        "# Tutorial - timeseries package for fastai v2"
      ]
    },
    {
      "cell_type": "code",
      "execution_count": 0,
      "metadata": {
        "colab": {
          "base_uri": "https://localhost:8080/",
          "height": 994
        },
        "colab_type": "code",
        "id": "rr-fDL3znU9z",
        "outputId": "1a5b4693-5197-4cf1-c8df-2331cad5f9ad"
      },
      "outputs": [
        {
          "name": "stdout",
          "output_type": "stream",
          "text": [
            "\u001b[K     |████████████████████████████████| 143kB 15.0MB/s \n",
            "\u001b[K     |████████████████████████████████| 63.2MB 51kB/s \n",
            "\u001b[K     |████████████████████████████████| 1.4MB 23.3MB/s \n",
            "\u001b[K     |████████████████████████████████| 51kB 7.9MB/s \n",
            "\u001b[K     |████████████████████████████████| 184kB 57.1MB/s \n",
            "\u001b[K     |████████████████████████████████| 460kB 51.7MB/s \n",
            "\u001b[K     |████████████████████████████████| 102kB 14.9MB/s \n",
            "\u001b[K     |████████████████████████████████| 102kB 15.1MB/s \n",
            "\u001b[K     |████████████████████████████████| 102kB 12.4MB/s \n",
            "\u001b[K     |████████████████████████████████| 71kB 12.7MB/s \n",
            "\u001b[K     |████████████████████████████████| 71kB 11.0MB/s \n",
            "\u001b[?25h  Building wheel for gql (setup.py) ... \u001b[?25l\u001b[?25hdone\n",
            "  Building wheel for watchdog (setup.py) ... \u001b[?25l\u001b[?25hdone\n",
            "  Building wheel for subprocess32 (setup.py) ... \u001b[?25l\u001b[?25hdone\n",
            "  Building wheel for shortuuid (setup.py) ... \u001b[?25l\u001b[?25hdone\n",
            "  Building wheel for graphql-core (setup.py) ... \u001b[?25l\u001b[?25hdone\n",
            "  Building wheel for pathtools (setup.py) ... \u001b[?25l\u001b[?25hdone\n",
            "Collecting torch==1.3.1\n",
            "\u001b[?25l  Downloading https://files.pythonhosted.org/packages/88/95/90e8c4c31cfc67248bf944ba42029295b77159982f532c5689bcfe4e9108/torch-1.3.1-cp36-cp36m-manylinux1_x86_64.whl (734.6MB)\n",
            "\u001b[K     |████████████████████████████████| 734.6MB 23kB/s \n",
            "\u001b[?25hRequirement already satisfied: numpy in /usr/local/lib/python3.6/dist-packages (from torch==1.3.1) (1.17.5)\n",
            "\u001b[31mERROR: torchvision 0.5.0 has requirement torch==1.4.0, but you'll have torch 1.3.1 which is incompatible.\u001b[0m\n",
            "Installing collected packages: torch\n",
            "  Found existing installation: torch 1.4.0\n",
            "    Uninstalling torch-1.4.0:\n",
            "      Successfully uninstalled torch-1.4.0\n",
            "Successfully installed torch-1.3.1\n",
            "Collecting torchvision==0.4.2\n",
            "\u001b[?25l  Downloading https://files.pythonhosted.org/packages/9b/e2/2b1f88a363ae37b2ba52cfb785ddfb3dd5f7e7ec9459e96fd8299b84ae39/torchvision-0.4.2-cp36-cp36m-manylinux1_x86_64.whl (10.2MB)\n",
            "\u001b[K     |████████████████████████████████| 10.2MB 1.4MB/s \n",
            "\u001b[?25hRequirement already satisfied: numpy in /usr/local/lib/python3.6/dist-packages (from torchvision==0.4.2) (1.17.5)\n",
            "Requirement already satisfied: six in /usr/local/lib/python3.6/dist-packages (from torchvision==0.4.2) (1.12.0)\n",
            "Requirement already satisfied: pillow>=4.1.1 in /usr/local/lib/python3.6/dist-packages (from torchvision==0.4.2) (6.2.2)\n",
            "Requirement already satisfied: torch==1.3.1 in /usr/local/lib/python3.6/dist-packages (from torchvision==0.4.2) (1.3.1)\n",
            "\u001b[31mERROR: fastai2 0.0.10 has requirement torchvision>=0.5, but you'll have torchvision 0.4.2 which is incompatible.\u001b[0m\n",
            "Installing collected packages: torchvision\n",
            "  Found existing installation: torchvision 0.5.0\n",
            "    Uninstalling torchvision-0.5.0:\n",
            "      Successfully uninstalled torchvision-0.5.0\n",
            "Successfully installed torchvision-0.4.2\n",
            "Collecting Pillow==6.2.1\n",
            "\u001b[?25l  Downloading https://files.pythonhosted.org/packages/10/5c/0e94e689de2476c4c5e644a3bd223a1c1b9e2bdb7c510191750be74fa786/Pillow-6.2.1-cp36-cp36m-manylinux1_x86_64.whl (2.1MB)\n",
            "\u001b[K     |████████████████████████████████| 2.1MB 14.3MB/s \n",
            "\u001b[31mERROR: fastai2 0.0.10 has requirement torchvision>=0.5, but you'll have torchvision 0.4.2 which is incompatible.\u001b[0m\n",
            "\u001b[31mERROR: albumentations 0.1.12 has requirement imgaug<0.2.7,>=0.2.5, but you'll have imgaug 0.2.9 which is incompatible.\u001b[0m\n",
            "\u001b[?25hInstalling collected packages: Pillow\n",
            "  Found existing installation: Pillow 6.2.2\n",
            "    Uninstalling Pillow-6.2.2:\n",
            "      Successfully uninstalled Pillow-6.2.2\n",
            "Successfully installed Pillow-6.2.1\n"
          ]
        },
        {
          "data": {
            "application/vnd.colab-display-data+json": {
              "pip_warning": {
                "packages": [
                  "PIL"
                ]
              }
            }
          },
          "metadata": {
            "tags": []
          },
          "output_type": "display_data"
        }
      ],
      "source": [
        "#Run once per session\n",
        "import os\n",
        "!pip install -q feather-format kornia pyarrow wandb nbdev fastprogress fastai2 fastcore --upgrade \n",
        "!pip install torch>=1.2.0\n",
        "!pip install torchvision>=0.5\n",
        "!pip install pillow \n",
        "os._exit(00)"
      ]
    },
    {
      "cell_type": "code",
      "execution_count": 3,
      "metadata": {
        "colab": {
          "base_uri": "https://localhost:8080/",
          "height": 941
        },
        "colab_type": "code",
        "id": "moFF3aG6nUAB",
        "outputId": "fb7e826b-8ced-4701-d9f1-c1c2e1c8abd8"
      },
      "outputs": [
        {
          "name": "stdout",
          "output_type": "stream",
          "text": [
            "Collecting git+https://github.com/ai-fast-track/timeseries.git\n",
            "  Cloning https://github.com/ai-fast-track/timeseries.git to /tmp/pip-req-build-bcs12bs9\n",
            "  Running command git clone -q https://github.com/ai-fast-track/timeseries.git /tmp/pip-req-build-bcs12bs9\n",
            "Requirement already satisfied: matplotlib in /usr/local/lib/python3.6/dist-packages (from timeseries==0.0.2) (3.1.3)\n",
            "Requirement already satisfied: fastai2 in /usr/local/lib/python3.6/dist-packages (from timeseries==0.0.2) (0.0.10)\n",
            "Requirement already satisfied: pyparsing!=2.0.4,!=2.1.2,!=2.1.6,>=2.0.1 in /usr/local/lib/python3.6/dist-packages (from matplotlib->timeseries==0.0.2) (2.4.6)\n",
            "Requirement already satisfied: cycler>=0.10 in /usr/local/lib/python3.6/dist-packages (from matplotlib->timeseries==0.0.2) (0.10.0)\n",
            "Requirement already satisfied: numpy>=1.11 in /usr/local/lib/python3.6/dist-packages (from matplotlib->timeseries==0.0.2) (1.17.5)\n",
            "Requirement already satisfied: kiwisolver>=1.0.1 in /usr/local/lib/python3.6/dist-packages (from matplotlib->timeseries==0.0.2) (1.1.0)\n",
            "Requirement already satisfied: python-dateutil>=2.1 in /usr/local/lib/python3.6/dist-packages (from matplotlib->timeseries==0.0.2) (2.6.1)\n",
            "Requirement already satisfied: pandas in /usr/local/lib/python3.6/dist-packages (from fastai2->timeseries==0.0.2) (0.25.3)\n",
            "Collecting torchvision>=0.5\n",
            "\u001b[?25l  Downloading https://files.pythonhosted.org/packages/7e/90/6141bf41f5655c78e24f40f710fdd4f8a8aff6c8b7c6f0328240f649bdbe/torchvision-0.5.0-cp36-cp36m-manylinux1_x86_64.whl (4.0MB)\n",
            "\u001b[K     |████████████████████████████████| 4.0MB 11.3MB/s \n",
            "\u001b[?25hRequirement already satisfied: torch>=1.2.0 in /usr/local/lib/python3.6/dist-packages (from fastai2->timeseries==0.0.2) (1.3.1)\n",
            "Requirement already satisfied: pyyaml in /usr/local/lib/python3.6/dist-packages (from fastai2->timeseries==0.0.2) (3.13)\n",
            "Requirement already satisfied: fastcore in /usr/local/lib/python3.6/dist-packages (from fastai2->timeseries==0.0.2) (0.1.11)\n",
            "Requirement already satisfied: scikit-learn in /usr/local/lib/python3.6/dist-packages (from fastai2->timeseries==0.0.2) (0.22.1)\n",
            "Requirement already satisfied: pillow in /usr/local/lib/python3.6/dist-packages (from fastai2->timeseries==0.0.2) (6.2.1)\n",
            "Requirement already satisfied: requests in /usr/local/lib/python3.6/dist-packages (from fastai2->timeseries==0.0.2) (2.21.0)\n",
            "Requirement already satisfied: fastprogress>=0.1.22 in /usr/local/lib/python3.6/dist-packages (from fastai2->timeseries==0.0.2) (0.2.2)\n",
            "Requirement already satisfied: scipy in /usr/local/lib/python3.6/dist-packages (from fastai2->timeseries==0.0.2) (1.4.1)\n",
            "Requirement already satisfied: spacy in /usr/local/lib/python3.6/dist-packages (from fastai2->timeseries==0.0.2) (2.1.9)\n",
            "Requirement already satisfied: six in /usr/local/lib/python3.6/dist-packages (from cycler>=0.10->matplotlib->timeseries==0.0.2) (1.12.0)\n",
            "Requirement already satisfied: setuptools in /usr/local/lib/python3.6/dist-packages (from kiwisolver>=1.0.1->matplotlib->timeseries==0.0.2) (45.1.0)\n",
            "Requirement already satisfied: pytz>=2017.2 in /usr/local/lib/python3.6/dist-packages (from pandas->fastai2->timeseries==0.0.2) (2018.9)\n",
            "Requirement already satisfied: dataclasses>='0.7'; python_version < \"3.7\" in /usr/local/lib/python3.6/dist-packages (from fastcore->fastai2->timeseries==0.0.2) (0.7)\n",
            "Requirement already satisfied: joblib>=0.11 in /usr/local/lib/python3.6/dist-packages (from scikit-learn->fastai2->timeseries==0.0.2) (0.14.1)\n",
            "Requirement already satisfied: chardet<3.1.0,>=3.0.2 in /usr/local/lib/python3.6/dist-packages (from requests->fastai2->timeseries==0.0.2) (3.0.4)\n",
            "Requirement already satisfied: certifi>=2017.4.17 in /usr/local/lib/python3.6/dist-packages (from requests->fastai2->timeseries==0.0.2) (2019.11.28)\n",
            "Requirement already satisfied: urllib3<1.25,>=1.21.1 in /usr/local/lib/python3.6/dist-packages (from requests->fastai2->timeseries==0.0.2) (1.24.3)\n",
            "Requirement already satisfied: idna<2.9,>=2.5 in /usr/local/lib/python3.6/dist-packages (from requests->fastai2->timeseries==0.0.2) (2.8)\n",
            "Requirement already satisfied: blis<0.3.0,>=0.2.2 in /usr/local/lib/python3.6/dist-packages (from spacy->fastai2->timeseries==0.0.2) (0.2.4)\n",
            "Requirement already satisfied: plac<1.0.0,>=0.9.6 in /usr/local/lib/python3.6/dist-packages (from spacy->fastai2->timeseries==0.0.2) (0.9.6)\n",
            "Requirement already satisfied: thinc<7.1.0,>=7.0.8 in /usr/local/lib/python3.6/dist-packages (from spacy->fastai2->timeseries==0.0.2) (7.0.8)\n",
            "Requirement already satisfied: srsly<1.1.0,>=0.0.6 in /usr/local/lib/python3.6/dist-packages (from spacy->fastai2->timeseries==0.0.2) (1.0.1)\n",
            "Requirement already satisfied: wasabi<1.1.0,>=0.2.0 in /usr/local/lib/python3.6/dist-packages (from spacy->fastai2->timeseries==0.0.2) (0.6.0)\n",
            "Requirement already satisfied: preshed<2.1.0,>=2.0.1 in /usr/local/lib/python3.6/dist-packages (from spacy->fastai2->timeseries==0.0.2) (2.0.1)\n",
            "Requirement already satisfied: cymem<2.1.0,>=2.0.2 in /usr/local/lib/python3.6/dist-packages (from spacy->fastai2->timeseries==0.0.2) (2.0.3)\n",
            "Requirement already satisfied: murmurhash<1.1.0,>=0.28.0 in /usr/local/lib/python3.6/dist-packages (from spacy->fastai2->timeseries==0.0.2) (1.0.2)\n",
            "Requirement already satisfied: tqdm<5.0.0,>=4.10.0 in /usr/local/lib/python3.6/dist-packages (from thinc<7.1.0,>=7.0.8->spacy->fastai2->timeseries==0.0.2) (4.28.1)\n",
            "Building wheels for collected packages: timeseries\n",
            "  Building wheel for timeseries (setup.py) ... \u001b[?25l\u001b[?25hdone\n",
            "  Created wheel for timeseries: filename=timeseries-0.0.2-cp36-none-any.whl size=349041 sha256=3d8d6c9b8d39e214ee73b9497fc89a7a35b97291c35b16820fcfbace4cf0ac69\n",
            "  Stored in directory: /tmp/pip-ephem-wheel-cache-r9np_jrk/wheels/35/01/01/4fdd69c029e9537c05914ee49520e9d36edaa9b2636f089bfc\n",
            "Successfully built timeseries\n",
            "\u001b[31mERROR: torchvision 0.5.0 has requirement torch==1.4.0, but you'll have torch 1.3.1 which is incompatible.\u001b[0m\n",
            "Installing collected packages: timeseries, torchvision\n",
            "  Found existing installation: torchvision 0.4.2\n",
            "    Uninstalling torchvision-0.4.2:\n",
            "      Successfully uninstalled torchvision-0.4.2\n",
            "Successfully installed timeseries-0.0.2 torchvision-0.5.0\n"
          ]
        }
      ],
      "source": [
        "!pip install git+https://github.com/ai-fast-track/timeseries.git"
      ]
    },
    {
      "cell_type": "code",
      "execution_count": 1,
      "metadata": {},
      "outputs": [],
      "source": [
        "# !pip list"
      ]
    },
    {
      "cell_type": "code",
      "execution_count": 0,
      "metadata": {
        "colab": {},
        "colab_type": "code",
        "id": "Ah2o8ouGoVbg"
      },
      "outputs": [],
      "source": [
        "%reload_ext autoreload\n",
        "%autoreload 2\n",
        "%matplotlib inline"
      ]
    },
    {
      "cell_type": "code",
      "execution_count": 0,
      "metadata": {
        "colab": {},
        "colab_type": "code",
        "id": "nQhjUUL-oaT0"
      },
      "outputs": [],
      "source": [
        "from fastai2.basics import *\n",
        "from timeseries.all import *"
      ]
    },
    {
      "cell_type": "code",
      "execution_count": 5,
      "metadata": {
        "colab": {
          "base_uri": "https://localhost:8080/",
          "height": 35
        },
        "colab_type": "code",
        "id": "yaXulxvoqwgL",
        "outputId": "1115857b-ecab-46c3-bb9f-8ea2c908b0a3"
      },
      "outputs": [
        {
          "name": "stdout",
          "output_type": "stream",
          "text": [
            "ls: cannot access '/root/.fastai/data': No such file or directory\n"
          ]
        }
      ],
      "source": [
        "!ls /root/.fastai/data"
      ]
    },
    {
      "cell_type": "code",
      "execution_count": 21,
      "metadata": {
        "colab": {
          "base_uri": "https://localhost:8080/",
          "height": 52
        },
        "colab_type": "code",
        "id": "ZR4IKTCoq29g",
        "outputId": "4b0f1de6-c78c-4a1a-9f70-c0cd03ef875f"
      },
      "outputs": [
        {
          "data": {
            "text/plain": [
              "('http://www.timeseriesclassification.com/Downloads/NATOPS.zip',\n",
              " Path('/root/.fastai/data/NATOPS.zip'))"
            ]
          },
          "execution_count": 21,
          "metadata": {
            "tags": []
          },
          "output_type": "execute_result"
        }
      ],
      "source": [
        "url = URLs_TS.NATOPS\n",
        "url, URLs_TS.path(url, c_key='data')"
      ]
    },
    {
      "cell_type": "code",
      "execution_count": 22,
      "metadata": {
        "colab": {
          "base_uri": "https://localhost:8080/",
          "height": 35
        },
        "colab_type": "code",
        "id": "2C-MJ53Xr1V6",
        "outputId": "e809bc8c-f180-4c50-fb4e-79d11fbaffc3"
      },
      "outputs": [
        {
          "data": {
            "text/html": [
              ""
            ],
            "text/plain": [
              "<IPython.core.display.HTML object>"
            ]
          },
          "metadata": {
            "tags": []
          },
          "output_type": "display_data"
        },
        {
          "data": {
            "text/plain": [
              "(Path('/root/.fastai/data/NATOPS'), Path('/root/.fastai/data'))"
            ]
          },
          "execution_count": 22,
          "metadata": {
            "tags": []
          },
          "output_type": "execute_result"
        }
      ],
      "source": [
        "# url = 'http://www.timeseriesclassification.com/Downloads/LSST.zip'\n",
        "path2 = untar_data(URLs_TS.NATOPS)\n",
        "path2, path2.parent"
      ]
    },
    {
      "cell_type": "code",
      "execution_count": 23,
      "metadata": {
        "colab": {
          "base_uri": "https://localhost:8080/",
          "height": 72
        },
        "colab_type": "code",
        "id": "wyq2fIp5r_5j",
        "outputId": "0e193ed2-b7b9-4abe-fea8-850aab0e71b0"
      },
      "outputs": [
        {
          "data": {
            "text/plain": [
              "(Path('/root/.fastai/data'),\n",
              " (#72) [Path('/root/.fastai/data/NATOPSDimension22_TRAIN.arff'),Path('/root/.fastai/data/NATOPSDimension17_TEST.arff'),Path('/root/.fastai/data/NATOPSDimension2_TRAIN.arff'),Path('/root/.fastai/data/NATOPS_TRAIN.ts'),Path('/root/.fastai/data/NATOPSDimension6_TEST.arff'),Path('/root/.fastai/data/NATOPSDimension8_TEST.arff'),Path('/root/.fastai/data/NATOPSDimension1_TRAIN.arff'),Path('/root/.fastai/data/LSST.JPG'),Path('/root/.fastai/data/NATOPSDimension21_TEST.arff'),Path('/root/.fastai/data/NATOPSDimension15_TEST.arff')...])"
            ]
          },
          "execution_count": 23,
          "metadata": {
            "tags": []
          },
          "output_type": "execute_result"
        }
      ],
      "source": [
        "path_data = Config().data\n",
        "path_data, path_data.ls()"
      ]
    },
    {
      "cell_type": "code",
      "execution_count": 0,
      "metadata": {
        "colab": {},
        "colab_type": "code",
        "id": "U8pzGDhHoipa"
      },
      "outputs": [],
      "source": [
        "dsname =  'NATOPS' #'NATOPS', 'LSST', 'Wine', 'Epilepsy', 'HandMovementDirection'"
      ]
    },
    {
      "cell_type": "code",
      "execution_count": 0,
      "metadata": {
        "colab": {},
        "colab_type": "code",
        "id": "_fkh4cdVsukL"
      },
      "outputs": [],
      "source": [
        "# path = download_unzip_data_UCR(dsname=dsname)\n",
        "# path.ls()"
      ]
    },
    {
      "cell_type": "code",
      "execution_count": 26,
      "metadata": {
        "colab": {
          "base_uri": "https://localhost:8080/",
          "height": 52
        },
        "colab_type": "code",
        "id": "4AGEbQqsozTe",
        "outputId": "4ef2b62b-e3f8-4670-fb01-f8d5f74f54dc"
      },
      "outputs": [
        {
          "data": {
            "text/plain": [
              "[Path('/root/.fastai/data/NATOPS_TRAIN.arff'),\n",
              " Path('/root/.fastai/data/NATOPS_TEST.arff')]"
            ]
          },
          "execution_count": 26,
          "metadata": {
            "tags": []
          },
          "output_type": "execute_result"
        }
      ],
      "source": [
        "fname_train = f'{dsname}_TRAIN.arff'\n",
        "fname_test = f'{dsname}_TEST.arff'\n",
        "fnames = [path_data/fname_train, path_data/fname_test]\n",
        "fnames"
      ]
    },
    {
      "cell_type": "code",
      "execution_count": 27,
      "metadata": {
        "colab": {
          "base_uri": "https://localhost:8080/",
          "height": 159
        },
        "colab_type": "code",
        "id": "amV8A4LjppBD",
        "outputId": "7e8d9bc6-11dc-4bfc-f085-777482f9e458"
      },
      "outputs": [
        {
          "name": "stdout",
          "output_type": "stream",
          "text": [
            "TSData:\n",
            " Datasets names (concatenated): ['NATOPS_TRAIN', 'NATOPS_TEST']\n",
            " Filenames: \\                   [Path('/root/.fastai/data/NATOPS_TRAIN.arff'), Path('/root/.fastai/data/NATOPS_TEST.arff')]\n",
            " Data shape: (360, 24, 51)\n",
            " Targets shape: (360,)\n",
            " Nb Samples: 360\n",
            " Nb Channels: \\         24\n",
            " Sequence Length: 51\n"
          ]
        }
      ],
      "source": [
        "data = TSData()\n",
        "train_x, train_y = data.load(fnames)\n",
        "print(data)"
      ]
    },
    {
      "cell_type": "code",
      "execution_count": 0,
      "metadata": {
        "colab": {},
        "colab_type": "code",
        "id": "ws71HalFs9CO"
      },
      "outputs": [],
      "source": [
        "!ls /root/.fastai/data/"
      ]
    },
    {
      "cell_type": "code",
      "execution_count": 0,
      "metadata": {
        "colab": {},
        "colab_type": "code",
        "id": "TnutUuYBtHNy"
      },
      "outputs": [],
      "source": [
        "items = data.get_items()"
      ]
    },
    {
      "cell_type": "code",
      "execution_count": 31,
      "metadata": {
        "colab": {
          "base_uri": "https://localhost:8080/",
          "height": 52
        },
        "colab_type": "code",
        "id": "pQEOq5n8uNnj",
        "outputId": "1281c71f-e166-4330-e3f0-4a3341349781"
      },
      "outputs": [
        {
          "data": {
            "text/plain": [
              "((#288) [304,281,114,329,115,130,338,294,94,310...],\n",
              " (#72) [222,27,96,253,274,35,160,172,302,146...])"
            ]
          },
          "execution_count": 31,
          "metadata": {
            "tags": []
          },
          "output_type": "execute_result"
        }
      ],
      "source": [
        "seed = 42\n",
        "splits = RandomSplitter(seed=seed)(range_of(items)) #by default 80% for train split and 20% for valid split are chosen \n",
        "splits"
      ]
    },
    {
      "cell_type": "code",
      "execution_count": 0,
      "metadata": {
        "colab": {},
        "colab_type": "code",
        "id": "zMCmPXlHumWd"
      },
      "outputs": [],
      "source": [
        "bs = 128                            \n",
        "# Normalize at batch time\n",
        "tfm_norm = Normalize(scale_subtype = 'per_sample_per_channel', scale_range=(0, 1)) # per_sample , per_sample_per_channel\n",
        "# tfm_norm = Standardize(scale_subtype = 'per_sample')\n",
        "batch_tfms = [tfm_norm]"
      ]
    },
    {
      "cell_type": "code",
      "execution_count": 33,
      "metadata": {
        "colab": {
          "base_uri": "https://localhost:8080/",
          "height": 35
        },
        "colab_type": "code",
        "id": "Gtl0dXdfutfa",
        "outputId": "25644b17-4d16-4ee3-f2a9-14bda316e030"
      },
      "outputs": [
        {
          "data": {
            "text/plain": [
              "device(type='cuda', index=0)"
            ]
          },
          "execution_count": 33,
          "metadata": {
            "tags": []
          },
          "output_type": "execute_result"
        }
      ],
      "source": [
        "default_device()"
      ]
    },
    {
      "cell_type": "code",
      "execution_count": 0,
      "metadata": {
        "colab": {},
        "colab_type": "code",
        "id": "vWEMMHjxuU7s"
      },
      "outputs": [],
      "source": [
        "\n",
        "dls = TSDataLoaders.from_files(fnames=fnames, batch_tfms=batch_tfms,device=default_device())"
      ]
    },
    {
      "cell_type": "code",
      "execution_count": 36,
      "metadata": {
        "colab": {
          "base_uri": "https://localhost:8080/",
          "height": 657
        },
        "colab_type": "code",
        "id": "wAAjT-UduvWi",
        "outputId": "3dc38e17-f558-4414-eb9a-120f86b51233"
      },
      "outputs": [
        {
          "data": {
            "image/png": "[encoded data removed]",
            "text/plain": [
              "<Figure size 648x648 with 9 Axes>"
            ]
          },
          "metadata": {
            "tags": []
          },
          "output_type": "display_data"
        }
      ],
      "source": [
        "dls.show_batch(ctxs=None, max_n=9, chs=range(0,12,3))"
      ]
    },
    {
      "cell_type": "markdown",
      "metadata": {
        "colab_type": "text",
        "id": "zHXe3avCvJpU"
      },
      "source": [
        "# Train Model"
      ]
    },
    {
      "cell_type": "code",
      "execution_count": 38,
      "metadata": {
        "colab": {
          "base_uri": "https://localhost:8080/",
          "height": 35
        },
        "colab_type": "code",
        "id": "76jOY1N2vR-Z",
        "outputId": "9da4849f-7aef-4a35-ead7-7b23f0ba437c"
      },
      "outputs": [
        {
          "data": {
            "text/plain": [
              "(24, 6)"
            ]
          },
          "execution_count": 38,
          "metadata": {
            "tags": []
          },
          "output_type": "execute_result"
        }
      ],
      "source": [
        "# Number of channels (i.e. dimensions in ARFF and TS files jargon)\n",
        "c_in = get_n_channels(dls.train) # data.n_channels\n",
        "# Number of classes\n",
        "c_out= len(dls.vocab) \n",
        "c_in,c_out"
      ]
    },
    {
      "cell_type": "code",
      "execution_count": 40,
      "metadata": {
        "colab": {
          "base_uri": "https://localhost:8080/",
          "height": 1000
        },
        "colab_type": "code",
        "id": "5HLR1V4QvSzD",
        "outputId": "9c155ff8-1be2-4c25-f307-32b742f24967"
      },
      "outputs": [
        {
          "data": {
            "text/plain": [
              "Sequential(\n",
              "  (0): SequentialEx(\n",
              "    (layers): ModuleList(\n",
              "      (0): InceptionModule(\n",
              "        (convs): ModuleList(\n",
              "          (0): Conv1d(24, 32, kernel_size=(39,), stride=(1,), padding=(19,), bias=False)\n",
              "          (1): Conv1d(24, 32, kernel_size=(19,), stride=(1,), padding=(9,), bias=False)\n",
              "          (2): Conv1d(24, 32, kernel_size=(9,), stride=(1,), padding=(4,), bias=False)\n",
              "        )\n",
              "        (maxpool_bottleneck): Sequential(\n",
              "          (0): MaxPool1d(kernel_size=3, stride=1, padding=1, dilation=1, ceil_mode=False)\n",
              "          (1): Conv1d(24, 32, kernel_size=(1,), stride=(1,), bias=False)\n",
              "        )\n",
              "        (bn_relu): Sequential(\n",
              "          (0): BatchNorm1d(128, eps=1e-05, momentum=0.1, affine=True, track_running_stats=True)\n",
              "          (1): ReLU()\n",
              "        )\n",
              "      )\n",
              "    )\n",
              "  )\n",
              "  (1): SequentialEx(\n",
              "    (layers): ModuleList(\n",
              "      (0): InceptionModule(\n",
              "        (bottleneck): Conv1d(128, 32, kernel_size=(1,), stride=(1,))\n",
              "        (convs): ModuleList(\n",
              "          (0): Conv1d(32, 32, kernel_size=(39,), stride=(1,), padding=(19,), bias=False)\n",
              "          (1): Conv1d(32, 32, kernel_size=(19,), stride=(1,), padding=(9,), bias=False)\n",
              "          (2): Conv1d(32, 32, kernel_size=(9,), stride=(1,), padding=(4,), bias=False)\n",
              "        )\n",
              "        (maxpool_bottleneck): Sequential(\n",
              "          (0): MaxPool1d(kernel_size=3, stride=1, padding=1, dilation=1, ceil_mode=False)\n",
              "          (1): Conv1d(128, 32, kernel_size=(1,), stride=(1,), bias=False)\n",
              "        )\n",
              "        (bn_relu): Sequential(\n",
              "          (0): BatchNorm1d(128, eps=1e-05, momentum=0.1, affine=True, track_running_stats=True)\n",
              "          (1): ReLU()\n",
              "        )\n",
              "      )\n",
              "    )\n",
              "  )\n",
              "  (2): SequentialEx(\n",
              "    (layers): ModuleList(\n",
              "      (0): InceptionModule(\n",
              "        (bottleneck): Conv1d(128, 32, kernel_size=(1,), stride=(1,))\n",
              "        (convs): ModuleList(\n",
              "          (0): Conv1d(32, 32, kernel_size=(39,), stride=(1,), padding=(19,), bias=False)\n",
              "          (1): Conv1d(32, 32, kernel_size=(19,), stride=(1,), padding=(9,), bias=False)\n",
              "          (2): Conv1d(32, 32, kernel_size=(9,), stride=(1,), padding=(4,), bias=False)\n",
              "        )\n",
              "        (maxpool_bottleneck): Sequential(\n",
              "          (0): MaxPool1d(kernel_size=3, stride=1, padding=1, dilation=1, ceil_mode=False)\n",
              "          (1): Conv1d(128, 32, kernel_size=(1,), stride=(1,), bias=False)\n",
              "        )\n",
              "        (bn_relu): Sequential(\n",
              "          (0): BatchNorm1d(128, eps=1e-05, momentum=0.1, affine=True, track_running_stats=True)\n",
              "          (1): ReLU()\n",
              "        )\n",
              "      )\n",
              "      (1): Shortcut(\n",
              "        (act_fn): ReLU(inplace=True)\n",
              "        (conv): Conv1d(128, 128, kernel_size=(1,), stride=(1,), bias=False)\n",
              "        (bn): BatchNorm1d(128, eps=1e-05, momentum=0.1, affine=True, track_running_stats=True)\n",
              "      )\n",
              "    )\n",
              "  )\n",
              "  (3): SequentialEx(\n",
              "    (layers): ModuleList(\n",
              "      (0): InceptionModule(\n",
              "        (bottleneck): Conv1d(128, 32, kernel_size=(1,), stride=(1,))\n",
              "        (convs): ModuleList(\n",
              "          (0): Conv1d(32, 32, kernel_size=(39,), stride=(1,), padding=(19,), bias=False)\n",
              "          (1): Conv1d(32, 32, kernel_size=(19,), stride=(1,), padding=(9,), bias=False)\n",
              "          (2): Conv1d(32, 32, kernel_size=(9,), stride=(1,), padding=(4,), bias=False)\n",
              "        )\n",
              "        (maxpool_bottleneck): Sequential(\n",
              "          (0): MaxPool1d(kernel_size=3, stride=1, padding=1, dilation=1, ceil_mode=False)\n",
              "          (1): Conv1d(128, 32, kernel_size=(1,), stride=(1,), bias=False)\n",
              "        )\n",
              "        (bn_relu): Sequential(\n",
              "          (0): BatchNorm1d(128, eps=1e-05, momentum=0.1, affine=True, track_running_stats=True)\n",
              "          (1): ReLU()\n",
              "        )\n",
              "      )\n",
              "    )\n",
              "  )\n",
              "  (4): SequentialEx(\n",
              "    (layers): ModuleList(\n",
              "      (0): InceptionModule(\n",
              "        (bottleneck): Conv1d(128, 32, kernel_size=(1,), stride=(1,))\n",
              "        (convs): ModuleList(\n",
              "          (0): Conv1d(32, 32, kernel_size=(39,), stride=(1,), padding=(19,), bias=False)\n",
              "          (1): Conv1d(32, 32, kernel_size=(19,), stride=(1,), padding=(9,), bias=False)\n",
              "          (2): Conv1d(32, 32, kernel_size=(9,), stride=(1,), padding=(4,), bias=False)\n",
              "        )\n",
              "        (maxpool_bottleneck): Sequential(\n",
              "          (0): MaxPool1d(kernel_size=3, stride=1, padding=1, dilation=1, ceil_mode=False)\n",
              "          (1): Conv1d(128, 32, kernel_size=(1,), stride=(1,), bias=False)\n",
              "        )\n",
              "        (bn_relu): Sequential(\n",
              "          (0): BatchNorm1d(128, eps=1e-05, momentum=0.1, affine=True, track_running_stats=True)\n",
              "          (1): ReLU()\n",
              "        )\n",
              "      )\n",
              "    )\n",
              "  )\n",
              "  (5): SequentialEx(\n",
              "    (layers): ModuleList(\n",
              "      (0): InceptionModule(\n",
              "        (bottleneck): Conv1d(128, 32, kernel_size=(1,), stride=(1,))\n",
              "        (convs): ModuleList(\n",
              "          (0): Conv1d(32, 32, kernel_size=(39,), stride=(1,), padding=(19,), bias=False)\n",
              "          (1): Conv1d(32, 32, kernel_size=(19,), stride=(1,), padding=(9,), bias=False)\n",
              "          (2): Conv1d(32, 32, kernel_size=(9,), stride=(1,), padding=(4,), bias=False)\n",
              "        )\n",
              "        (maxpool_bottleneck): Sequential(\n",
              "          (0): MaxPool1d(kernel_size=3, stride=1, padding=1, dilation=1, ceil_mode=False)\n",
              "          (1): Conv1d(128, 32, kernel_size=(1,), stride=(1,), bias=False)\n",
              "        )\n",
              "        (bn_relu): Sequential(\n",
              "          (0): BatchNorm1d(128, eps=1e-05, momentum=0.1, affine=True, track_running_stats=True)\n",
              "          (1): ReLU()\n",
              "        )\n",
              "      )\n",
              "      (1): Shortcut(\n",
              "        (act_fn): ReLU(inplace=True)\n",
              "        (conv): Conv1d(128, 128, kernel_size=(1,), stride=(1,), bias=False)\n",
              "        (bn): BatchNorm1d(128, eps=1e-05, momentum=0.1, affine=True, track_running_stats=True)\n",
              "      )\n",
              "    )\n",
              "  )\n",
              "  (6): AdaptiveConcatPool1d(\n",
              "    (ap): AdaptiveAvgPool1d(output_size=1)\n",
              "    (mp): AdaptiveMaxPool1d(output_size=1)\n",
              "  )\n",
              "  (7): full: False\n",
              "  (8): Linear(in_features=256, out_features=6, bias=True)\n",
              ")"
            ]
          },
          "execution_count": 40,
          "metadata": {
            "tags": []
          },
          "output_type": "execute_result"
        }
      ],
      "source": [
        "model = create_inception(c_in, c_out).to(device=default_device())\n",
        "model"
      ]
    },
    {
      "cell_type": "code",
      "execution_count": 42,
      "metadata": {
        "colab": {
          "base_uri": "https://localhost:8080/",
          "height": 1000
        },
        "colab_type": "code",
        "id": "JAiO0CfmvblY",
        "outputId": "e39645b5-11ff-4a5e-cb4f-8884553f2ec7"
      },
      "outputs": [
        {
          "name": "stdout",
          "output_type": "stream",
          "text": [
            "Sequential (Input shape: ['64 x 24 x 51'])\n",
            "================================================================\n",
            "Layer (type)         Output Shape         Param #    Trainable \n",
            "================================================================\n",
            "Conv1d               64 x 32 x 51         29,952     True      \n",
            "________________________________________________________________\n",
            "Conv1d               64 x 32 x 51         14,592     True      \n",
            "________________________________________________________________\n",
            "Conv1d               64 x 32 x 51         6,912      True      \n",
            "________________________________________________________________\n",
            "MaxPool1d            64 x 24 x 51         0          False     \n",
            "________________________________________________________________\n",
            "Conv1d               64 x 32 x 51         768        True      \n",
            "________________________________________________________________\n",
            "BatchNorm1d          64 x 128 x 51        256        True      \n",
            "________________________________________________________________\n",
            "ReLU                 64 x 128 x 51        0          False     \n",
            "________________________________________________________________\n",
            "Conv1d               64 x 32 x 51         4,128      True      \n",
            "________________________________________________________________\n",
            "Conv1d               64 x 32 x 51         39,936     True      \n",
            "________________________________________________________________\n",
            "Conv1d               64 x 32 x 51         19,456     True      \n",
            "________________________________________________________________\n",
            "Conv1d               64 x 32 x 51         9,216      True      \n",
            "________________________________________________________________\n",
            "MaxPool1d            64 x 128 x 51        0          False     \n",
            "________________________________________________________________\n",
            "Conv1d               64 x 32 x 51         4,096      True      \n",
            "________________________________________________________________\n",
            "BatchNorm1d          64 x 128 x 51        256        True      \n",
            "________________________________________________________________\n",
            "ReLU                 64 x 128 x 51        0          False     \n",
            "________________________________________________________________\n",
            "Conv1d               64 x 32 x 51         4,128      True      \n",
            "________________________________________________________________\n",
            "Conv1d               64 x 32 x 51         39,936     True      \n",
            "________________________________________________________________\n",
            "Conv1d               64 x 32 x 51         19,456     True      \n",
            "________________________________________________________________\n",
            "Conv1d               64 x 32 x 51         9,216      True      \n",
            "________________________________________________________________\n",
            "MaxPool1d            64 x 128 x 51        0          False     \n",
            "________________________________________________________________\n",
            "Conv1d               64 x 32 x 51         4,096      True      \n",
            "________________________________________________________________\n",
            "BatchNorm1d          64 x 128 x 51        256        True      \n",
            "________________________________________________________________\n",
            "ReLU                 64 x 128 x 51        0          False     \n",
            "________________________________________________________________\n",
            "ReLU                 64 x 128 x 51        0          False     \n",
            "________________________________________________________________\n",
            "Conv1d               64 x 128 x 51        16,384     True      \n",
            "________________________________________________________________\n",
            "BatchNorm1d          64 x 128 x 51        256        True      \n",
            "________________________________________________________________\n",
            "Conv1d               64 x 32 x 51         4,128      True      \n",
            "________________________________________________________________\n",
            "Conv1d               64 x 32 x 51         39,936     True      \n",
            "________________________________________________________________\n",
            "Conv1d               64 x 32 x 51         19,456     True      \n",
            "________________________________________________________________\n",
            "Conv1d               64 x 32 x 51         9,216      True      \n",
            "________________________________________________________________\n",
            "MaxPool1d            64 x 128 x 51        0          False     \n",
            "________________________________________________________________\n",
            "Conv1d               64 x 32 x 51         4,096      True      \n",
            "________________________________________________________________\n",
            "BatchNorm1d          64 x 128 x 51        256        True      \n",
            "________________________________________________________________\n",
            "ReLU                 64 x 128 x 51        0          False     \n",
            "________________________________________________________________\n",
            "Conv1d               64 x 32 x 51         4,128      True      \n",
            "________________________________________________________________\n",
            "Conv1d               64 x 32 x 51         39,936     True      \n",
            "________________________________________________________________\n",
            "Conv1d               64 x 32 x 51         19,456     True      \n",
            "________________________________________________________________\n",
            "Conv1d               64 x 32 x 51         9,216      True      \n",
            "________________________________________________________________\n",
            "MaxPool1d            64 x 128 x 51        0          False     \n",
            "________________________________________________________________\n",
            "Conv1d               64 x 32 x 51         4,096      True      \n",
            "________________________________________________________________\n",
            "BatchNorm1d          64 x 128 x 51        256        True      \n",
            "________________________________________________________________\n",
            "ReLU                 64 x 128 x 51        0          False     \n",
            "________________________________________________________________\n",
            "Conv1d               64 x 32 x 51         4,128      True      \n",
            "________________________________________________________________\n",
            "Conv1d               64 x 32 x 51         39,936     True      \n",
            "________________________________________________________________\n",
            "Conv1d               64 x 32 x 51         19,456     True      \n",
            "________________________________________________________________\n",
            "Conv1d               64 x 32 x 51         9,216      True      \n",
            "________________________________________________________________\n",
            "MaxPool1d            64 x 128 x 51        0          False     \n",
            "________________________________________________________________\n",
            "Conv1d               64 x 32 x 51         4,096      True      \n",
            "________________________________________________________________\n",
            "BatchNorm1d          64 x 128 x 51        256        True      \n",
            "________________________________________________________________\n",
            "ReLU                 64 x 128 x 51        0          False     \n",
            "________________________________________________________________\n",
            "ReLU                 64 x 128 x 51        0          False     \n",
            "________________________________________________________________\n",
            "Conv1d               64 x 128 x 51        16,384     True      \n",
            "________________________________________________________________\n",
            "BatchNorm1d          64 x 128 x 51        256        True      \n",
            "________________________________________________________________\n",
            "AdaptiveAvgPool1d    64 x 128 x 1         0          False     \n",
            "________________________________________________________________\n",
            "AdaptiveMaxPool1d    64 x 128 x 1         0          False     \n",
            "________________________________________________________________\n",
            "Flatten              64 x 256             0          False     \n",
            "________________________________________________________________\n",
            "Linear               64 x 6               1,542      True      \n",
            "________________________________________________________________\n",
            "\n",
            "Total params: 472,742\n",
            "Total trainable params: 472,742\n",
            "Total non-trainable params: 0\n",
            "\n",
            "Optimizer used: functools.partial(<function Adam at 0x7fd6265e68c8>, lr=0.003, wd=0.01)\n",
            "Loss function: LabelSmoothingCrossEntropy()\n",
            "\n",
            "Callbacks:\n",
            "  - TrainEvalCallback\n",
            "  - Recorder\n",
            "  - ProgressCallback\n"
          ]
        }
      ],
      "source": [
        "#Learner\n",
        "opt_func = partial(Adam, lr=3e-3, wd=0.01)     \n",
        "loss_func = LabelSmoothingCrossEntropy() \n",
        "learn = Learner(dls, model, opt_func=opt_func, loss_func=loss_func, metrics=accuracy)\n",
        "\n",
        "print(learn.summary())"
      ]
    },
    {
      "cell_type": "code",
      "execution_count": 43,
      "metadata": {
        "colab": {
          "base_uri": "https://localhost:8080/",
          "height": 304
        },
        "colab_type": "code",
        "id": "DjES_eRBvyb4",
        "outputId": "3fe07715-de77-4d18-919c-c2e18f0a703a"
      },
      "outputs": [
        {
          "data": {
            "text/html": [
              ""
            ],
            "text/plain": [
              "<IPython.core.display.HTML object>"
            ]
          },
          "metadata": {
            "tags": []
          },
          "output_type": "display_data"
        },
        {
          "data": {
            "text/plain": [
              "(0.012022644281387329, 0.00013182566908653826)"
            ]
          },
          "execution_count": 43,
          "metadata": {
            "tags": []
          },
          "output_type": "execute_result"
        },
        {
          "data": {
            "image/png": "[encoded data removed]",
            "text/plain": [
              "<Figure size 432x288 with 1 Axes>"
            ]
          },
          "metadata": {
            "tags": []
          },
          "output_type": "display_data"
        }
      ],
      "source": [
        "lr_min, lr_steep = learn.lr_find()\n",
        "lr_min, lr_steep"
      ]
    },
    {
      "cell_type": "code",
      "execution_count": 46,
      "metadata": {
        "colab": {
          "base_uri": "https://localhost:8080/",
          "height": 634
        },
        "colab_type": "code",
        "id": "wMVuLp59v4M0",
        "outputId": "5118bd5f-9ebf-4e1b-8a15-01130a23e5e9"
      },
      "outputs": [
        {
          "data": {
            "text/html": [
              "<table border=\"1\" class=\"dataframe\">\n",
              "  <thead>\n",
              "    <tr style=\"text-align: left;\">\n",
              "      <th>epoch</th>\n",
              "      <th>train_loss</th>\n",
              "      <th>valid_loss</th>\n",
              "      <th>accuracy</th>\n",
              "      <th>time</th>\n",
              "    </tr>\n",
              "  </thead>\n",
              "  <tbody>\n",
              "    <tr>\n",
              "      <td>0</td>\n",
              "      <td>0.515635</td>\n",
              "      <td>0.660134</td>\n",
              "      <td>0.847222</td>\n",
              "      <td>00:00</td>\n",
              "    </tr>\n",
              "    <tr>\n",
              "      <td>1</td>\n",
              "      <td>0.513212</td>\n",
              "      <td>0.660676</td>\n",
              "      <td>0.847222</td>\n",
              "      <td>00:00</td>\n",
              "    </tr>\n",
              "    <tr>\n",
              "      <td>2</td>\n",
              "      <td>0.513360</td>\n",
              "      <td>0.661923</td>\n",
              "      <td>0.847222</td>\n",
              "      <td>00:00</td>\n",
              "    </tr>\n",
              "    <tr>\n",
              "      <td>3</td>\n",
              "      <td>0.516117</td>\n",
              "      <td>0.660020</td>\n",
              "      <td>0.847222</td>\n",
              "      <td>00:00</td>\n",
              "    </tr>\n",
              "    <tr>\n",
              "      <td>4</td>\n",
              "      <td>0.516932</td>\n",
              "      <td>0.655791</td>\n",
              "      <td>0.847222</td>\n",
              "      <td>00:00</td>\n",
              "    </tr>\n",
              "    <tr>\n",
              "      <td>5</td>\n",
              "      <td>0.515955</td>\n",
              "      <td>0.647752</td>\n",
              "      <td>0.875000</td>\n",
              "      <td>00:00</td>\n",
              "    </tr>\n",
              "    <tr>\n",
              "      <td>6</td>\n",
              "      <td>0.513149</td>\n",
              "      <td>0.647183</td>\n",
              "      <td>0.875000</td>\n",
              "      <td>00:00</td>\n",
              "    </tr>\n",
              "    <tr>\n",
              "      <td>7</td>\n",
              "      <td>0.511271</td>\n",
              "      <td>0.654351</td>\n",
              "      <td>0.847222</td>\n",
              "      <td>00:00</td>\n",
              "    </tr>\n",
              "    <tr>\n",
              "      <td>8</td>\n",
              "      <td>0.507244</td>\n",
              "      <td>0.645913</td>\n",
              "      <td>0.861111</td>\n",
              "      <td>00:00</td>\n",
              "    </tr>\n",
              "    <tr>\n",
              "      <td>9</td>\n",
              "      <td>0.503368</td>\n",
              "      <td>0.651823</td>\n",
              "      <td>0.861111</td>\n",
              "      <td>00:00</td>\n",
              "    </tr>\n",
              "    <tr>\n",
              "      <td>10</td>\n",
              "      <td>0.499991</td>\n",
              "      <td>0.644524</td>\n",
              "      <td>0.875000</td>\n",
              "      <td>00:00</td>\n",
              "    </tr>\n",
              "    <tr>\n",
              "      <td>11</td>\n",
              "      <td>0.496609</td>\n",
              "      <td>0.611558</td>\n",
              "      <td>0.902778</td>\n",
              "      <td>00:00</td>\n",
              "    </tr>\n",
              "    <tr>\n",
              "      <td>12</td>\n",
              "      <td>0.494514</td>\n",
              "      <td>0.632761</td>\n",
              "      <td>0.902778</td>\n",
              "      <td>00:00</td>\n",
              "    </tr>\n",
              "    <tr>\n",
              "      <td>13</td>\n",
              "      <td>0.490565</td>\n",
              "      <td>0.610092</td>\n",
              "      <td>0.930556</td>\n",
              "      <td>00:00</td>\n",
              "    </tr>\n",
              "    <tr>\n",
              "      <td>14</td>\n",
              "      <td>0.486733</td>\n",
              "      <td>0.645356</td>\n",
              "      <td>0.902778</td>\n",
              "      <td>00:00</td>\n",
              "    </tr>\n",
              "    <tr>\n",
              "      <td>15</td>\n",
              "      <td>0.482952</td>\n",
              "      <td>0.591859</td>\n",
              "      <td>0.902778</td>\n",
              "      <td>00:00</td>\n",
              "    </tr>\n",
              "    <tr>\n",
              "      <td>16</td>\n",
              "      <td>0.479440</td>\n",
              "      <td>0.577747</td>\n",
              "      <td>0.916667</td>\n",
              "      <td>00:00</td>\n",
              "    </tr>\n",
              "    <tr>\n",
              "      <td>17</td>\n",
              "      <td>0.475253</td>\n",
              "      <td>0.589636</td>\n",
              "      <td>0.916667</td>\n",
              "      <td>00:00</td>\n",
              "    </tr>\n",
              "    <tr>\n",
              "      <td>18</td>\n",
              "      <td>0.471997</td>\n",
              "      <td>0.592751</td>\n",
              "      <td>0.902778</td>\n",
              "      <td>00:00</td>\n",
              "    </tr>\n",
              "    <tr>\n",
              "      <td>19</td>\n",
              "      <td>0.468976</td>\n",
              "      <td>0.589143</td>\n",
              "      <td>0.916667</td>\n",
              "      <td>00:00</td>\n",
              "    </tr>\n",
              "  </tbody>\n",
              "</table>"
            ],
            "text/plain": [
              "<IPython.core.display.HTML object>"
            ]
          },
          "metadata": {
            "tags": []
          },
          "output_type": "display_data"
        }
      ],
      "source": [
        "#lr_max=1e-3\n",
        "epochs=30; lr_max=lr_steep;  pct_start=.7; moms=(0.95,0.85,0.95); wd=1e-2\n",
        "learn.fit_one_cycle(epochs, lr_max=lr_max, pct_start=pct_start,  moms=moms, wd=wd)\n",
        "# learn.fit_one_cycle(epochs, lr_max=lr_steep)"
      ]
    },
    {
      "cell_type": "code",
      "execution_count": 45,
      "metadata": {
        "colab": {
          "base_uri": "https://localhost:8080/",
          "height": 265
        },
        "colab_type": "code",
        "id": "CygMoZxUwHMR",
        "outputId": "f43a96d3-2654-4f4a-cdf6-c31fa38386db"
      },
      "outputs": [
        {
          "data": {
            "image/png": "[encoded data removed]",
            "text/plain": [
              "<Figure size 432x288 with 1 Axes>"
            ]
          },
          "metadata": {
            "tags": []
          },
          "output_type": "display_data"
        }
      ],
      "source": [
        "learn.recorder.plot_loss()"
      ]
    },
    {
      "cell_type": "code",
      "execution_count": 0,
      "metadata": {
        "colab": {},
        "colab_type": "code",
        "id": "rzUQcWHFwMNY"
      },
      "outputs": [],
      "source": [
        ""
      ]
    }
  ]
}