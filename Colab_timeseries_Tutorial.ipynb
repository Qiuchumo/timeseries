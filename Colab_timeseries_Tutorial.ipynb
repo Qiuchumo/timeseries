{
  "nbformat": 4,
  "nbformat_minor": 0,
  "metadata": {
    "kernelspec": {
      "name": "python3",
      "display_name": "Python 3"
    },
    "colab": {
      "name": "Colab_timeseries_Tutorial.ipynb",
      "provenance": []
    },
    "accelerator": "GPU"
  },
  "cells": [
    {
      "cell_type": "markdown",
      "metadata": {
        "id": "PxhukBamKh0g",
        "colab_type": "text"
      },
      "source": [
        "<a href=\"https://colab.research.google.com/github/ai-fast-track/timeseries/blob/master/Colab_timeseries_Tutorial.ipynb\" target=\"_parent\"><img src=\"https://colab.research.google.com/assets/colab-badge.svg\" alt=\"Open In Colab\"/></a>"
      ]
    },
    {
      "cell_type": "markdown",
      "metadata": {
        "id": "O5inG8mfKh0i",
        "colab_type": "text"
      },
      "source": [
        "# Tutorial - timeseries package for fastai v2"
      ]
    },
    {
      "cell_type": "code",
      "metadata": {
        "id": "CZMS7mE6Oa8j",
        "colab_type": "code",
        "colab": {}
      },
      "source": [
        "!pip install git+https://github.com/fastai/fastai2.git"
      ],
      "execution_count": 0,
      "outputs": []
    },
    {
      "cell_type": "code",
      "metadata": {
        "id": "cy0x4WlpKh0m",
        "colab_type": "code",
        "colab": {}
      },
      "source": [
        "!pip install git+https://github.com/ai-fast-track/timeseries.git"
      ],
      "execution_count": 0,
      "outputs": []
    },
    {
      "cell_type": "code",
      "metadata": {
        "id": "t1vIln5yKh0r",
        "colab_type": "code",
        "colab": {}
      },
      "source": [
        "%reload_ext autoreload\n",
        "%autoreload 2\n",
        "%matplotlib inline"
      ],
      "execution_count": 0,
      "outputs": []
    },
    {
      "cell_type": "code",
      "metadata": {
        "id": "4gs1sUJgKh0w",
        "colab_type": "code",
        "colab": {}
      },
      "source": [
        "from fastai2.basics import *\n",
        "from timeseries.all import *"
      ],
      "execution_count": 0,
      "outputs": []
    },
    {
      "cell_type": "code",
      "metadata": {
        "id": "Ru8lMnVKKh00",
        "colab_type": "code",
        "colab": {}
      },
      "source": [
        "dsname =  'NATOPS' #'NATOPS', 'LSST', 'Wine', 'Epilepsy', 'HandMovementDirection'"
      ],
      "execution_count": 0,
      "outputs": []
    },
    {
      "cell_type": "code",
      "metadata": {
        "id": "WQHcdN5pKh02",
        "colab_type": "code",
        "outputId": "469734e3-a264-4e85-89a9-6b03e729680e",
        "colab": {
          "base_uri": "https://localhost:8080/",
          "height": 35
        }
      },
      "source": [
        "# url = 'http://www.timeseriesclassification.com/Downloads/NATOPS.zip'\n",
        "path = unzip_data(URLs_TS.NATOPS)\n",
        "path"
      ],
      "execution_count": 9,
      "outputs": [
        {
          "output_type": "display_data",
          "data": {
            "text/html": [
              ""
            ],
            "text/plain": [
              "<IPython.core.display.HTML object>"
            ]
          },
          "metadata": {
            "tags": []
          }
        },
        {
          "output_type": "execute_result",
          "data": {
            "text/plain": [
              "Path('/root/.fastai/data/NATOPS')"
            ]
          },
          "metadata": {
            "tags": []
          },
          "execution_count": 9
        }
      ]
    },
    {
      "cell_type": "code",
      "metadata": {
        "id": "2PNkPTL3Kh07",
        "colab_type": "code",
        "outputId": "2dcf69a8-2c29-4a63-9754-89da258ff1e0",
        "colab": {
          "base_uri": "https://localhost:8080/",
          "height": 52
        }
      },
      "source": [
        "fname_train = f'{dsname}_TRAIN.arff'\n",
        "fname_test = f'{dsname}_TEST.arff'\n",
        "fnames = [path/fname_train, path/fname_test]\n",
        "fnames"
      ],
      "execution_count": 10,
      "outputs": [
        {
          "output_type": "execute_result",
          "data": {
            "text/plain": [
              "[Path('/root/.fastai/data/NATOPS/NATOPS_TRAIN.arff'),\n",
              " Path('/root/.fastai/data/NATOPS/NATOPS_TEST.arff')]"
            ]
          },
          "metadata": {
            "tags": []
          },
          "execution_count": 10
        }
      ]
    },
    {
      "cell_type": "code",
      "metadata": {
        "id": "--mboJcKKh0-",
        "colab_type": "code",
        "outputId": "4b0032ec-7069-44a2-88d1-793e9fde5c8f",
        "colab": {
          "base_uri": "https://localhost:8080/",
          "height": 159
        }
      },
      "source": [
        "data = TSData()\n",
        "train_x, train_y = data.load(fnames)\n",
        "print(data)"
      ],
      "execution_count": 11,
      "outputs": [
        {
          "output_type": "stream",
          "text": [
            "TSData:\n",
            " Datasets names (concatenated): ['NATOPS_TRAIN', 'NATOPS_TEST']\n",
            " Filenames:                     [Path('/root/.fastai/data/NATOPS/NATOPS_TRAIN.arff'), Path('/root/.fastai/data/NATOPS/NATOPS_TEST.arff')]\n",
            " Data shape: (360, 24, 51)\n",
            " Targets shape: (360,)\n",
            " Nb Samples: 360\n",
            " Nb Channels:           24\n",
            " Sequence Length: 51\n"
          ],
          "name": "stdout"
        }
      ]
    },
    {
      "cell_type": "code",
      "metadata": {
        "id": "SvQRk2UwKh1A",
        "colab_type": "code",
        "colab": {}
      },
      "source": [
        "items = data.get_items()"
      ],
      "execution_count": 0,
      "outputs": []
    },
    {
      "cell_type": "code",
      "metadata": {
        "id": "BhRM8xXdKh1E",
        "colab_type": "code",
        "outputId": "f4dc08ba-c650-4d1c-9ba3-c7143e2efdde",
        "colab": {
          "base_uri": "https://localhost:8080/",
          "height": 52
        }
      },
      "source": [
        "seed = 42\n",
        "splits = RandomSplitter(seed=seed)(range_of(items)) #by default 80% for train split and 20% for valid split are chosen \n",
        "splits"
      ],
      "execution_count": 13,
      "outputs": [
        {
          "output_type": "execute_result",
          "data": {
            "text/plain": [
              "((#288) [304,281,114,329,115,130,338,294,94,310...],\n",
              " (#72) [222,27,96,253,274,35,160,172,302,146...])"
            ]
          },
          "metadata": {
            "tags": []
          },
          "execution_count": 13
        }
      ]
    },
    {
      "cell_type": "code",
      "metadata": {
        "id": "PcMzMiSYKh1H",
        "colab_type": "code",
        "colab": {}
      },
      "source": [
        "bs = 128                            \n",
        "# Normalize at batch time\n",
        "tfm_norm = Normalize(scale_subtype = 'per_sample_per_channel', scale_range=(0, 1)) # per_sample , per_sample_per_channel\n",
        "# tfm_norm = Standardize(scale_subtype = 'per_sample')\n",
        "batch_tfms = [tfm_norm]"
      ],
      "execution_count": 0,
      "outputs": []
    },
    {
      "cell_type": "code",
      "metadata": {
        "id": "gvZXw0nBKh1J",
        "colab_type": "code",
        "outputId": "ef0e379d-ea4c-4aa1-9d01-0d6e179d6c88",
        "colab": {
          "base_uri": "https://localhost:8080/",
          "height": 35
        }
      },
      "source": [
        "default_device()"
      ],
      "execution_count": 15,
      "outputs": [
        {
          "output_type": "execute_result",
          "data": {
            "text/plain": [
              "device(type='cuda', index=0)"
            ]
          },
          "metadata": {
            "tags": []
          },
          "execution_count": 15
        }
      ]
    },
    {
      "cell_type": "code",
      "metadata": {
        "id": "wY0Ynm_bN_mQ",
        "colab_type": "code",
        "colab": {}
      },
      "source": [
        ""
      ],
      "execution_count": 0,
      "outputs": []
    },
    {
      "cell_type": "code",
      "metadata": {
        "id": "qdeO5RuDKh1M",
        "colab_type": "code",
        "colab": {}
      },
      "source": [
        "\n",
        "dls = TSDataLoaders.from_files(fnames=fnames, batch_tfms=batch_tfms, num_workers=0, device=default_device())"
      ],
      "execution_count": 0,
      "outputs": []
    },
    {
      "cell_type": "code",
      "metadata": {
        "id": "4LchbL2gKh1Q",
        "colab_type": "code",
        "outputId": "96c02def-2e8b-4332-e336-13f6384a5b8c",
        "colab": {
          "base_uri": "https://localhost:8080/",
          "height": 657
        }
      },
      "source": [
        "dls.show_batch(max_n=9, chs=range(0,12,3))"
      ],
      "execution_count": 17,
      "outputs": [
        {
          "output_type": "display_data",
          "data": {
            "image/png": "[encoded data removed]",
            "text/plain": [
              "<Figure size 648x648 with 9 Axes>"
            ]
          },
          "metadata": {
            "tags": []
          }
        }
      ]
    },
    {
      "cell_type": "markdown",
      "metadata": {
        "id": "ppkBT6EvKh1T",
        "colab_type": "text"
      },
      "source": [
        "# Train Model"
      ]
    },
    {
      "cell_type": "code",
      "metadata": {
        "id": "07-wpNg-Kh1U",
        "colab_type": "code",
        "outputId": "1b549b19-72f1-4bab-accd-750112ba9eac",
        "colab": {
          "base_uri": "https://localhost:8080/",
          "height": 35
        }
      },
      "source": [
        "# Number of channels (i.e. dimensions in ARFF and TS files jargon)\n",
        "c_in = get_n_channels(dls.train) # data.n_channels\n",
        "# Number of classes\n",
        "c_out= len(dls.vocab) \n",
        "c_in,c_out"
      ],
      "execution_count": 18,
      "outputs": [
        {
          "output_type": "execute_result",
          "data": {
            "text/plain": [
              "(24, 6)"
            ]
          },
          "metadata": {
            "tags": []
          },
          "execution_count": 18
        }
      ]
    },
    {
      "cell_type": "code",
      "metadata": {
        "id": "ZKZ8oCVsKh1X",
        "colab_type": "code",
        "outputId": "765247b4-41d0-4855-dee8-f7d5a06145bb",
        "colab": {
          "base_uri": "https://localhost:8080/",
          "height": 1000
        }
      },
      "source": [
        "model = inception_time(c_in, c_out).to(device=default_device())\n",
        "model"
      ],
      "execution_count": 19,
      "outputs": [
        {
          "output_type": "execute_result",
          "data": {
            "text/plain": [
              "Sequential(\n",
              "  (0): SequentialEx(\n",
              "    (layers): ModuleList(\n",
              "      (0): InceptionModule(\n",
              "        (convs): ModuleList(\n",
              "          (0): Conv1d(24, 32, kernel_size=(39,), stride=(1,), padding=(19,), bias=False)\n",
              "          (1): Conv1d(24, 32, kernel_size=(19,), stride=(1,), padding=(9,), bias=False)\n",
              "          (2): Conv1d(24, 32, kernel_size=(9,), stride=(1,), padding=(4,), bias=False)\n",
              "        )\n",
              "        (maxpool_bottleneck): Sequential(\n",
              "          (0): MaxPool1d(kernel_size=3, stride=1, padding=1, dilation=1, ceil_mode=False)\n",
              "          (1): Conv1d(24, 32, kernel_size=(1,), stride=(1,), bias=False)\n",
              "        )\n",
              "        (bn_relu): Sequential(\n",
              "          (0): BatchNorm1d(128, eps=1e-05, momentum=0.1, affine=True, track_running_stats=True)\n",
              "          (1): ReLU()\n",
              "        )\n",
              "      )\n",
              "    )\n",
              "  )\n",
              "  (1): SequentialEx(\n",
              "    (layers): ModuleList(\n",
              "      (0): InceptionModule(\n",
              "        (bottleneck): Conv1d(128, 32, kernel_size=(1,), stride=(1,))\n",
              "        (convs): ModuleList(\n",
              "          (0): Conv1d(32, 32, kernel_size=(39,), stride=(1,), padding=(19,), bias=False)\n",
              "          (1): Conv1d(32, 32, kernel_size=(19,), stride=(1,), padding=(9,), bias=False)\n",
              "          (2): Conv1d(32, 32, kernel_size=(9,), stride=(1,), padding=(4,), bias=False)\n",
              "        )\n",
              "        (maxpool_bottleneck): Sequential(\n",
              "          (0): MaxPool1d(kernel_size=3, stride=1, padding=1, dilation=1, ceil_mode=False)\n",
              "          (1): Conv1d(128, 32, kernel_size=(1,), stride=(1,), bias=False)\n",
              "        )\n",
              "        (bn_relu): Sequential(\n",
              "          (0): BatchNorm1d(128, eps=1e-05, momentum=0.1, affine=True, track_running_stats=True)\n",
              "          (1): ReLU()\n",
              "        )\n",
              "      )\n",
              "    )\n",
              "  )\n",
              "  (2): SequentialEx(\n",
              "    (layers): ModuleList(\n",
              "      (0): InceptionModule(\n",
              "        (bottleneck): Conv1d(128, 32, kernel_size=(1,), stride=(1,))\n",
              "        (convs): ModuleList(\n",
              "          (0): Conv1d(32, 32, kernel_size=(39,), stride=(1,), padding=(19,), bias=False)\n",
              "          (1): Conv1d(32, 32, kernel_size=(19,), stride=(1,), padding=(9,), bias=False)\n",
              "          (2): Conv1d(32, 32, kernel_size=(9,), stride=(1,), padding=(4,), bias=False)\n",
              "        )\n",
              "        (maxpool_bottleneck): Sequential(\n",
              "          (0): MaxPool1d(kernel_size=3, stride=1, padding=1, dilation=1, ceil_mode=False)\n",
              "          (1): Conv1d(128, 32, kernel_size=(1,), stride=(1,), bias=False)\n",
              "        )\n",
              "        (bn_relu): Sequential(\n",
              "          (0): BatchNorm1d(128, eps=1e-05, momentum=0.1, affine=True, track_running_stats=True)\n",
              "          (1): ReLU()\n",
              "        )\n",
              "      )\n",
              "      (1): Shortcut(\n",
              "        (act_fn): ReLU(inplace=True)\n",
              "        (conv): Conv1d(128, 128, kernel_size=(1,), stride=(1,), bias=False)\n",
              "        (bn): BatchNorm1d(128, eps=1e-05, momentum=0.1, affine=True, track_running_stats=True)\n",
              "      )\n",
              "    )\n",
              "  )\n",
              "  (3): SequentialEx(\n",
              "    (layers): ModuleList(\n",
              "      (0): InceptionModule(\n",
              "        (bottleneck): Conv1d(128, 32, kernel_size=(1,), stride=(1,))\n",
              "        (convs): ModuleList(\n",
              "          (0): Conv1d(32, 32, kernel_size=(39,), stride=(1,), padding=(19,), bias=False)\n",
              "          (1): Conv1d(32, 32, kernel_size=(19,), stride=(1,), padding=(9,), bias=False)\n",
              "          (2): Conv1d(32, 32, kernel_size=(9,), stride=(1,), padding=(4,), bias=False)\n",
              "        )\n",
              "        (maxpool_bottleneck): Sequential(\n",
              "          (0): MaxPool1d(kernel_size=3, stride=1, padding=1, dilation=1, ceil_mode=False)\n",
              "          (1): Conv1d(128, 32, kernel_size=(1,), stride=(1,), bias=False)\n",
              "        )\n",
              "        (bn_relu): Sequential(\n",
              "          (0): BatchNorm1d(128, eps=1e-05, momentum=0.1, affine=True, track_running_stats=True)\n",
              "          (1): ReLU()\n",
              "        )\n",
              "      )\n",
              "    )\n",
              "  )\n",
              "  (4): SequentialEx(\n",
              "    (layers): ModuleList(\n",
              "      (0): InceptionModule(\n",
              "        (bottleneck): Conv1d(128, 32, kernel_size=(1,), stride=(1,))\n",
              "        (convs): ModuleList(\n",
              "          (0): Conv1d(32, 32, kernel_size=(39,), stride=(1,), padding=(19,), bias=False)\n",
              "          (1): Conv1d(32, 32, kernel_size=(19,), stride=(1,), padding=(9,), bias=False)\n",
              "          (2): Conv1d(32, 32, kernel_size=(9,), stride=(1,), padding=(4,), bias=False)\n",
              "        )\n",
              "        (maxpool_bottleneck): Sequential(\n",
              "          (0): MaxPool1d(kernel_size=3, stride=1, padding=1, dilation=1, ceil_mode=False)\n",
              "          (1): Conv1d(128, 32, kernel_size=(1,), stride=(1,), bias=False)\n",
              "        )\n",
              "        (bn_relu): Sequential(\n",
              "          (0): BatchNorm1d(128, eps=1e-05, momentum=0.1, affine=True, track_running_stats=True)\n",
              "          (1): ReLU()\n",
              "        )\n",
              "      )\n",
              "    )\n",
              "  )\n",
              "  (5): SequentialEx(\n",
              "    (layers): ModuleList(\n",
              "      (0): InceptionModule(\n",
              "        (bottleneck): Conv1d(128, 32, kernel_size=(1,), stride=(1,))\n",
              "        (convs): ModuleList(\n",
              "          (0): Conv1d(32, 32, kernel_size=(39,), stride=(1,), padding=(19,), bias=False)\n",
              "          (1): Conv1d(32, 32, kernel_size=(19,), stride=(1,), padding=(9,), bias=False)\n",
              "          (2): Conv1d(32, 32, kernel_size=(9,), stride=(1,), padding=(4,), bias=False)\n",
              "        )\n",
              "        (maxpool_bottleneck): Sequential(\n",
              "          (0): MaxPool1d(kernel_size=3, stride=1, padding=1, dilation=1, ceil_mode=False)\n",
              "          (1): Conv1d(128, 32, kernel_size=(1,), stride=(1,), bias=False)\n",
              "        )\n",
              "        (bn_relu): Sequential(\n",
              "          (0): BatchNorm1d(128, eps=1e-05, momentum=0.1, affine=True, track_running_stats=True)\n",
              "          (1): ReLU()\n",
              "        )\n",
              "      )\n",
              "      (1): Shortcut(\n",
              "        (act_fn): ReLU(inplace=True)\n",
              "        (conv): Conv1d(128, 128, kernel_size=(1,), stride=(1,), bias=False)\n",
              "        (bn): BatchNorm1d(128, eps=1e-05, momentum=0.1, affine=True, track_running_stats=True)\n",
              "      )\n",
              "    )\n",
              "  )\n",
              "  (6): AdaptiveConcatPool1d(\n",
              "    (ap): AdaptiveAvgPool1d(output_size=1)\n",
              "    (mp): AdaptiveMaxPool1d(output_size=1)\n",
              "  )\n",
              "  (7): Flatten(full=False)\n",
              "  (8): Linear(in_features=256, out_features=6, bias=True)\n",
              ")"
            ]
          },
          "metadata": {
            "tags": []
          },
          "execution_count": 19
        }
      ]
    },
    {
      "cell_type": "code",
      "metadata": {
        "id": "HYOGbtqMKh1Z",
        "colab_type": "code",
        "outputId": "92fb4a19-71ad-4474-9f92-5d51916c18db",
        "colab": {
          "base_uri": "https://localhost:8080/",
          "height": 1000
        }
      },
      "source": [
        "#Learner\n",
        "opt_func = partial(Adam, lr=3e-3, wd=0.01)     \n",
        "loss_func = LabelSmoothingCrossEntropy() \n",
        "learn = Learner(dls, model, opt_func=opt_func, loss_func=loss_func, metrics=accuracy)\n",
        "\n",
        "print(learn.summary())"
      ],
      "execution_count": 20,
      "outputs": [
        {
          "output_type": "stream",
          "text": [
            "Sequential (Input shape: ['64 x 24 x 51'])\n",
            "================================================================\n",
            "Layer (type)         Output Shape         Param #    Trainable \n",
            "================================================================\n",
            "Conv1d               64 x 32 x 51         29,952     True      \n",
            "________________________________________________________________\n",
            "Conv1d               64 x 32 x 51         14,592     True      \n",
            "________________________________________________________________\n",
            "Conv1d               64 x 32 x 51         6,912      True      \n",
            "________________________________________________________________\n",
            "MaxPool1d            64 x 24 x 51         0          False     \n",
            "________________________________________________________________\n",
            "Conv1d               64 x 32 x 51         768        True      \n",
            "________________________________________________________________\n",
            "BatchNorm1d          64 x 128 x 51        256        True      \n",
            "________________________________________________________________\n",
            "ReLU                 64 x 128 x 51        0          False     \n",
            "________________________________________________________________\n",
            "Conv1d               64 x 32 x 51         4,128      True      \n",
            "________________________________________________________________\n",
            "Conv1d               64 x 32 x 51         39,936     True      \n",
            "________________________________________________________________\n",
            "Conv1d               64 x 32 x 51         19,456     True      \n",
            "________________________________________________________________\n",
            "Conv1d               64 x 32 x 51         9,216      True      \n",
            "________________________________________________________________\n",
            "MaxPool1d            64 x 128 x 51        0          False     \n",
            "________________________________________________________________\n",
            "Conv1d               64 x 32 x 51         4,096      True      \n",
            "________________________________________________________________\n",
            "BatchNorm1d          64 x 128 x 51        256        True      \n",
            "________________________________________________________________\n",
            "ReLU                 64 x 128 x 51        0          False     \n",
            "________________________________________________________________\n",
            "Conv1d               64 x 32 x 51         4,128      True      \n",
            "________________________________________________________________\n",
            "Conv1d               64 x 32 x 51         39,936     True      \n",
            "________________________________________________________________\n",
            "Conv1d               64 x 32 x 51         19,456     True      \n",
            "________________________________________________________________\n",
            "Conv1d               64 x 32 x 51         9,216      True      \n",
            "________________________________________________________________\n",
            "MaxPool1d            64 x 128 x 51        0          False     \n",
            "________________________________________________________________\n",
            "Conv1d               64 x 32 x 51         4,096      True      \n",
            "________________________________________________________________\n",
            "BatchNorm1d          64 x 128 x 51        256        True      \n",
            "________________________________________________________________\n",
            "ReLU                 64 x 128 x 51        0          False     \n",
            "________________________________________________________________\n",
            "ReLU                 64 x 128 x 51        0          False     \n",
            "________________________________________________________________\n",
            "Conv1d               64 x 128 x 51        16,384     True      \n",
            "________________________________________________________________\n",
            "BatchNorm1d          64 x 128 x 51        256        True      \n",
            "________________________________________________________________\n",
            "Conv1d               64 x 32 x 51         4,128      True      \n",
            "________________________________________________________________\n",
            "Conv1d               64 x 32 x 51         39,936     True      \n",
            "________________________________________________________________\n",
            "Conv1d               64 x 32 x 51         19,456     True      \n",
            "________________________________________________________________\n",
            "Conv1d               64 x 32 x 51         9,216      True      \n",
            "________________________________________________________________\n",
            "MaxPool1d            64 x 128 x 51        0          False     \n",
            "________________________________________________________________\n",
            "Conv1d               64 x 32 x 51         4,096      True      \n",
            "________________________________________________________________\n",
            "BatchNorm1d          64 x 128 x 51        256        True      \n",
            "________________________________________________________________\n",
            "ReLU                 64 x 128 x 51        0          False     \n",
            "________________________________________________________________\n",
            "Conv1d               64 x 32 x 51         4,128      True      \n",
            "________________________________________________________________\n",
            "Conv1d               64 x 32 x 51         39,936     True      \n",
            "________________________________________________________________\n",
            "Conv1d               64 x 32 x 51         19,456     True      \n",
            "________________________________________________________________\n",
            "Conv1d               64 x 32 x 51         9,216      True      \n",
            "________________________________________________________________\n",
            "MaxPool1d            64 x 128 x 51        0          False     \n",
            "________________________________________________________________\n",
            "Conv1d               64 x 32 x 51         4,096      True      \n",
            "________________________________________________________________\n",
            "BatchNorm1d          64 x 128 x 51        256        True      \n",
            "________________________________________________________________\n",
            "ReLU                 64 x 128 x 51        0          False     \n",
            "________________________________________________________________\n",
            "Conv1d               64 x 32 x 51         4,128      True      \n",
            "________________________________________________________________\n",
            "Conv1d               64 x 32 x 51         39,936     True      \n",
            "________________________________________________________________\n",
            "Conv1d               64 x 32 x 51         19,456     True      \n",
            "________________________________________________________________\n",
            "Conv1d               64 x 32 x 51         9,216      True      \n",
            "________________________________________________________________\n",
            "MaxPool1d            64 x 128 x 51        0          False     \n",
            "________________________________________________________________\n",
            "Conv1d               64 x 32 x 51         4,096      True      \n",
            "________________________________________________________________\n",
            "BatchNorm1d          64 x 128 x 51        256        True      \n",
            "________________________________________________________________\n",
            "ReLU                 64 x 128 x 51        0          False     \n",
            "________________________________________________________________\n",
            "ReLU                 64 x 128 x 51        0          False     \n",
            "________________________________________________________________\n",
            "Conv1d               64 x 128 x 51        16,384     True      \n",
            "________________________________________________________________\n",
            "BatchNorm1d          64 x 128 x 51        256        True      \n",
            "________________________________________________________________\n",
            "AdaptiveAvgPool1d    64 x 128 x 1         0          False     \n",
            "________________________________________________________________\n",
            "AdaptiveMaxPool1d    64 x 128 x 1         0          False     \n",
            "________________________________________________________________\n",
            "Flatten              64 x 256             0          False     \n",
            "________________________________________________________________\n",
            "Linear               64 x 6               1,542      True      \n",
            "________________________________________________________________\n",
            "\n",
            "Total params: 472,742\n",
            "Total trainable params: 472,742\n",
            "Total non-trainable params: 0\n",
            "\n",
            "Optimizer used: functools.partial(<function Adam at 0x7ff0135406a8>, lr=0.003, wd=0.01)\n",
            "Loss function: LabelSmoothingCrossEntropy()\n",
            "\n",
            "Callbacks:\n",
            "  - TrainEvalCallback\n",
            "  - Recorder\n",
            "  - ProgressCallback\n"
          ],
          "name": "stdout"
        }
      ]
    },
    {
      "cell_type": "code",
      "metadata": {
        "id": "D6nrwhKdKh1c",
        "colab_type": "code",
        "outputId": "eb9a4715-2c04-42af-9b21-569ecd719d3d",
        "colab": {
          "base_uri": "https://localhost:8080/",
          "height": 305
        }
      },
      "source": [
        "lr_min, lr_steep = learn.lr_find()\n",
        "lr_min, lr_steep"
      ],
      "execution_count": 21,
      "outputs": [
        {
          "output_type": "display_data",
          "data": {
            "text/html": [
              ""
            ],
            "text/plain": [
              "<IPython.core.display.HTML object>"
            ]
          },
          "metadata": {
            "tags": []
          }
        },
        {
          "output_type": "execute_result",
          "data": {
            "text/plain": [
              "(0.004786301031708717, 0.00013182566908653826)"
            ]
          },
          "metadata": {
            "tags": []
          },
          "execution_count": 21
        },
        {
          "output_type": "display_data",
          "data": {
            "image/png": "[encoded data removed]",
            "text/plain": [
              "<Figure size 432x288 with 1 Axes>"
            ]
          },
          "metadata": {
            "tags": []
          }
        }
      ]
    },
    {
      "cell_type": "code",
      "metadata": {
        "id": "I0_XvEd8Kh1e",
        "colab_type": "code",
        "outputId": "ab6bb7f8-2ec4-4492-ae44-ce52b8539a64",
        "colab": {
          "base_uri": "https://localhost:8080/",
          "height": 927
        }
      },
      "source": [
        "#lr_max=1e-3\n",
        "epochs=30; lr_max=lr_steep;  pct_start=.7; moms=(0.95,0.85,0.95); wd=1e-2\n",
        "learn.fit_one_cycle(epochs, lr_max=lr_max, pct_start=pct_start,  moms=moms, wd=wd)\n",
        "# learn.fit_one_cycle(epochs, lr_max=lr_steep)"
      ],
      "execution_count": 22,
      "outputs": [
        {
          "output_type": "display_data",
          "data": {
            "text/html": [
              "<table border=\"1\" class=\"dataframe\">\n",
              "  <thead>\n",
              "    <tr style=\"text-align: left;\">\n",
              "      <th>epoch</th>\n",
              "      <th>train_loss</th>\n",
              "      <th>valid_loss</th>\n",
              "      <th>accuracy</th>\n",
              "      <th>time</th>\n",
              "    </tr>\n",
              "  </thead>\n",
              "  <tbody>\n",
              "    <tr>\n",
              "      <td>0</td>\n",
              "      <td>2.085642</td>\n",
              "      <td>1.791918</td>\n",
              "      <td>0.125000</td>\n",
              "      <td>00:00</td>\n",
              "    </tr>\n",
              "    <tr>\n",
              "      <td>1</td>\n",
              "      <td>2.043559</td>\n",
              "      <td>1.794967</td>\n",
              "      <td>0.194444</td>\n",
              "      <td>00:00</td>\n",
              "    </tr>\n",
              "    <tr>\n",
              "      <td>2</td>\n",
              "      <td>1.991909</td>\n",
              "      <td>1.799924</td>\n",
              "      <td>0.194444</td>\n",
              "      <td>00:00</td>\n",
              "    </tr>\n",
              "    <tr>\n",
              "      <td>3</td>\n",
              "      <td>1.925591</td>\n",
              "      <td>1.806259</td>\n",
              "      <td>0.194444</td>\n",
              "      <td>00:00</td>\n",
              "    </tr>\n",
              "    <tr>\n",
              "      <td>4</td>\n",
              "      <td>1.852706</td>\n",
              "      <td>1.812978</td>\n",
              "      <td>0.194444</td>\n",
              "      <td>00:00</td>\n",
              "    </tr>\n",
              "    <tr>\n",
              "      <td>5</td>\n",
              "      <td>1.765177</td>\n",
              "      <td>1.819556</td>\n",
              "      <td>0.194444</td>\n",
              "      <td>00:00</td>\n",
              "    </tr>\n",
              "    <tr>\n",
              "      <td>6</td>\n",
              "      <td>1.673879</td>\n",
              "      <td>1.812425</td>\n",
              "      <td>0.277778</td>\n",
              "      <td>00:00</td>\n",
              "    </tr>\n",
              "    <tr>\n",
              "      <td>7</td>\n",
              "      <td>1.579683</td>\n",
              "      <td>1.756966</td>\n",
              "      <td>0.305556</td>\n",
              "      <td>00:00</td>\n",
              "    </tr>\n",
              "    <tr>\n",
              "      <td>8</td>\n",
              "      <td>1.485681</td>\n",
              "      <td>1.614773</td>\n",
              "      <td>0.430556</td>\n",
              "      <td>00:00</td>\n",
              "    </tr>\n",
              "    <tr>\n",
              "      <td>9</td>\n",
              "      <td>1.395723</td>\n",
              "      <td>1.369111</td>\n",
              "      <td>0.722222</td>\n",
              "      <td>00:00</td>\n",
              "    </tr>\n",
              "    <tr>\n",
              "      <td>10</td>\n",
              "      <td>1.312880</td>\n",
              "      <td>1.094329</td>\n",
              "      <td>0.791667</td>\n",
              "      <td>00:00</td>\n",
              "    </tr>\n",
              "    <tr>\n",
              "      <td>11</td>\n",
              "      <td>1.235589</td>\n",
              "      <td>0.892115</td>\n",
              "      <td>0.791667</td>\n",
              "      <td>00:00</td>\n",
              "    </tr>\n",
              "    <tr>\n",
              "      <td>12</td>\n",
              "      <td>1.164910</td>\n",
              "      <td>0.782161</td>\n",
              "      <td>0.791667</td>\n",
              "      <td>00:00</td>\n",
              "    </tr>\n",
              "    <tr>\n",
              "      <td>13</td>\n",
              "      <td>1.101884</td>\n",
              "      <td>0.736523</td>\n",
              "      <td>0.791667</td>\n",
              "      <td>00:00</td>\n",
              "    </tr>\n",
              "    <tr>\n",
              "      <td>14</td>\n",
              "      <td>1.047452</td>\n",
              "      <td>0.706980</td>\n",
              "      <td>0.819444</td>\n",
              "      <td>00:00</td>\n",
              "    </tr>\n",
              "    <tr>\n",
              "      <td>15</td>\n",
              "      <td>0.998587</td>\n",
              "      <td>0.699060</td>\n",
              "      <td>0.833333</td>\n",
              "      <td>00:00</td>\n",
              "    </tr>\n",
              "    <tr>\n",
              "      <td>16</td>\n",
              "      <td>0.954212</td>\n",
              "      <td>0.688779</td>\n",
              "      <td>0.819444</td>\n",
              "      <td>00:00</td>\n",
              "    </tr>\n",
              "    <tr>\n",
              "      <td>17</td>\n",
              "      <td>0.914010</td>\n",
              "      <td>0.688116</td>\n",
              "      <td>0.819444</td>\n",
              "      <td>00:00</td>\n",
              "    </tr>\n",
              "    <tr>\n",
              "      <td>18</td>\n",
              "      <td>0.877649</td>\n",
              "      <td>0.689515</td>\n",
              "      <td>0.819444</td>\n",
              "      <td>00:00</td>\n",
              "    </tr>\n",
              "    <tr>\n",
              "      <td>19</td>\n",
              "      <td>0.844675</td>\n",
              "      <td>0.675829</td>\n",
              "      <td>0.833333</td>\n",
              "      <td>00:00</td>\n",
              "    </tr>\n",
              "    <tr>\n",
              "      <td>20</td>\n",
              "      <td>0.812908</td>\n",
              "      <td>0.657271</td>\n",
              "      <td>0.861111</td>\n",
              "      <td>00:00</td>\n",
              "    </tr>\n",
              "    <tr>\n",
              "      <td>21</td>\n",
              "      <td>0.784355</td>\n",
              "      <td>0.684764</td>\n",
              "      <td>0.833333</td>\n",
              "      <td>00:00</td>\n",
              "    </tr>\n",
              "    <tr>\n",
              "      <td>22</td>\n",
              "      <td>0.757966</td>\n",
              "      <td>0.661707</td>\n",
              "      <td>0.861111</td>\n",
              "      <td>00:00</td>\n",
              "    </tr>\n",
              "    <tr>\n",
              "      <td>23</td>\n",
              "      <td>0.733362</td>\n",
              "      <td>0.638581</td>\n",
              "      <td>0.875000</td>\n",
              "      <td>00:00</td>\n",
              "    </tr>\n",
              "    <tr>\n",
              "      <td>24</td>\n",
              "      <td>0.710241</td>\n",
              "      <td>0.650558</td>\n",
              "      <td>0.875000</td>\n",
              "      <td>00:00</td>\n",
              "    </tr>\n",
              "    <tr>\n",
              "      <td>25</td>\n",
              "      <td>0.689038</td>\n",
              "      <td>0.638212</td>\n",
              "      <td>0.888889</td>\n",
              "      <td>00:00</td>\n",
              "    </tr>\n",
              "    <tr>\n",
              "      <td>26</td>\n",
              "      <td>0.670038</td>\n",
              "      <td>0.624372</td>\n",
              "      <td>0.888889</td>\n",
              "      <td>00:00</td>\n",
              "    </tr>\n",
              "    <tr>\n",
              "      <td>27</td>\n",
              "      <td>0.652194</td>\n",
              "      <td>0.617349</td>\n",
              "      <td>0.888889</td>\n",
              "      <td>00:00</td>\n",
              "    </tr>\n",
              "    <tr>\n",
              "      <td>28</td>\n",
              "      <td>0.635801</td>\n",
              "      <td>0.613492</td>\n",
              "      <td>0.888889</td>\n",
              "      <td>00:00</td>\n",
              "    </tr>\n",
              "    <tr>\n",
              "      <td>29</td>\n",
              "      <td>0.620896</td>\n",
              "      <td>0.611419</td>\n",
              "      <td>0.902778</td>\n",
              "      <td>00:00</td>\n",
              "    </tr>\n",
              "  </tbody>\n",
              "</table>"
            ],
            "text/plain": [
              "<IPython.core.display.HTML object>"
            ]
          },
          "metadata": {
            "tags": []
          }
        }
      ]
    },
    {
      "cell_type": "code",
      "metadata": {
        "id": "yrPDIyXPKh1h",
        "colab_type": "code",
        "outputId": "9f800d3b-6c3a-4cd8-c9fc-be4c3eddfdf2",
        "colab": {
          "base_uri": "https://localhost:8080/",
          "height": 265
        }
      },
      "source": [
        "learn.recorder.plot_loss()"
      ],
      "execution_count": 23,
      "outputs": [
        {
          "output_type": "display_data",
          "data": {
            "image/png": "[encoded data removed]",
            "text/plain": [
              "<Figure size 432x288 with 1 Axes>"
            ]
          },
          "metadata": {
            "tags": []
          }
        }
      ]
    },
    {
      "cell_type": "markdown",
      "metadata": {
        "id": "l8FM7KssKh1k",
        "colab_type": "text"
      },
      "source": [
        "<img src=\"https://github.com/ai-fast-track/timeseries/blob/master/images/nature-red-forest-leaves.jpg?raw=1\" width=\"1440\" height=\"840\" alt=\"\"/>"
      ]
    }
  ]
}