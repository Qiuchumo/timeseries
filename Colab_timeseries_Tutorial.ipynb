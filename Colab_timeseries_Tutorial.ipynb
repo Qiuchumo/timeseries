{
  "nbformat": 4,
  "nbformat_minor": 0,
  "metadata": {
    "colab": {
      "name": "Colab - timeseries Tutorial.ipynb",
      "provenance": [],
      "collapsed_sections": [],
      "include_colab_link": true
    },
    "kernelspec": {
      "name": "python3",
      "display_name": "Python 3"
    },
    "accelerator": "GPU"
  },
  "cells": [
    {
      "cell_type": "markdown",
      "metadata": {
        "id": "view-in-github",
        "colab_type": "text"
      },
      "source": [
        "<a href=\"https://colab.research.google.com/github/ai-fast-track/timeseries/blob/master/Colab_timeseries_Tutorial.ipynb\" target=\"_parent\"><img src=\"https://colab.research.google.com/assets/colab-badge.svg\" alt=\"Open In Colab\"/></a>"
      ]
    },
    {
      "cell_type": "markdown",
      "metadata": {
        "colab_type": "text",
        "id": "rxKqtkkOnwgO"
      },
      "source": [
        "# Tutorial - timeseries package for fastai v2"
      ]
    },
    {
      "cell_type": "code",
      "metadata": {
        "id": "pLbRpnEYO1Nc",
        "colab_type": "code",
        "colab": {}
      },
      "source": [
        "#Run once per session\n",
        "import os\n",
        "\n",
        "!pip install -q feather-format kornia pyarrow wandb nbdev fastcore matplotlib pandas requests pyyaml fastprogress>=0.1.22 pillow scikit-learn scipy spacy\n",
        "!pip install torch==1.4.0\n",
        "!pip install torchvision==0.5.0\n",
        "os._exit(00)"
      ],
      "execution_count": 0,
      "outputs": []
    },
    {
      "cell_type": "code",
      "metadata": {
        "id": "qroWfWPaO1Nh",
        "colab_type": "code",
        "colab": {}
      },
      "source": [
        "!pip install git+https://github.com/ai-fast-track/timeseries.git"
      ],
      "execution_count": 0,
      "outputs": []
    },
    {
      "cell_type": "code",
      "metadata": {
        "colab_type": "code",
        "id": "Ah2o8ouGoVbg",
        "colab": {}
      },
      "source": [
        "%reload_ext autoreload\n",
        "%autoreload 2\n",
        "%matplotlib inline"
      ],
      "execution_count": 0,
      "outputs": []
    },
    {
      "cell_type": "code",
      "metadata": {
        "colab_type": "code",
        "id": "nQhjUUL-oaT0",
        "colab": {}
      },
      "source": [
        "from fastai2.basics import *\n",
        "from timeseries.all import *"
      ],
      "execution_count": 0,
      "outputs": []
    },
    {
      "cell_type": "code",
      "metadata": {
        "colab_type": "code",
        "id": "U8pzGDhHoipa",
        "colab": {}
      },
      "source": [
        "dsname =  'NATOPS' #'NATOPS', 'LSST', 'Wine', 'Epilepsy', 'HandMovementDirection'"
      ],
      "execution_count": 0,
      "outputs": []
    },
    {
      "cell_type": "code",
      "metadata": {
        "id": "3WyVqxqwPOTs",
        "colab_type": "code",
        "colab": {
          "base_uri": "https://localhost:8080/",
          "height": 35
        },
        "outputId": "b781318d-8727-4708-ec15-38f1a066c49e"
      },
      "source": [
        "# url = 'http://www.timeseriesclassification.com/Downloads/NATOPS.zip'\n",
        "path = unzip_data(URLs_TS.NATOPS)\n",
        "path"
      ],
      "execution_count": 5,
      "outputs": [
        {
          "output_type": "display_data",
          "data": {
            "text/html": [
              ""
            ],
            "text/plain": [
              "<IPython.core.display.HTML object>"
            ]
          },
          "metadata": {
            "tags": []
          }
        },
        {
          "output_type": "execute_result",
          "data": {
            "text/plain": [
              "Path('/root/.fastai/data/NATOPS')"
            ]
          },
          "metadata": {
            "tags": []
          },
          "execution_count": 5
        }
      ]
    },
    {
      "cell_type": "code",
      "metadata": {
        "colab_type": "code",
        "id": "4AGEbQqsozTe",
        "outputId": "9c093cf4-8491-47ee-850c-88852a2261b5",
        "colab": {
          "base_uri": "https://localhost:8080/",
          "height": 52
        }
      },
      "source": [
        "fname_train = f'{dsname}_TRAIN.arff'\n",
        "fname_test = f'{dsname}_TEST.arff'\n",
        "fnames = [path/fname_train, path/fname_test]\n",
        "fnames"
      ],
      "execution_count": 6,
      "outputs": [
        {
          "output_type": "execute_result",
          "data": {
            "text/plain": [
              "[Path('/root/.fastai/data/NATOPS/NATOPS_TRAIN.arff'),\n",
              " Path('/root/.fastai/data/NATOPS/NATOPS_TEST.arff')]"
            ]
          },
          "metadata": {
            "tags": []
          },
          "execution_count": 6
        }
      ]
    },
    {
      "cell_type": "code",
      "metadata": {
        "colab_type": "code",
        "id": "amV8A4LjppBD",
        "outputId": "5458807e-06bc-48b8-e5c1-cce5043b7ae3",
        "colab": {
          "base_uri": "https://localhost:8080/",
          "height": 159
        }
      },
      "source": [
        "data = TSData()\n",
        "train_x, train_y = data.load(fnames)\n",
        "print(data)"
      ],
      "execution_count": 7,
      "outputs": [
        {
          "output_type": "stream",
          "text": [
            "TSData:\n",
            " Datasets names (concatenated): ['NATOPS_TRAIN', 'NATOPS_TEST']\n",
            " Filenames:                     [Path('/root/.fastai/data/NATOPS/NATOPS_TRAIN.arff'), Path('/root/.fastai/data/NATOPS/NATOPS_TEST.arff')]\n",
            " Data shape: (360, 24, 51)\n",
            " Targets shape: (360,)\n",
            " Nb Samples: 360\n",
            " Nb Channels:           24\n",
            " Sequence Length: 51\n"
          ],
          "name": "stdout"
        }
      ]
    },
    {
      "cell_type": "code",
      "metadata": {
        "colab_type": "code",
        "id": "TnutUuYBtHNy",
        "colab": {}
      },
      "source": [
        "items = data.get_items()"
      ],
      "execution_count": 0,
      "outputs": []
    },
    {
      "cell_type": "code",
      "metadata": {
        "colab_type": "code",
        "id": "pQEOq5n8uNnj",
        "outputId": "b8dfebcb-e147-45ae-c463-3fe8b72db710",
        "colab": {
          "base_uri": "https://localhost:8080/",
          "height": 52
        }
      },
      "source": [
        "seed = 42\n",
        "splits = RandomSplitter(seed=seed)(range_of(items)) #by default 80% for train split and 20% for valid split are chosen \n",
        "splits"
      ],
      "execution_count": 9,
      "outputs": [
        {
          "output_type": "execute_result",
          "data": {
            "text/plain": [
              "((#288) [304,281,114,329,115,130,338,294,94,310...],\n",
              " (#72) [222,27,96,253,274,35,160,172,302,146...])"
            ]
          },
          "metadata": {
            "tags": []
          },
          "execution_count": 9
        }
      ]
    },
    {
      "cell_type": "code",
      "metadata": {
        "colab_type": "code",
        "id": "zMCmPXlHumWd",
        "colab": {}
      },
      "source": [
        "bs = 128                            \n",
        "# Normalize at batch time\n",
        "tfm_norm = Normalize(scale_subtype = 'per_sample_per_channel', scale_range=(0, 1)) # per_sample , per_sample_per_channel\n",
        "# tfm_norm = Standardize(scale_subtype = 'per_sample')                             # per_sample , per_sample_per_channel\n",
        "batch_tfms = [tfm_norm]"
      ],
      "execution_count": 0,
      "outputs": []
    },
    {
      "cell_type": "code",
      "metadata": {
        "colab_type": "code",
        "id": "Gtl0dXdfutfa",
        "outputId": "4e4658b1-3736-47fd-96aa-02cf1de28336",
        "colab": {
          "base_uri": "https://localhost:8080/",
          "height": 35
        }
      },
      "source": [
        "default_device()"
      ],
      "execution_count": 11,
      "outputs": [
        {
          "output_type": "execute_result",
          "data": {
            "text/plain": [
              "device(type='cuda', index=0)"
            ]
          },
          "metadata": {
            "tags": []
          },
          "execution_count": 11
        }
      ]
    },
    {
      "cell_type": "code",
      "metadata": {
        "colab_type": "code",
        "id": "vWEMMHjxuU7s",
        "colab": {}
      },
      "source": [
        "\n",
        "dls = TSDataLoaders.from_files(fnames, batch_tfms=batch_tfms,device=default_device())"
      ],
      "execution_count": 0,
      "outputs": []
    },
    {
      "cell_type": "code",
      "metadata": {
        "colab_type": "code",
        "id": "wAAjT-UduvWi",
        "outputId": "dc469594-e091-4e5f-915f-3827d5f7bbe7",
        "colab": {
          "base_uri": "https://localhost:8080/",
          "height": 657
        }
      },
      "source": [
        "dls.show_batch(max_n=9, chs=range(0,12,3))"
      ],
      "execution_count": 14,
      "outputs": [
        {
          "output_type": "display_data",
          "data": {
            "image/png": "[encoded data removed]",
            "text/plain": [
              "<Figure size 648x648 with 9 Axes>"
            ]
          },
          "metadata": {
            "tags": []
          }
        }
      ]
    },
    {
      "cell_type": "markdown",
      "metadata": {
        "colab_type": "text",
        "id": "zHXe3avCvJpU"
      },
      "source": [
        "# Train Model"
      ]
    },
    {
      "cell_type": "code",
      "metadata": {
        "colab_type": "code",
        "id": "76jOY1N2vR-Z",
        "outputId": "3bc95ef0-19a2-4c5e-b7de-5793a3d8f68c",
        "colab": {
          "base_uri": "https://localhost:8080/",
          "height": 35
        }
      },
      "source": [
        "# Number of channels (i.e. dimensions in ARFF and TS files jargon)\n",
        "c_in = get_n_channels(dls.train) # data.n_channels\n",
        "# Number of classes\n",
        "c_out= len(dls.vocab) \n",
        "c_in,c_out"
      ],
      "execution_count": 15,
      "outputs": [
        {
          "output_type": "execute_result",
          "data": {
            "text/plain": [
              "(24, 6)"
            ]
          },
          "metadata": {
            "tags": []
          },
          "execution_count": 15
        }
      ]
    },
    {
      "cell_type": "code",
      "metadata": {
        "colab_type": "code",
        "id": "5HLR1V4QvSzD",
        "outputId": "1992db18-d9d1-4e82-b715-bf863a621720",
        "colab": {
          "base_uri": "https://localhost:8080/",
          "height": 1000
        }
      },
      "source": [
        "model = inception_time(c_in, c_out).to(device=default_device())\n",
        "model"
      ],
      "execution_count": 16,
      "outputs": [
        {
          "output_type": "execute_result",
          "data": {
            "text/plain": [
              "Sequential(\n",
              "  (0): SequentialEx(\n",
              "    (layers): ModuleList(\n",
              "      (0): InceptionModule(\n",
              "        (convs): ModuleList(\n",
              "          (0): Conv1d(24, 32, kernel_size=(39,), stride=(1,), padding=(19,), bias=False)\n",
              "          (1): Conv1d(24, 32, kernel_size=(19,), stride=(1,), padding=(9,), bias=False)\n",
              "          (2): Conv1d(24, 32, kernel_size=(9,), stride=(1,), padding=(4,), bias=False)\n",
              "        )\n",
              "        (maxpool_bottleneck): Sequential(\n",
              "          (0): MaxPool1d(kernel_size=3, stride=1, padding=1, dilation=1, ceil_mode=False)\n",
              "          (1): Conv1d(24, 32, kernel_size=(1,), stride=(1,), bias=False)\n",
              "        )\n",
              "        (bn_relu): Sequential(\n",
              "          (0): BatchNorm1d(128, eps=1e-05, momentum=0.1, affine=True, track_running_stats=True)\n",
              "          (1): ReLU()\n",
              "        )\n",
              "      )\n",
              "    )\n",
              "  )\n",
              "  (1): SequentialEx(\n",
              "    (layers): ModuleList(\n",
              "      (0): InceptionModule(\n",
              "        (bottleneck): Conv1d(128, 32, kernel_size=(1,), stride=(1,))\n",
              "        (convs): ModuleList(\n",
              "          (0): Conv1d(32, 32, kernel_size=(39,), stride=(1,), padding=(19,), bias=False)\n",
              "          (1): Conv1d(32, 32, kernel_size=(19,), stride=(1,), padding=(9,), bias=False)\n",
              "          (2): Conv1d(32, 32, kernel_size=(9,), stride=(1,), padding=(4,), bias=False)\n",
              "        )\n",
              "        (maxpool_bottleneck): Sequential(\n",
              "          (0): MaxPool1d(kernel_size=3, stride=1, padding=1, dilation=1, ceil_mode=False)\n",
              "          (1): Conv1d(128, 32, kernel_size=(1,), stride=(1,), bias=False)\n",
              "        )\n",
              "        (bn_relu): Sequential(\n",
              "          (0): BatchNorm1d(128, eps=1e-05, momentum=0.1, affine=True, track_running_stats=True)\n",
              "          (1): ReLU()\n",
              "        )\n",
              "      )\n",
              "    )\n",
              "  )\n",
              "  (2): SequentialEx(\n",
              "    (layers): ModuleList(\n",
              "      (0): InceptionModule(\n",
              "        (bottleneck): Conv1d(128, 32, kernel_size=(1,), stride=(1,))\n",
              "        (convs): ModuleList(\n",
              "          (0): Conv1d(32, 32, kernel_size=(39,), stride=(1,), padding=(19,), bias=False)\n",
              "          (1): Conv1d(32, 32, kernel_size=(19,), stride=(1,), padding=(9,), bias=False)\n",
              "          (2): Conv1d(32, 32, kernel_size=(9,), stride=(1,), padding=(4,), bias=False)\n",
              "        )\n",
              "        (maxpool_bottleneck): Sequential(\n",
              "          (0): MaxPool1d(kernel_size=3, stride=1, padding=1, dilation=1, ceil_mode=False)\n",
              "          (1): Conv1d(128, 32, kernel_size=(1,), stride=(1,), bias=False)\n",
              "        )\n",
              "        (bn_relu): Sequential(\n",
              "          (0): BatchNorm1d(128, eps=1e-05, momentum=0.1, affine=True, track_running_stats=True)\n",
              "          (1): ReLU()\n",
              "        )\n",
              "      )\n",
              "      (1): Shortcut(\n",
              "        (act_fn): ReLU(inplace=True)\n",
              "        (conv): Conv1d(128, 128, kernel_size=(1,), stride=(1,), bias=False)\n",
              "        (bn): BatchNorm1d(128, eps=1e-05, momentum=0.1, affine=True, track_running_stats=True)\n",
              "      )\n",
              "    )\n",
              "  )\n",
              "  (3): SequentialEx(\n",
              "    (layers): ModuleList(\n",
              "      (0): InceptionModule(\n",
              "        (bottleneck): Conv1d(128, 32, kernel_size=(1,), stride=(1,))\n",
              "        (convs): ModuleList(\n",
              "          (0): Conv1d(32, 32, kernel_size=(39,), stride=(1,), padding=(19,), bias=False)\n",
              "          (1): Conv1d(32, 32, kernel_size=(19,), stride=(1,), padding=(9,), bias=False)\n",
              "          (2): Conv1d(32, 32, kernel_size=(9,), stride=(1,), padding=(4,), bias=False)\n",
              "        )\n",
              "        (maxpool_bottleneck): Sequential(\n",
              "          (0): MaxPool1d(kernel_size=3, stride=1, padding=1, dilation=1, ceil_mode=False)\n",
              "          (1): Conv1d(128, 32, kernel_size=(1,), stride=(1,), bias=False)\n",
              "        )\n",
              "        (bn_relu): Sequential(\n",
              "          (0): BatchNorm1d(128, eps=1e-05, momentum=0.1, affine=True, track_running_stats=True)\n",
              "          (1): ReLU()\n",
              "        )\n",
              "      )\n",
              "    )\n",
              "  )\n",
              "  (4): SequentialEx(\n",
              "    (layers): ModuleList(\n",
              "      (0): InceptionModule(\n",
              "        (bottleneck): Conv1d(128, 32, kernel_size=(1,), stride=(1,))\n",
              "        (convs): ModuleList(\n",
              "          (0): Conv1d(32, 32, kernel_size=(39,), stride=(1,), padding=(19,), bias=False)\n",
              "          (1): Conv1d(32, 32, kernel_size=(19,), stride=(1,), padding=(9,), bias=False)\n",
              "          (2): Conv1d(32, 32, kernel_size=(9,), stride=(1,), padding=(4,), bias=False)\n",
              "        )\n",
              "        (maxpool_bottleneck): Sequential(\n",
              "          (0): MaxPool1d(kernel_size=3, stride=1, padding=1, dilation=1, ceil_mode=False)\n",
              "          (1): Conv1d(128, 32, kernel_size=(1,), stride=(1,), bias=False)\n",
              "        )\n",
              "        (bn_relu): Sequential(\n",
              "          (0): BatchNorm1d(128, eps=1e-05, momentum=0.1, affine=True, track_running_stats=True)\n",
              "          (1): ReLU()\n",
              "        )\n",
              "      )\n",
              "    )\n",
              "  )\n",
              "  (5): SequentialEx(\n",
              "    (layers): ModuleList(\n",
              "      (0): InceptionModule(\n",
              "        (bottleneck): Conv1d(128, 32, kernel_size=(1,), stride=(1,))\n",
              "        (convs): ModuleList(\n",
              "          (0): Conv1d(32, 32, kernel_size=(39,), stride=(1,), padding=(19,), bias=False)\n",
              "          (1): Conv1d(32, 32, kernel_size=(19,), stride=(1,), padding=(9,), bias=False)\n",
              "          (2): Conv1d(32, 32, kernel_size=(9,), stride=(1,), padding=(4,), bias=False)\n",
              "        )\n",
              "        (maxpool_bottleneck): Sequential(\n",
              "          (0): MaxPool1d(kernel_size=3, stride=1, padding=1, dilation=1, ceil_mode=False)\n",
              "          (1): Conv1d(128, 32, kernel_size=(1,), stride=(1,), bias=False)\n",
              "        )\n",
              "        (bn_relu): Sequential(\n",
              "          (0): BatchNorm1d(128, eps=1e-05, momentum=0.1, affine=True, track_running_stats=True)\n",
              "          (1): ReLU()\n",
              "        )\n",
              "      )\n",
              "      (1): Shortcut(\n",
              "        (act_fn): ReLU(inplace=True)\n",
              "        (conv): Conv1d(128, 128, kernel_size=(1,), stride=(1,), bias=False)\n",
              "        (bn): BatchNorm1d(128, eps=1e-05, momentum=0.1, affine=True, track_running_stats=True)\n",
              "      )\n",
              "    )\n",
              "  )\n",
              "  (6): AdaptiveConcatPool1d(\n",
              "    (ap): AdaptiveAvgPool1d(output_size=1)\n",
              "    (mp): AdaptiveMaxPool1d(output_size=1)\n",
              "  )\n",
              "  (7): Flatten(full=False)\n",
              "  (8): Linear(in_features=256, out_features=6, bias=True)\n",
              ")"
            ]
          },
          "metadata": {
            "tags": []
          },
          "execution_count": 16
        }
      ]
    },
    {
      "cell_type": "code",
      "metadata": {
        "colab_type": "code",
        "id": "JAiO0CfmvblY",
        "outputId": "1af056c2-e1dd-44a7-918d-d6b85cbca8ac",
        "colab": {
          "base_uri": "https://localhost:8080/",
          "height": 1000
        }
      },
      "source": [
        "#Learner\n",
        "opt_func = partial(Adam, lr=3e-3, wd=0.01)     \n",
        "loss_func = LabelSmoothingCrossEntropy() \n",
        "learn = Learner(dls, model, opt_func=opt_func, loss_func=loss_func, metrics=accuracy)\n",
        "\n",
        "print(learn.summary())"
      ],
      "execution_count": 17,
      "outputs": [
        {
          "output_type": "stream",
          "text": [
            "Sequential (Input shape: ['64 x 24 x 51'])\n",
            "================================================================\n",
            "Layer (type)         Output Shape         Param #    Trainable \n",
            "================================================================\n",
            "Conv1d               64 x 32 x 51         29,952     True      \n",
            "________________________________________________________________\n",
            "Conv1d               64 x 32 x 51         14,592     True      \n",
            "________________________________________________________________\n",
            "Conv1d               64 x 32 x 51         6,912      True      \n",
            "________________________________________________________________\n",
            "MaxPool1d            64 x 24 x 51         0          False     \n",
            "________________________________________________________________\n",
            "Conv1d               64 x 32 x 51         768        True      \n",
            "________________________________________________________________\n",
            "BatchNorm1d          64 x 128 x 51        256        True      \n",
            "________________________________________________________________\n",
            "ReLU                 64 x 128 x 51        0          False     \n",
            "________________________________________________________________\n",
            "Conv1d               64 x 32 x 51         4,128      True      \n",
            "________________________________________________________________\n",
            "Conv1d               64 x 32 x 51         39,936     True      \n",
            "________________________________________________________________\n",
            "Conv1d               64 x 32 x 51         19,456     True      \n",
            "________________________________________________________________\n",
            "Conv1d               64 x 32 x 51         9,216      True      \n",
            "________________________________________________________________\n",
            "MaxPool1d            64 x 128 x 51        0          False     \n",
            "________________________________________________________________\n",
            "Conv1d               64 x 32 x 51         4,096      True      \n",
            "________________________________________________________________\n",
            "BatchNorm1d          64 x 128 x 51        256        True      \n",
            "________________________________________________________________\n",
            "ReLU                 64 x 128 x 51        0          False     \n",
            "________________________________________________________________\n",
            "Conv1d               64 x 32 x 51         4,128      True      \n",
            "________________________________________________________________\n",
            "Conv1d               64 x 32 x 51         39,936     True      \n",
            "________________________________________________________________\n",
            "Conv1d               64 x 32 x 51         19,456     True      \n",
            "________________________________________________________________\n",
            "Conv1d               64 x 32 x 51         9,216      True      \n",
            "________________________________________________________________\n",
            "MaxPool1d            64 x 128 x 51        0          False     \n",
            "________________________________________________________________\n",
            "Conv1d               64 x 32 x 51         4,096      True      \n",
            "________________________________________________________________\n",
            "BatchNorm1d          64 x 128 x 51        256        True      \n",
            "________________________________________________________________\n",
            "ReLU                 64 x 128 x 51        0          False     \n",
            "________________________________________________________________\n",
            "ReLU                 64 x 128 x 51        0          False     \n",
            "________________________________________________________________\n",
            "Conv1d               64 x 128 x 51        16,384     True      \n",
            "________________________________________________________________\n",
            "BatchNorm1d          64 x 128 x 51        256        True      \n",
            "________________________________________________________________\n",
            "Conv1d               64 x 32 x 51         4,128      True      \n",
            "________________________________________________________________\n",
            "Conv1d               64 x 32 x 51         39,936     True      \n",
            "________________________________________________________________\n",
            "Conv1d               64 x 32 x 51         19,456     True      \n",
            "________________________________________________________________\n",
            "Conv1d               64 x 32 x 51         9,216      True      \n",
            "________________________________________________________________\n",
            "MaxPool1d            64 x 128 x 51        0          False     \n",
            "________________________________________________________________\n",
            "Conv1d               64 x 32 x 51         4,096      True      \n",
            "________________________________________________________________\n",
            "BatchNorm1d          64 x 128 x 51        256        True      \n",
            "________________________________________________________________\n",
            "ReLU                 64 x 128 x 51        0          False     \n",
            "________________________________________________________________\n",
            "Conv1d               64 x 32 x 51         4,128      True      \n",
            "________________________________________________________________\n",
            "Conv1d               64 x 32 x 51         39,936     True      \n",
            "________________________________________________________________\n",
            "Conv1d               64 x 32 x 51         19,456     True      \n",
            "________________________________________________________________\n",
            "Conv1d               64 x 32 x 51         9,216      True      \n",
            "________________________________________________________________\n",
            "MaxPool1d            64 x 128 x 51        0          False     \n",
            "________________________________________________________________\n",
            "Conv1d               64 x 32 x 51         4,096      True      \n",
            "________________________________________________________________\n",
            "BatchNorm1d          64 x 128 x 51        256        True      \n",
            "________________________________________________________________\n",
            "ReLU                 64 x 128 x 51        0          False     \n",
            "________________________________________________________________\n",
            "Conv1d               64 x 32 x 51         4,128      True      \n",
            "________________________________________________________________\n",
            "Conv1d               64 x 32 x 51         39,936     True      \n",
            "________________________________________________________________\n",
            "Conv1d               64 x 32 x 51         19,456     True      \n",
            "________________________________________________________________\n",
            "Conv1d               64 x 32 x 51         9,216      True      \n",
            "________________________________________________________________\n",
            "MaxPool1d            64 x 128 x 51        0          False     \n",
            "________________________________________________________________\n",
            "Conv1d               64 x 32 x 51         4,096      True      \n",
            "________________________________________________________________\n",
            "BatchNorm1d          64 x 128 x 51        256        True      \n",
            "________________________________________________________________\n",
            "ReLU                 64 x 128 x 51        0          False     \n",
            "________________________________________________________________\n",
            "ReLU                 64 x 128 x 51        0          False     \n",
            "________________________________________________________________\n",
            "Conv1d               64 x 128 x 51        16,384     True      \n",
            "________________________________________________________________\n",
            "BatchNorm1d          64 x 128 x 51        256        True      \n",
            "________________________________________________________________\n",
            "AdaptiveAvgPool1d    64 x 128 x 1         0          False     \n",
            "________________________________________________________________\n",
            "AdaptiveMaxPool1d    64 x 128 x 1         0          False     \n",
            "________________________________________________________________\n",
            "Flatten              64 x 256             0          False     \n",
            "________________________________________________________________\n",
            "Linear               64 x 6               1,542      True      \n",
            "________________________________________________________________\n",
            "\n",
            "Total params: 472,742\n",
            "Total trainable params: 472,742\n",
            "Total non-trainable params: 0\n",
            "\n",
            "Optimizer used: functools.partial(<function Adam at 0x7f4d6de646a8>, lr=0.003, wd=0.01)\n",
            "Loss function: LabelSmoothingCrossEntropy()\n",
            "\n",
            "Callbacks:\n",
            "  - TrainEvalCallback\n",
            "  - Recorder\n",
            "  - ProgressCallback\n"
          ],
          "name": "stdout"
        }
      ]
    },
    {
      "cell_type": "code",
      "metadata": {
        "colab_type": "code",
        "id": "DjES_eRBvyb4",
        "outputId": "1db9e785-d116-4b32-c7ba-0eb6b8a78184",
        "colab": {
          "base_uri": "https://localhost:8080/",
          "height": 300
        }
      },
      "source": [
        "lr_min, lr_steep = learn.lr_find()\n",
        "lr_min, lr_steep"
      ],
      "execution_count": 18,
      "outputs": [
        {
          "output_type": "display_data",
          "data": {
            "text/html": [
              ""
            ],
            "text/plain": [
              "<IPython.core.display.HTML object>"
            ]
          },
          "metadata": {
            "tags": []
          }
        },
        {
          "output_type": "execute_result",
          "data": {
            "text/plain": [
              "(0.025118863582611083, 0.0002290867705596611)"
            ]
          },
          "metadata": {
            "tags": []
          },
          "execution_count": 18
        },
        {
          "output_type": "display_data",
          "data": {
            "image/png": "[encoded data removed]",
            "text/plain": [
              "<Figure size 432x288 with 1 Axes>"
            ]
          },
          "metadata": {
            "tags": []
          }
        }
      ]
    },
    {
      "cell_type": "code",
      "metadata": {
        "colab_type": "code",
        "id": "wMVuLp59v4M0",
        "outputId": "acf0f056-abf5-4766-f375-6db814a3583d",
        "colab": {
          "base_uri": "https://localhost:8080/",
          "height": 927
        }
      },
      "source": [
        "#lr_max=1e-3\n",
        "epochs=30; lr_max=lr_steep;  pct_start=.7; moms=(0.95,0.85,0.95); wd=1e-2\n",
        "learn.fit_one_cycle(epochs, lr_max=lr_max, pct_start=pct_start,  moms=moms, wd=wd)\n",
        "# learn.fit_one_cycle(epochs, lr_max=lr_steep)"
      ],
      "execution_count": 19,
      "outputs": [
        {
          "output_type": "display_data",
          "data": {
            "text/html": [
              "<table border=\"1\" class=\"dataframe\">\n",
              "  <thead>\n",
              "    <tr style=\"text-align: left;\">\n",
              "      <th>epoch</th>\n",
              "      <th>train_loss</th>\n",
              "      <th>valid_loss</th>\n",
              "      <th>accuracy</th>\n",
              "      <th>time</th>\n",
              "    </tr>\n",
              "  </thead>\n",
              "  <tbody>\n",
              "    <tr>\n",
              "      <td>0</td>\n",
              "      <td>2.924320</td>\n",
              "      <td>1.794379</td>\n",
              "      <td>0.180556</td>\n",
              "      <td>00:00</td>\n",
              "    </tr>\n",
              "    <tr>\n",
              "      <td>1</td>\n",
              "      <td>2.803654</td>\n",
              "      <td>1.796317</td>\n",
              "      <td>0.180556</td>\n",
              "      <td>00:00</td>\n",
              "    </tr>\n",
              "    <tr>\n",
              "      <td>2</td>\n",
              "      <td>2.702241</td>\n",
              "      <td>1.798443</td>\n",
              "      <td>0.180556</td>\n",
              "      <td>00:00</td>\n",
              "    </tr>\n",
              "    <tr>\n",
              "      <td>3</td>\n",
              "      <td>2.561157</td>\n",
              "      <td>1.799891</td>\n",
              "      <td>0.180556</td>\n",
              "      <td>00:00</td>\n",
              "    </tr>\n",
              "    <tr>\n",
              "      <td>4</td>\n",
              "      <td>2.414646</td>\n",
              "      <td>1.798824</td>\n",
              "      <td>0.180556</td>\n",
              "      <td>00:00</td>\n",
              "    </tr>\n",
              "    <tr>\n",
              "      <td>5</td>\n",
              "      <td>2.266887</td>\n",
              "      <td>1.790870</td>\n",
              "      <td>0.194444</td>\n",
              "      <td>00:00</td>\n",
              "    </tr>\n",
              "    <tr>\n",
              "      <td>6</td>\n",
              "      <td>2.107610</td>\n",
              "      <td>1.764952</td>\n",
              "      <td>0.194444</td>\n",
              "      <td>00:00</td>\n",
              "    </tr>\n",
              "    <tr>\n",
              "      <td>7</td>\n",
              "      <td>1.948852</td>\n",
              "      <td>1.674365</td>\n",
              "      <td>0.263889</td>\n",
              "      <td>00:00</td>\n",
              "    </tr>\n",
              "    <tr>\n",
              "      <td>8</td>\n",
              "      <td>1.805439</td>\n",
              "      <td>1.443319</td>\n",
              "      <td>0.444444</td>\n",
              "      <td>00:00</td>\n",
              "    </tr>\n",
              "    <tr>\n",
              "      <td>9</td>\n",
              "      <td>1.668670</td>\n",
              "      <td>1.137331</td>\n",
              "      <td>0.750000</td>\n",
              "      <td>00:00</td>\n",
              "    </tr>\n",
              "    <tr>\n",
              "      <td>10</td>\n",
              "      <td>1.547955</td>\n",
              "      <td>0.881770</td>\n",
              "      <td>0.847222</td>\n",
              "      <td>00:00</td>\n",
              "    </tr>\n",
              "    <tr>\n",
              "      <td>11</td>\n",
              "      <td>1.443656</td>\n",
              "      <td>0.730112</td>\n",
              "      <td>0.861111</td>\n",
              "      <td>00:00</td>\n",
              "    </tr>\n",
              "    <tr>\n",
              "      <td>12</td>\n",
              "      <td>1.350588</td>\n",
              "      <td>0.666436</td>\n",
              "      <td>0.861111</td>\n",
              "      <td>00:00</td>\n",
              "    </tr>\n",
              "    <tr>\n",
              "      <td>13</td>\n",
              "      <td>1.268107</td>\n",
              "      <td>0.642282</td>\n",
              "      <td>0.847222</td>\n",
              "      <td>00:00</td>\n",
              "    </tr>\n",
              "    <tr>\n",
              "      <td>14</td>\n",
              "      <td>1.195922</td>\n",
              "      <td>0.628041</td>\n",
              "      <td>0.875000</td>\n",
              "      <td>00:00</td>\n",
              "    </tr>\n",
              "    <tr>\n",
              "      <td>15</td>\n",
              "      <td>1.133559</td>\n",
              "      <td>0.626406</td>\n",
              "      <td>0.861111</td>\n",
              "      <td>00:00</td>\n",
              "    </tr>\n",
              "    <tr>\n",
              "      <td>16</td>\n",
              "      <td>1.077850</td>\n",
              "      <td>0.622611</td>\n",
              "      <td>0.875000</td>\n",
              "      <td>00:00</td>\n",
              "    </tr>\n",
              "    <tr>\n",
              "      <td>17</td>\n",
              "      <td>1.027046</td>\n",
              "      <td>0.610614</td>\n",
              "      <td>0.916667</td>\n",
              "      <td>00:00</td>\n",
              "    </tr>\n",
              "    <tr>\n",
              "      <td>18</td>\n",
              "      <td>0.979843</td>\n",
              "      <td>0.614884</td>\n",
              "      <td>0.861111</td>\n",
              "      <td>00:00</td>\n",
              "    </tr>\n",
              "    <tr>\n",
              "      <td>19</td>\n",
              "      <td>0.936414</td>\n",
              "      <td>0.602766</td>\n",
              "      <td>0.888889</td>\n",
              "      <td>00:00</td>\n",
              "    </tr>\n",
              "    <tr>\n",
              "      <td>20</td>\n",
              "      <td>0.895682</td>\n",
              "      <td>0.601160</td>\n",
              "      <td>0.902778</td>\n",
              "      <td>00:00</td>\n",
              "    </tr>\n",
              "    <tr>\n",
              "      <td>21</td>\n",
              "      <td>0.858023</td>\n",
              "      <td>0.574675</td>\n",
              "      <td>0.930556</td>\n",
              "      <td>00:00</td>\n",
              "    </tr>\n",
              "    <tr>\n",
              "      <td>22</td>\n",
              "      <td>0.823774</td>\n",
              "      <td>0.549872</td>\n",
              "      <td>0.958333</td>\n",
              "      <td>00:00</td>\n",
              "    </tr>\n",
              "    <tr>\n",
              "      <td>23</td>\n",
              "      <td>0.791974</td>\n",
              "      <td>0.669343</td>\n",
              "      <td>0.875000</td>\n",
              "      <td>00:00</td>\n",
              "    </tr>\n",
              "    <tr>\n",
              "      <td>24</td>\n",
              "      <td>0.763060</td>\n",
              "      <td>0.538837</td>\n",
              "      <td>0.958333</td>\n",
              "      <td>00:00</td>\n",
              "    </tr>\n",
              "    <tr>\n",
              "      <td>25</td>\n",
              "      <td>0.737203</td>\n",
              "      <td>0.533858</td>\n",
              "      <td>0.958333</td>\n",
              "      <td>00:00</td>\n",
              "    </tr>\n",
              "    <tr>\n",
              "      <td>26</td>\n",
              "      <td>0.712059</td>\n",
              "      <td>0.537256</td>\n",
              "      <td>0.958333</td>\n",
              "      <td>00:00</td>\n",
              "    </tr>\n",
              "    <tr>\n",
              "      <td>27</td>\n",
              "      <td>0.690148</td>\n",
              "      <td>0.521906</td>\n",
              "      <td>0.958333</td>\n",
              "      <td>00:00</td>\n",
              "    </tr>\n",
              "    <tr>\n",
              "      <td>28</td>\n",
              "      <td>0.670072</td>\n",
              "      <td>0.515181</td>\n",
              "      <td>0.972222</td>\n",
              "      <td>00:00</td>\n",
              "    </tr>\n",
              "    <tr>\n",
              "      <td>29</td>\n",
              "      <td>0.651038</td>\n",
              "      <td>0.514836</td>\n",
              "      <td>0.972222</td>\n",
              "      <td>00:00</td>\n",
              "    </tr>\n",
              "  </tbody>\n",
              "</table>"
            ],
            "text/plain": [
              "<IPython.core.display.HTML object>"
            ]
          },
          "metadata": {
            "tags": []
          }
        }
      ]
    },
    {
      "cell_type": "code",
      "metadata": {
        "colab_type": "code",
        "id": "CygMoZxUwHMR",
        "outputId": "e25dc37c-195e-4cf5-830d-d75ba02a02dd",
        "colab": {
          "base_uri": "https://localhost:8080/",
          "height": 268
        }
      },
      "source": [
        "learn.recorder.plot_loss()"
      ],
      "execution_count": 20,
      "outputs": [
        {
          "output_type": "display_data",
          "data": {
            "image/png": "[encoded data removed]",
            "text/plain": [
              "<Figure size 432x288 with 1 Axes>"
            ]
          },
          "metadata": {
            "tags": []
          }
        }
      ]
    }
  ]
}